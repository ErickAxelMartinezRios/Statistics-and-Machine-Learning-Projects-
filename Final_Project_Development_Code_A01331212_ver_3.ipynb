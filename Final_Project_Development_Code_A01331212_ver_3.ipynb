{
  "nbformat": 4,
  "nbformat_minor": 0,
  "metadata": {
    "colab": {
      "name": "Final_Project_Development_Code_A01331212_ver_3.ipynb",
      "provenance": [],
      "collapsed_sections": []
    },
    "kernelspec": {
      "name": "python3",
      "display_name": "Python 3"
    }
  },
  "cells": [
    {
      "cell_type": "markdown",
      "metadata": {
        "id": "c7CN1KdyzYZN"
      },
      "source": [
        "\n",
        "\n",
        "*   Erick Axel Martinez Rios \n",
        "*   November 20th, 2020 \n",
        "*   Final Project Applied Computing \n",
        "*   Code for the selection of the final model \n",
        "\n",
        "\n",
        "\n"
      ]
    },
    {
      "cell_type": "markdown",
      "metadata": {
        "id": "zzj1uhWnHg-r"
      },
      "source": [
        "This is code was for the selection of the final model "
      ]
    },
    {
      "cell_type": "markdown",
      "metadata": {
        "id": "CaVG0Z2lUNZK"
      },
      "source": [
        "Import CSV file "
      ]
    },
    {
      "cell_type": "code",
      "metadata": {
        "id": "_8_Ct2i-T2yl",
        "colab": {
          "resources": {
            "http://localhost:8080/nbextensions/google.colab/files.js": {
              "data": "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",
              "ok": true,
              "headers": [
                [
                  "content-type",
                  "application/javascript"
                ]
              ],
              "status": 200,
              "status_text": ""
            }
          },
          "base_uri": "https://localhost:8080/",
          "height": 72
        },
        "outputId": "771a104c-a08a-411e-ad07-e1c13160bc82"
      },
      "source": [
        "from google.colab import files\n",
        "uploaded = files.upload()"
      ],
      "execution_count": 1,
      "outputs": [
        {
          "output_type": "display_data",
          "data": {
            "text/html": [
              "\n",
              "     <input type=\"file\" id=\"files-2f1317cf-8588-4be5-87e9-444acaed9a10\" name=\"files[]\" multiple disabled\n",
              "        style=\"border:none\" />\n",
              "     <output id=\"result-2f1317cf-8588-4be5-87e9-444acaed9a10\">\n",
              "      Upload widget is only available when the cell has been executed in the\n",
              "      current browser session. Please rerun this cell to enable.\n",
              "      </output>\n",
              "      <script src=\"/nbextensions/google.colab/files.js\"></script> "
            ],
            "text/plain": [
              "<IPython.core.display.HTML object>"
            ]
          },
          "metadata": {
            "tags": []
          }
        },
        {
          "output_type": "stream",
          "text": [
            "Saving data.csv to data.csv\n"
          ],
          "name": "stdout"
        }
      ]
    },
    {
      "cell_type": "markdown",
      "metadata": {
        "id": "iGKCsmk7URFn"
      },
      "source": [
        "Import Libraries and Save CSV file data into a pandas Data Frame "
      ]
    },
    {
      "cell_type": "code",
      "metadata": {
        "id": "JDYafPBCUg5d",
        "colab": {
          "base_uri": "https://localhost:8080/"
        },
        "outputId": "981cf0e5-a0d1-489c-9dec-e376a15cde23"
      },
      "source": [
        "import io\n",
        "import numpy as np #Library to manage arrays \n",
        "import pandas as pd #Lirary for mange dataframes \n",
        "import matplotlib.pyplot as plt # Library to make plots. \n",
        "#Import csv into a dataframe \n",
        "df = pd.read_csv(io.BytesIO(uploaded['data.csv'])) \n",
        "print(\"Complete Data shape:\", df.shape) \n",
        "print(\"Data shape withput NA values\",df.dropna().shape)"
      ],
      "execution_count": 2,
      "outputs": [
        {
          "output_type": "stream",
          "text": [
            "Complete Data shape: (5144, 145)\n",
            "Data shape withput NA values (3202, 145)\n"
          ],
          "name": "stdout"
        }
      ]
    },
    {
      "cell_type": "markdown",
      "metadata": {
        "id": "bCywCoO8Unm5"
      },
      "source": [
        "Count the number of NA values on each variable "
      ]
    },
    {
      "cell_type": "code",
      "metadata": {
        "id": "GvVcNaICUuXw",
        "colab": {
          "base_uri": "https://localhost:8080/"
        },
        "outputId": "449d53c1-6a02-482f-a474-116552dc3e77"
      },
      "source": [
        "columns_na = df.isnull().sum(axis = 0)\n",
        "pd.set_option('display.max_rows', None)\n",
        "columns_na"
      ],
      "execution_count": 3,
      "outputs": [
        {
          "output_type": "execute_result",
          "data": {
            "text/plain": [
              "R_fighter                          0\n",
              "B_fighter                          0\n",
              "Referee                           23\n",
              "date                               0\n",
              "location                           0\n",
              "Winner                             0\n",
              "title_bout                         0\n",
              "weight_class                       0\n",
              "no_of_rounds                       0\n",
              "B_current_lose_streak              0\n",
              "B_current_win_streak               0\n",
              "B_draw                             0\n",
              "B_avg_BODY_att                  1265\n",
              "B_avg_BODY_landed               1265\n",
              "B_avg_CLINCH_att                1265\n",
              "B_avg_CLINCH_landed             1265\n",
              "B_avg_DISTANCE_att              1265\n",
              "B_avg_DISTANCE_landed           1265\n",
              "B_avg_GROUND_att                1265\n",
              "B_avg_GROUND_landed             1265\n",
              "B_avg_HEAD_att                  1265\n",
              "B_avg_HEAD_landed               1265\n",
              "B_avg_KD                        1265\n",
              "B_avg_LEG_att                   1265\n",
              "B_avg_LEG_landed                1265\n",
              "B_avg_PASS                      1265\n",
              "B_avg_REV                       1265\n",
              "B_avg_SIG_STR_att               1265\n",
              "B_avg_SIG_STR_landed            1265\n",
              "B_avg_SIG_STR_pct               1265\n",
              "B_avg_SUB_ATT                   1265\n",
              "B_avg_TD_att                    1265\n",
              "B_avg_TD_landed                 1265\n",
              "B_avg_TD_pct                    1265\n",
              "B_avg_TOTAL_STR_att             1265\n",
              "B_avg_TOTAL_STR_landed          1265\n",
              "B_longest_win_streak               0\n",
              "B_losses                           0\n",
              "B_avg_opp_BODY_att              1265\n",
              "B_avg_opp_BODY_landed           1265\n",
              "B_avg_opp_CLINCH_att            1265\n",
              "B_avg_opp_CLINCH_landed         1265\n",
              "B_avg_opp_DISTANCE_att          1265\n",
              "B_avg_opp_DISTANCE_landed       1265\n",
              "B_avg_opp_GROUND_att            1265\n",
              "B_avg_opp_GROUND_landed         1265\n",
              "B_avg_opp_HEAD_att              1265\n",
              "B_avg_opp_HEAD_landed           1265\n",
              "B_avg_opp_KD                    1265\n",
              "B_avg_opp_LEG_att               1265\n",
              "B_avg_opp_LEG_landed            1265\n",
              "B_avg_opp_PASS                  1265\n",
              "B_avg_opp_REV                   1265\n",
              "B_avg_opp_SIG_STR_att           1265\n",
              "B_avg_opp_SIG_STR_landed        1265\n",
              "B_avg_opp_SIG_STR_pct           1265\n",
              "B_avg_opp_SUB_ATT               1265\n",
              "B_avg_opp_TD_att                1265\n",
              "B_avg_opp_TD_landed             1265\n",
              "B_avg_opp_TD_pct                1265\n",
              "B_avg_opp_TOTAL_STR_att         1265\n",
              "B_avg_opp_TOTAL_STR_landed      1265\n",
              "B_total_rounds_fought              0\n",
              "B_total_time_fought(seconds)    1265\n",
              "B_total_title_bouts                0\n",
              "B_win_by_Decision_Majority         0\n",
              "B_win_by_Decision_Split            0\n",
              "B_win_by_Decision_Unanimous        0\n",
              "B_win_by_KO/TKO                    0\n",
              "B_win_by_Submission                0\n",
              "B_win_by_TKO_Doctor_Stoppage       0\n",
              "B_wins                             0\n",
              "B_Stance                         159\n",
              "B_Height_cms                       8\n",
              "B_Reach_cms                      666\n",
              "B_Weight_lbs                       6\n",
              "R_current_lose_streak              0\n",
              "R_current_win_streak               0\n",
              "R_draw                             0\n",
              "R_avg_BODY_att                   650\n",
              "R_avg_BODY_landed                650\n",
              "R_avg_CLINCH_att                 650\n",
              "R_avg_CLINCH_landed              650\n",
              "R_avg_DISTANCE_att               650\n",
              "R_avg_DISTANCE_landed            650\n",
              "R_avg_GROUND_att                 650\n",
              "R_avg_GROUND_landed              650\n",
              "R_avg_HEAD_att                   650\n",
              "R_avg_HEAD_landed                650\n",
              "R_avg_KD                         650\n",
              "R_avg_LEG_att                    650\n",
              "R_avg_LEG_landed                 650\n",
              "R_avg_PASS                       650\n",
              "R_avg_REV                        650\n",
              "R_avg_SIG_STR_att                650\n",
              "R_avg_SIG_STR_landed             650\n",
              "R_avg_SIG_STR_pct                650\n",
              "R_avg_SUB_ATT                    650\n",
              "R_avg_TD_att                     650\n",
              "R_avg_TD_landed                  650\n",
              "R_avg_TD_pct                     650\n",
              "R_avg_TOTAL_STR_att              650\n",
              "R_avg_TOTAL_STR_landed           650\n",
              "R_longest_win_streak               0\n",
              "R_losses                           0\n",
              "R_avg_opp_BODY_att               650\n",
              "R_avg_opp_BODY_landed            650\n",
              "R_avg_opp_CLINCH_att             650\n",
              "R_avg_opp_CLINCH_landed          650\n",
              "R_avg_opp_DISTANCE_att           650\n",
              "R_avg_opp_DISTANCE_landed        650\n",
              "R_avg_opp_GROUND_att             650\n",
              "R_avg_opp_GROUND_landed          650\n",
              "R_avg_opp_HEAD_att               650\n",
              "R_avg_opp_HEAD_landed            650\n",
              "R_avg_opp_KD                     650\n",
              "R_avg_opp_LEG_att                650\n",
              "R_avg_opp_LEG_landed             650\n",
              "R_avg_opp_PASS                   650\n",
              "R_avg_opp_REV                    650\n",
              "R_avg_opp_SIG_STR_att            650\n",
              "R_avg_opp_SIG_STR_landed         650\n",
              "R_avg_opp_SIG_STR_pct            650\n",
              "R_avg_opp_SUB_ATT                650\n",
              "R_avg_opp_TD_att                 650\n",
              "R_avg_opp_TD_landed              650\n",
              "R_avg_opp_TD_pct                 650\n",
              "R_avg_opp_TOTAL_STR_att          650\n",
              "R_avg_opp_TOTAL_STR_landed       650\n",
              "R_total_rounds_fought              0\n",
              "R_total_time_fought(seconds)     650\n",
              "R_total_title_bouts                0\n",
              "R_win_by_Decision_Majority         0\n",
              "R_win_by_Decision_Split            0\n",
              "R_win_by_Decision_Unanimous        0\n",
              "R_win_by_KO/TKO                    0\n",
              "R_win_by_Submission                0\n",
              "R_win_by_TKO_Doctor_Stoppage       0\n",
              "R_wins                             0\n",
              "R_Stance                         134\n",
              "R_Height_cms                       4\n",
              "R_Reach_cms                      316\n",
              "R_Weight_lbs                       3\n",
              "B_age                            172\n",
              "R_age                             64\n",
              "dtype: int64"
            ]
          },
          "metadata": {
            "tags": []
          },
          "execution_count": 3
        }
      ]
    },
    {
      "cell_type": "markdown",
      "metadata": {
        "id": "8NDYYmFRa7uF"
      },
      "source": [
        "Remove NA values from the database "
      ]
    },
    {
      "cell_type": "code",
      "metadata": {
        "id": "DmXL9BTNU2_g",
        "colab": {
          "base_uri": "https://localhost:8080/"
        },
        "outputId": "5acd9a7b-dc41-4b5c-a7ea-6abb984c8780"
      },
      "source": [
        "df_n = df.dropna(axis = 0, how ='any') \n",
        "print(df_n.shape)"
      ],
      "execution_count": 4,
      "outputs": [
        {
          "output_type": "stream",
          "text": [
            "(3202, 145)\n"
          ],
          "name": "stdout"
        }
      ]
    },
    {
      "cell_type": "code",
      "metadata": {
        "id": "dfyUmBi1uZGi",
        "colab": {
          "base_uri": "https://localhost:8080/"
        },
        "outputId": "ccdc2b5b-3cad-4634-bfa7-742635959386"
      },
      "source": [
        "df_n.info()"
      ],
      "execution_count": 5,
      "outputs": [
        {
          "output_type": "stream",
          "text": [
            "<class 'pandas.core.frame.DataFrame'>\n",
            "Int64Index: 3202 entries, 0 to 5008\n",
            "Columns: 145 entries, R_fighter to R_age\n",
            "dtypes: bool(1), float64(134), int64(1), object(9)\n",
            "memory usage: 3.5+ MB\n"
          ],
          "name": "stdout"
        }
      ]
    },
    {
      "cell_type": "markdown",
      "metadata": {
        "id": "6g_og7jmbAZf"
      },
      "source": [
        "Percentage representation of class in the target variable "
      ]
    },
    {
      "cell_type": "code",
      "metadata": {
        "id": "nRn6rhrqU6j4",
        "colab": {
          "base_uri": "https://localhost:8080/",
          "height": 368
        },
        "outputId": "0e8f1006-f8fc-47d5-8728-ecccf9afc0b0"
      },
      "source": [
        "classes = df_n['Winner'].value_counts()\n",
        "print(classes)\n",
        "print(classes.index.values)\n",
        "ax = classes.plot.bar(rot = 0, color=[\"red\", \"blue\", \"green\"])\n",
        "for p in ax.patches:\n",
        "    ax.annotate(str(p.get_height()), (p.get_x() * 1.005, p.get_height() * 1.005))\n",
        "ax.set_ylabel(\"Counts\")\n",
        "    "
      ],
      "execution_count": 6,
      "outputs": [
        {
          "output_type": "stream",
          "text": [
            "Red     2016\n",
            "Blue    1135\n",
            "Draw      51\n",
            "Name: Winner, dtype: int64\n",
            "['Red' 'Blue' 'Draw']\n"
          ],
          "name": "stdout"
        },
        {
          "output_type": "execute_result",
          "data": {
            "text/plain": [
              "Text(0, 0.5, 'Counts')"
            ]
          },
          "metadata": {
            "tags": []
          },
          "execution_count": 6
        },
        {
          "output_type": "display_data",
          "data": {
            "image/png": "[encoded data removed]",
            "text/plain": [
              "<Figure size 432x288 with 1 Axes>"
            ]
          },
          "metadata": {
            "tags": [],
            "needs_background": "light"
          }
        }
      ]
    },
    {
      "cell_type": "code",
      "metadata": {
        "id": "bqcqIUT8U9gH",
        "colab": {
          "base_uri": "https://localhost:8080/"
        },
        "outputId": "c74e8e7f-1e7f-4777-e6fa-896315e7ad8d"
      },
      "source": [
        "df_n['Winner'].value_counts(normalize=True)"
      ],
      "execution_count": 7,
      "outputs": [
        {
          "output_type": "execute_result",
          "data": {
            "text/plain": [
              "Red     0.629606\n",
              "Blue    0.354466\n",
              "Draw    0.015928\n",
              "Name: Winner, dtype: float64"
            ]
          },
          "metadata": {
            "tags": []
          },
          "execution_count": 7
        }
      ]
    },
    {
      "cell_type": "markdown",
      "metadata": {
        "id": "-X5Uy9yWbXc3"
      },
      "source": [
        "Process categorical variables "
      ]
    },
    {
      "cell_type": "code",
      "metadata": {
        "id": "QmbvGzPwqlrQ",
        "colab": {
          "base_uri": "https://localhost:8080/"
        },
        "outputId": "66e64544-7805-4615-9202-2b9bba389373"
      },
      "source": [
        "print('R_fighter numbers:',df_n['R_fighter'].value_counts().shape[0])\n",
        "print('B_fighter numbers:',df_n['B_fighter'].value_counts().shape[0])\n",
        "print('Referee numbers:',df_n['Referee'].value_counts().shape[0])\n",
        "print('date:',df_n['date'].value_counts().shape[0])\n",
        "print('location:',df_n['location'].value_counts().shape[0])\n",
        "print('weight_class:',df_n['weight_class'].value_counts().shape[0])\n",
        "print('R_Stance:',df_n['R_Stance'].value_counts().shape[0])\n",
        "print('B_Stance:',df_n['B_Stance'].value_counts().shape[0])"
      ],
      "execution_count": 8,
      "outputs": [
        {
          "output_type": "stream",
          "text": [
            "R_fighter numbers: 875\n",
            "B_fighter numbers: 1048\n",
            "Referee numbers: 166\n",
            "date: 445\n",
            "location: 146\n",
            "weight_class: 13\n",
            "R_Stance: 4\n",
            "B_Stance: 4\n"
          ],
          "name": "stdout"
        }
      ]
    },
    {
      "cell_type": "code",
      "metadata": {
        "id": "YJ4lhY5CVAp_",
        "colab": {
          "base_uri": "https://localhost:8080/"
        },
        "outputId": "1362e543-4d8f-4144-a287-9ac418685452"
      },
      "source": [
        "df_n = df_n.drop(['R_fighter', 'B_fighter', 'Referee', 'date', 'location'], axis=1)\n",
        "#df_n['R_fighter'] = df_n['R_fighter'].astype('category').cat.codes\n",
        "#df_n['B_fighter'] = df_n['B_fighter'].astype('category').cat.codes\n",
        "#df_n['location'] = df_n['location'].astype('category').cat.codes\n",
        "#f_n['Referee'] = df_n['Referee'].astype('category').cat.codes\n",
        "#df_n['date'] = df_n['date'].astype('category').cat.codes\n",
        "df_n['title_bout'] = df_n[\"title_bout\"].astype('category').cat.codes\n",
        "df_n = pd.get_dummies(df_n, columns=['R_Stance', 'B_Stance', 'weight_class'])\n",
        "print(df_n.head())\n",
        "print(df_n.shape)"
      ],
      "execution_count": 9,
      "outputs": [
        {
          "output_type": "stream",
          "text": [
            "  Winner  ...  weight_class_Women's Strawweight\n",
            "0    Red  ...                                 0\n",
            "1    Red  ...                                 0\n",
            "2    Red  ...                                 0\n",
            "3   Blue  ...                                 0\n",
            "4   Blue  ...                                 0\n",
            "\n",
            "[5 rows x 158 columns]\n",
            "(3202, 158)\n"
          ],
          "name": "stdout"
        }
      ]
    },
    {
      "cell_type": "markdown",
      "metadata": {
        "id": "jHOqx6wObdyN"
      },
      "source": [
        "Extract target variable from the database "
      ]
    },
    {
      "cell_type": "code",
      "metadata": {
        "id": "nc5gYPJZVHww",
        "colab": {
          "base_uri": "https://localhost:8080/"
        },
        "outputId": "07a4957c-6ab0-4e89-b020-ca746ca13a9e"
      },
      "source": [
        "df_filtered = df_n\n",
        "# Select input variables and separate target variable \n",
        "features = df_filtered.loc[:,  df_n.columns != 'Winner']\n",
        "print(features.shape)"
      ],
      "execution_count": 10,
      "outputs": [
        {
          "output_type": "stream",
          "text": [
            "(3202, 157)\n"
          ],
          "name": "stdout"
        }
      ]
    },
    {
      "cell_type": "markdown",
      "metadata": {
        "id": "5PVHAtOg__sW"
      },
      "source": [
        "In this next section, the machine learning techniques for supervised learning were tested with all the input variables of the database."
      ]
    },
    {
      "cell_type": "markdown",
      "metadata": {
        "id": "efQvSz1IVnZA"
      },
      "source": [
        "Decision Tree Classifier with all the variables of the database as inputs "
      ]
    },
    {
      "cell_type": "code",
      "metadata": {
        "id": "Hld7RcNSVi54",
        "colab": {
          "base_uri": "https://localhost:8080/"
        },
        "outputId": "34df6935-2035-4628-90d1-ead80c15d1f5"
      },
      "source": [
        "from sklearn.tree import DecisionTreeClassifier # Import Decision Tree Classifier\n",
        "from sklearn.model_selection import train_test_split # Import train_test_split function\n",
        "from sklearn.metrics import classification_report #Library for classification report \n",
        "from sklearn.metrics import confusion_matrix # Library to generate the confusion matrix of the model. \n",
        "# Features and target variable \n",
        "X = features.values\n",
        "y = df_filtered.loc[:,['Winner']].values\n",
        "print(\"Shape of input and output variables data\", \"X:\" ,X.shape, \"y:\" ,y.shape)\n",
        "\n",
        "# Split data in train and test sets \n",
        "X_train, X_test, y_train, y_test = train_test_split(X, y, test_size=0.2, random_state = 1) # 80% training and 20% test\n",
        "\n",
        "# Create Decision Tree classifer object\n",
        "dt = DecisionTreeClassifier( criterion=\"gini\", max_depth= 25)\n",
        "# Train Decision Tree Classifer\n",
        "dt = dt.fit(X_train,y_train)\n",
        "\n",
        "#Predict the response for test dataset\n",
        "print(X_train.shape, X_test.shape)\n",
        "print(\"Accuracy with traning data set for Decision Tree: {:.4f}\".format(dt.score(X_train, y_train)))\n",
        "print(\"Accuracy with test data set for Desicion Tree: {:.4f}\".format(dt.score(X_test, y_test)))\n",
        "pred = dt.predict(X_test)\n",
        "print(confusion_matrix(y_test, pred)) # Print confusion matrix \n",
        "print(classification_report(y_test, pred)) # Print classification report \n",
        "\n",
        "# Generate Classification Report and save it in CSV file\n",
        "report = classification_report(y_test, pred, output_dict=True)\n",
        "report = pd.DataFrame(report).transpose()\n",
        "report.to_csv(\"Report_DT_all.csv\") "
      ],
      "execution_count": 11,
      "outputs": [
        {
          "output_type": "stream",
          "text": [
            "Shape of input and output variables data X: (3202, 157) y: (3202, 1)\n",
            "(2561, 157) (641, 157)\n",
            "Accuracy with traning data set for Decision Tree: 1.0000\n",
            "Accuracy with test data set for Desicion Tree: 0.5788\n",
            "[[ 90   3 130]\n",
            " [  6   0   6]\n",
            " [123   2 281]]\n",
            "              precision    recall  f1-score   support\n",
            "\n",
            "        Blue       0.41      0.40      0.41       223\n",
            "        Draw       0.00      0.00      0.00        12\n",
            "         Red       0.67      0.69      0.68       406\n",
            "\n",
            "    accuracy                           0.58       641\n",
            "   macro avg       0.36      0.37      0.36       641\n",
            "weighted avg       0.57      0.58      0.57       641\n",
            "\n"
          ],
          "name": "stdout"
        }
      ]
    },
    {
      "cell_type": "markdown",
      "metadata": {
        "id": "NF1MfbXv3z34"
      },
      "source": [
        "Clear input and output variables "
      ]
    },
    {
      "cell_type": "code",
      "metadata": {
        "id": "U1S3v6Lo3dKz"
      },
      "source": [
        "del X, X_test, X_train,y, y_test, y_train, dt, pred, report"
      ],
      "execution_count": 12,
      "outputs": []
    },
    {
      "cell_type": "markdown",
      "metadata": {
        "id": "bHJaj64xWnQI"
      },
      "source": [
        "K NN Classifier using all the variables as predictors "
      ]
    },
    {
      "cell_type": "code",
      "metadata": {
        "id": "V_icvzOiV1RI",
        "colab": {
          "base_uri": "https://localhost:8080/"
        },
        "outputId": "4312ba77-4057-4a09-c772-6cd90e90cc1b"
      },
      "source": [
        "from sklearn.model_selection import train_test_split\n",
        "from sklearn.preprocessing import StandardScaler\n",
        "from sklearn.neighbors import KNeighborsClassifier\n",
        "\n",
        "# Input and output variables for the KNN classifier. \n",
        "X = features.values\n",
        "y = df_filtered.loc[:,['Winner']].values\n",
        "print(\"Shape of input and output variables \", \"X:\" ,X.shape, \"y:\" ,y.shape)\n",
        "#Split data in train and test set. \n",
        "\n",
        "X_train, X_test, y_train, y_test = train_test_split(X, y, random_state=0,test_size=0.2)\n",
        "scaler = StandardScaler()\n",
        "X_train = scaler.fit_transform(X_train)\n",
        "X_test = scaler.transform(X_test)\n",
        "\n",
        "#Establish the number of neightbors for the KNN classiier. \n",
        "n_neighbors = 7\n",
        "\n",
        "knn = KNeighborsClassifier(n_neighbors)\n",
        "knn.fit(X_train, y_train.ravel())\n",
        "print('Accuracy of K-NN classifier on training set: {:.4f}'\n",
        "     .format(knn.score(X_train, y_train)))\n",
        "print('Accuracy of K-NN classifier on test set: {:.4f}'\n",
        "     .format(knn.score(X_test, y_test)))\n",
        "\n",
        "pred = knn.predict(X_test)\n",
        "print(confusion_matrix(y_test, pred))\n",
        "print(classification_report(y_test, pred))\n",
        "\n",
        "report = classification_report(y_test, pred, output_dict=True)\n",
        "report = pd.DataFrame(report).transpose()\n",
        "report.to_csv(\"Report_KNN_all.csv\")"
      ],
      "execution_count": 13,
      "outputs": [
        {
          "output_type": "stream",
          "text": [
            "Shape of input and output variables  X: (3202, 157) y: (3202, 1)\n",
            "Accuracy of K-NN classifier on training set: 0.7107\n",
            "Accuracy of K-NN classifier on test set: 0.6209\n",
            "[[ 78   0 152]\n",
            " [  2   0   4]\n",
            " [ 85   0 320]]\n",
            "              precision    recall  f1-score   support\n",
            "\n",
            "        Blue       0.47      0.34      0.39       230\n",
            "        Draw       0.00      0.00      0.00         6\n",
            "         Red       0.67      0.79      0.73       405\n",
            "\n",
            "    accuracy                           0.62       641\n",
            "   macro avg       0.38      0.38      0.37       641\n",
            "weighted avg       0.59      0.62      0.60       641\n",
            "\n"
          ],
          "name": "stdout"
        },
        {
          "output_type": "stream",
          "text": [
            "/usr/local/lib/python3.6/dist-packages/sklearn/metrics/_classification.py:1272: UndefinedMetricWarning: Precision and F-score are ill-defined and being set to 0.0 in labels with no predicted samples. Use `zero_division` parameter to control this behavior.\n",
            "  _warn_prf(average, modifier, msg_start, len(result))\n"
          ],
          "name": "stderr"
        }
      ]
    },
    {
      "cell_type": "markdown",
      "metadata": {
        "id": "uWq85XhPdMpJ"
      },
      "source": [
        "Reset variables"
      ]
    },
    {
      "cell_type": "code",
      "metadata": {
        "id": "Cj_hWr8m4uZU"
      },
      "source": [
        "del X, X_test, X_train,y, y_test, y_train, knn, pred, report"
      ],
      "execution_count": 14,
      "outputs": []
    },
    {
      "cell_type": "markdown",
      "metadata": {
        "id": "21De0LN7WjiI"
      },
      "source": [
        "Support Vector Machine with all the variables as inputs "
      ]
    },
    {
      "cell_type": "code",
      "metadata": {
        "id": "VjP9YLboV9Xa",
        "colab": {
          "base_uri": "https://localhost:8080/"
        },
        "outputId": "fd38c08a-3bf8-456b-8bdb-01ad0be3aba5"
      },
      "source": [
        "# Import train_test_split function\n",
        "from sklearn.model_selection import train_test_split\n",
        "from sklearn.model_selection import GridSearchCV\n",
        "#Import svm model\n",
        "from sklearn import svm\n",
        "\n",
        "X = features.values\n",
        "y = df_filtered.loc[:,['Winner']].values\n",
        "# Split dataset into training set and test set\n",
        "X_train, X_test, y_train, y_test = train_test_split(X, y, test_size=0.2, random_state = 1) # 80% training and 20% test\n",
        "\n",
        "X_train = StandardScaler().fit_transform(X_train)\n",
        "X_test = StandardScaler().fit_transform(X_test)\n",
        "\n",
        "#Create a svm Classifier\n",
        "svc = svm.SVC(kernel='rbf') # Radial Basis Function Kernel \n",
        "#Train the model using the training sets\n",
        "svc.fit(X_train, y_train.ravel())\n",
        "\n",
        "# Model Accuracy: how often is the classifier correct?\n",
        "print('Accuracy of SVM classifier on training set: {:.4f}'\n",
        "     .format(svc.score(X_train, y_train)))\n",
        "print('Accuracy of SVM classifier on test set: {:.4f}'\n",
        "     .format(svc.score(X_test, y_test)))\n",
        "\n",
        "pred = svc.predict(X_test)\n",
        "print(confusion_matrix(y_test, pred))\n",
        "print(classification_report(y_test, pred))\n",
        "\n",
        "report = classification_report(y_test, pred, output_dict=True)\n",
        "report = pd.DataFrame(report).transpose()\n",
        "report.to_csv(\"Report_SVM_all.csv\")"
      ],
      "execution_count": 15,
      "outputs": [
        {
          "output_type": "stream",
          "text": [
            "Accuracy of SVM classifier on training set: 0.7930\n",
            "Accuracy of SVM classifier on test set: 0.6771\n",
            "[[ 60   0 163]\n",
            " [  3   0   9]\n",
            " [ 32   0 374]]\n",
            "              precision    recall  f1-score   support\n",
            "\n",
            "        Blue       0.63      0.27      0.38       223\n",
            "        Draw       0.00      0.00      0.00        12\n",
            "         Red       0.68      0.92      0.79       406\n",
            "\n",
            "    accuracy                           0.68       641\n",
            "   macro avg       0.44      0.40      0.39       641\n",
            "weighted avg       0.65      0.68      0.63       641\n",
            "\n"
          ],
          "name": "stdout"
        },
        {
          "output_type": "stream",
          "text": [
            "/usr/local/lib/python3.6/dist-packages/sklearn/metrics/_classification.py:1272: UndefinedMetricWarning: Precision and F-score are ill-defined and being set to 0.0 in labels with no predicted samples. Use `zero_division` parameter to control this behavior.\n",
            "  _warn_prf(average, modifier, msg_start, len(result))\n"
          ],
          "name": "stderr"
        }
      ]
    },
    {
      "cell_type": "code",
      "metadata": {
        "id": "dazPiOLc6Erq"
      },
      "source": [
        "del X, X_test, X_train,y, y_test, y_train, svc, pred, report"
      ],
      "execution_count": 16,
      "outputs": []
    },
    {
      "cell_type": "markdown",
      "metadata": {
        "id": "9a2HghZEWgkP"
      },
      "source": [
        "Random Forest Using all the variables as inputs for the model "
      ]
    },
    {
      "cell_type": "code",
      "metadata": {
        "id": "5_8l-BMPWPnx",
        "colab": {
          "base_uri": "https://localhost:8080/"
        },
        "outputId": "d43df899-512c-4964-f633-881655a704a6"
      },
      "source": [
        "#Import Random Forest Model\n",
        "from sklearn.ensemble import RandomForestClassifier\n",
        "X = features.values\n",
        "y = df_filtered.loc[:,['Winner']].values\n",
        "# Split dataset into training set and test set\n",
        "X_train, X_test, y_train, y_test = train_test_split(X, y, test_size=0.2,\n",
        "                                                    random_state=1) # 70% training and 30% test\n",
        "\n",
        "#Create a Gaussian Classifier\n",
        "rfc=RandomForestClassifier(n_estimators=120, criterion='gini', max_depth=25)\n",
        "#Train the model using the training sets y_pred=clf.predict(X_test)\n",
        "rfc.fit(X_train,y_train.ravel())\n",
        "\n",
        "print('Accuracy of Random classifier on training set: {:.4f}'\n",
        "     .format(rfc.score(X_train, y_train)))\n",
        "print('Accuracy of Random classifier on test set: {:.4f}'\n",
        "     .format(rfc.score(X_test, y_test)))\n",
        "#Variables of most importance according to the Gini importance \n",
        "feature_imp = pd.Series(rfc.feature_importances_,index=features.columns).sort_values(ascending=False)\n",
        "\n",
        "pred = rfc.predict(X_test)\n",
        "print(confusion_matrix(y_test, pred))\n",
        "print(classification_report(y_test, pred))\n",
        "\n",
        "report = classification_report(y_test, pred, output_dict=True)\n",
        "report = pd.DataFrame(report).transpose()\n",
        "report.to_csv(\"Report_Random_Forest_all.csv\")"
      ],
      "execution_count": 17,
      "outputs": [
        {
          "output_type": "stream",
          "text": [
            "Accuracy of Random classifier on training set: 1.0000\n",
            "Accuracy of Random classifier on test set: 0.6568\n",
            "[[ 47   0 176]\n",
            " [  3   0   9]\n",
            " [ 32   0 374]]\n",
            "              precision    recall  f1-score   support\n",
            "\n",
            "        Blue       0.57      0.21      0.31       223\n",
            "        Draw       0.00      0.00      0.00        12\n",
            "         Red       0.67      0.92      0.78       406\n",
            "\n",
            "    accuracy                           0.66       641\n",
            "   macro avg       0.41      0.38      0.36       641\n",
            "weighted avg       0.62      0.66      0.60       641\n",
            "\n"
          ],
          "name": "stdout"
        },
        {
          "output_type": "stream",
          "text": [
            "/usr/local/lib/python3.6/dist-packages/sklearn/metrics/_classification.py:1272: UndefinedMetricWarning: Precision and F-score are ill-defined and being set to 0.0 in labels with no predicted samples. Use `zero_division` parameter to control this behavior.\n",
            "  _warn_prf(average, modifier, msg_start, len(result))\n"
          ],
          "name": "stderr"
        }
      ]
    },
    {
      "cell_type": "markdown",
      "metadata": {
        "id": "0BwAR9xrdYr9"
      },
      "source": [
        "Reset variables "
      ]
    },
    {
      "cell_type": "code",
      "metadata": {
        "id": "MGj3ESS06mnw"
      },
      "source": [
        "del X, X_test, X_train,y, y_test, y_train, rfc, pred, report"
      ],
      "execution_count": 18,
      "outputs": []
    },
    {
      "cell_type": "markdown",
      "metadata": {
        "id": "sLXZNZSKVjsI"
      },
      "source": [
        "Principal Component Analysis for Feature Selection "
      ]
    },
    {
      "cell_type": "code",
      "metadata": {
        "id": "Z7cBJLw1VM8o",
        "colab": {
          "base_uri": "https://localhost:8080/"
        },
        "outputId": "6c06acbb-f38d-4673-a49b-5a0ad85ee4f1"
      },
      "source": [
        "from sklearn.preprocessing import StandardScaler\n",
        "from sklearn.decomposition import PCA\n",
        "\n",
        "# Separating out the features\n",
        "x = features\n",
        "# Separating out the target\n",
        "y = df_filtered.loc[:,['Winner']].values\n",
        "# Standardizing the features\n",
        "x = StandardScaler().fit_transform(x)\n",
        "Winner = df_filtered.loc[:,['Winner']]\n",
        "Winner = Winner.reset_index(drop=True)\n",
        "\n",
        "pca = PCA(n_components=2)\n",
        "principalComponents = pca.fit_transform(x)\n",
        "\n",
        "print(\"Variance percentage of first component:\",pca.explained_variance_ratio_[0])\n",
        "print(\"Variance percentage of second component:\",pca.explained_variance_ratio_[1])\n",
        "print(\"Variance percentage of first two components:\",sum(pca.explained_variance_ratio_))\n",
        "principalDf = pd.DataFrame(data = principalComponents,columns = ['principal component 1', 'principal component 2'])\n",
        "finalDf = pd.concat([principalDf, Winner], axis = 1)"
      ],
      "execution_count": 19,
      "outputs": [
        {
          "output_type": "stream",
          "text": [
            "Variance percentage of first component: 0.1410759538566523\n",
            "Variance percentage of second component: 0.088113978422656\n",
            "Variance percentage of first two components: 0.2291899322793083\n"
          ],
          "name": "stdout"
        }
      ]
    },
    {
      "cell_type": "code",
      "metadata": {
        "id": "XlIpUg21VWCo",
        "colab": {
          "base_uri": "https://localhost:8080/",
          "height": 295
        },
        "outputId": "a65dd7cd-74ac-428e-b184-50f773500a59"
      },
      "source": [
        "import matplotlib.pyplot as plt \n",
        "plt.plot(pca.explained_variance_ratio_)\n",
        "plt.title('PCA')\n",
        "plt.xlabel('Percent of Variance Explained')\n",
        "plt.ylabel('.')\n",
        "plt.show()"
      ],
      "execution_count": 20,
      "outputs": [
        {
          "output_type": "display_data",
          "data": {
            "image/png": "[encoded data removed]",
            "text/plain": [
              "<Figure size 432x288 with 1 Axes>"
            ]
          },
          "metadata": {
            "tags": [],
            "needs_background": "light"
          }
        }
      ]
    },
    {
      "cell_type": "markdown",
      "metadata": {
        "id": "jUfUkzZZLYvK"
      },
      "source": [
        "Plot first two principal components "
      ]
    },
    {
      "cell_type": "code",
      "metadata": {
        "id": "yOL_DanJVcr4",
        "colab": {
          "base_uri": "https://localhost:8080/",
          "height": 522
        },
        "outputId": "39889c87-52f3-4522-8fe6-958af0bdeb5b"
      },
      "source": [
        "fig = plt.figure(figsize = (8,8))\n",
        "ax = fig.add_subplot(1,1,1) \n",
        "ax.set_xlabel('Principal Component 1', fontsize = 15)\n",
        "ax.set_ylabel('Principal Component 2', fontsize = 15)\n",
        "ax.set_title('2 component PCA', fontsize = 20)\n",
        "targets = ['Red', 'Blue','Draw']\n",
        "colors = ['r', 'b','g']\n",
        "for target, color in zip(targets,colors):\n",
        "    indicesToKeep = finalDf['Winner'] == target\n",
        "    ax.scatter(finalDf.loc[indicesToKeep, 'principal component 1']\n",
        "               , finalDf.loc[indicesToKeep, 'principal component 2']\n",
        "               , c = color\n",
        "               , s = 50)\n",
        "ax.legend(targets)\n",
        "ax.grid()"
      ],
      "execution_count": 21,
      "outputs": [
        {
          "output_type": "display_data",
          "data": {
            "image/png": "[encoded data removed]",
            "text/plain": [
              "<Figure size 576x576 with 1 Axes>"
            ]
          },
          "metadata": {
            "tags": [],
            "needs_background": "light"
          }
        }
      ]
    },
    {
      "cell_type": "markdown",
      "metadata": {
        "id": "je6jj2ldRL5g"
      },
      "source": [
        "Compute the loading scores of each varible in the first and second Principal Components "
      ]
    },
    {
      "cell_type": "code",
      "metadata": {
        "id": "Z5apD0huBXfu",
        "colab": {
          "base_uri": "https://localhost:8080/",
          "height": 207
        },
        "outputId": "6dda2509-59de-4575-a43c-1e7b8b8c339d"
      },
      "source": [
        "df_npca = pd.DataFrame(pca.components_, columns=list(features.columns))\n",
        "df_npca.head(3)"
      ],
      "execution_count": 22,
      "outputs": [
        {
          "output_type": "execute_result",
          "data": {
            "text/html": [
              "<div>\n",
              "<style scoped>\n",
              "    .dataframe tbody tr th:only-of-type {\n",
              "        vertical-align: middle;\n",
              "    }\n",
              "\n",
              "    .dataframe tbody tr th {\n",
              "        vertical-align: top;\n",
              "    }\n",
              "\n",
              "    .dataframe thead th {\n",
              "        text-align: right;\n",
              "    }\n",
              "</style>\n",
              "<table border=\"1\" class=\"dataframe\">\n",
              "  <thead>\n",
              "    <tr style=\"text-align: right;\">\n",
              "      <th></th>\n",
              "      <th>title_bout</th>\n",
              "      <th>no_of_rounds</th>\n",
              "      <th>B_current_lose_streak</th>\n",
              "      <th>B_current_win_streak</th>\n",
              "      <th>B_draw</th>\n",
              "      <th>B_avg_BODY_att</th>\n",
              "      <th>B_avg_BODY_landed</th>\n",
              "      <th>B_avg_CLINCH_att</th>\n",
              "      <th>B_avg_CLINCH_landed</th>\n",
              "      <th>B_avg_DISTANCE_att</th>\n",
              "      <th>B_avg_DISTANCE_landed</th>\n",
              "      <th>B_avg_GROUND_att</th>\n",
              "      <th>B_avg_GROUND_landed</th>\n",
              "      <th>B_avg_HEAD_att</th>\n",
              "      <th>B_avg_HEAD_landed</th>\n",
              "      <th>B_avg_KD</th>\n",
              "      <th>B_avg_LEG_att</th>\n",
              "      <th>B_avg_LEG_landed</th>\n",
              "      <th>B_avg_PASS</th>\n",
              "      <th>B_avg_REV</th>\n",
              "      <th>B_avg_SIG_STR_att</th>\n",
              "      <th>B_avg_SIG_STR_landed</th>\n",
              "      <th>B_avg_SIG_STR_pct</th>\n",
              "      <th>B_avg_SUB_ATT</th>\n",
              "      <th>B_avg_TD_att</th>\n",
              "      <th>B_avg_TD_landed</th>\n",
              "      <th>B_avg_TD_pct</th>\n",
              "      <th>B_avg_TOTAL_STR_att</th>\n",
              "      <th>B_avg_TOTAL_STR_landed</th>\n",
              "      <th>B_longest_win_streak</th>\n",
              "      <th>B_losses</th>\n",
              "      <th>B_avg_opp_BODY_att</th>\n",
              "      <th>B_avg_opp_BODY_landed</th>\n",
              "      <th>B_avg_opp_CLINCH_att</th>\n",
              "      <th>B_avg_opp_CLINCH_landed</th>\n",
              "      <th>B_avg_opp_DISTANCE_att</th>\n",
              "      <th>B_avg_opp_DISTANCE_landed</th>\n",
              "      <th>B_avg_opp_GROUND_att</th>\n",
              "      <th>B_avg_opp_GROUND_landed</th>\n",
              "      <th>B_avg_opp_HEAD_att</th>\n",
              "      <th>...</th>\n",
              "      <th>R_avg_opp_TD_landed</th>\n",
              "      <th>R_avg_opp_TD_pct</th>\n",
              "      <th>R_avg_opp_TOTAL_STR_att</th>\n",
              "      <th>R_avg_opp_TOTAL_STR_landed</th>\n",
              "      <th>R_total_rounds_fought</th>\n",
              "      <th>R_total_time_fought(seconds)</th>\n",
              "      <th>R_total_title_bouts</th>\n",
              "      <th>R_win_by_Decision_Majority</th>\n",
              "      <th>R_win_by_Decision_Split</th>\n",
              "      <th>R_win_by_Decision_Unanimous</th>\n",
              "      <th>R_win_by_KO/TKO</th>\n",
              "      <th>R_win_by_Submission</th>\n",
              "      <th>R_win_by_TKO_Doctor_Stoppage</th>\n",
              "      <th>R_wins</th>\n",
              "      <th>R_Height_cms</th>\n",
              "      <th>R_Reach_cms</th>\n",
              "      <th>R_Weight_lbs</th>\n",
              "      <th>B_age</th>\n",
              "      <th>R_age</th>\n",
              "      <th>R_Stance_Open Stance</th>\n",
              "      <th>R_Stance_Orthodox</th>\n",
              "      <th>R_Stance_Southpaw</th>\n",
              "      <th>R_Stance_Switch</th>\n",
              "      <th>B_Stance_Open Stance</th>\n",
              "      <th>B_Stance_Orthodox</th>\n",
              "      <th>B_Stance_Southpaw</th>\n",
              "      <th>B_Stance_Switch</th>\n",
              "      <th>weight_class_Bantamweight</th>\n",
              "      <th>weight_class_Catch Weight</th>\n",
              "      <th>weight_class_Featherweight</th>\n",
              "      <th>weight_class_Flyweight</th>\n",
              "      <th>weight_class_Heavyweight</th>\n",
              "      <th>weight_class_Light Heavyweight</th>\n",
              "      <th>weight_class_Lightweight</th>\n",
              "      <th>weight_class_Middleweight</th>\n",
              "      <th>weight_class_Welterweight</th>\n",
              "      <th>weight_class_Women's Bantamweight</th>\n",
              "      <th>weight_class_Women's Featherweight</th>\n",
              "      <th>weight_class_Women's Flyweight</th>\n",
              "      <th>weight_class_Women's Strawweight</th>\n",
              "    </tr>\n",
              "  </thead>\n",
              "  <tbody>\n",
              "    <tr>\n",
              "      <th>0</th>\n",
              "      <td>0.005693</td>\n",
              "      <td>0.009274</td>\n",
              "      <td>0.003511</td>\n",
              "      <td>-0.001226</td>\n",
              "      <td>1.285490e-22</td>\n",
              "      <td>0.124979</td>\n",
              "      <td>0.111691</td>\n",
              "      <td>0.070653</td>\n",
              "      <td>0.065606</td>\n",
              "      <td>0.150439</td>\n",
              "      <td>0.148390</td>\n",
              "      <td>-0.015746</td>\n",
              "      <td>-0.013202</td>\n",
              "      <td>0.141985</td>\n",
              "      <td>0.126025</td>\n",
              "      <td>-0.007442</td>\n",
              "      <td>0.098224</td>\n",
              "      <td>0.097485</td>\n",
              "      <td>-0.013843</td>\n",
              "      <td>-0.003359</td>\n",
              "      <td>0.151367</td>\n",
              "      <td>0.143870</td>\n",
              "      <td>-0.024689</td>\n",
              "      <td>-0.030923</td>\n",
              "      <td>0.016905</td>\n",
              "      <td>0.001002</td>\n",
              "      <td>-0.011867</td>\n",
              "      <td>0.136600</td>\n",
              "      <td>0.100363</td>\n",
              "      <td>-0.004160</td>\n",
              "      <td>0.006263</td>\n",
              "      <td>0.131113</td>\n",
              "      <td>0.116323</td>\n",
              "      <td>0.068330</td>\n",
              "      <td>0.063880</td>\n",
              "      <td>0.150915</td>\n",
              "      <td>0.144248</td>\n",
              "      <td>-0.001948</td>\n",
              "      <td>0.000855</td>\n",
              "      <td>0.146365</td>\n",
              "      <td>...</td>\n",
              "      <td>0.033476</td>\n",
              "      <td>0.004560</td>\n",
              "      <td>0.149811</td>\n",
              "      <td>0.112085</td>\n",
              "      <td>0.034976</td>\n",
              "      <td>0.121914</td>\n",
              "      <td>0.004414</td>\n",
              "      <td>-0.016443</td>\n",
              "      <td>0.044101</td>\n",
              "      <td>0.045666</td>\n",
              "      <td>-0.025299</td>\n",
              "      <td>-0.021727</td>\n",
              "      <td>-0.017518</td>\n",
              "      <td>0.004398</td>\n",
              "      <td>-0.099948</td>\n",
              "      <td>-0.101030</td>\n",
              "      <td>-0.103877</td>\n",
              "      <td>-0.012130</td>\n",
              "      <td>0.001547</td>\n",
              "      <td>-0.007788</td>\n",
              "      <td>0.014518</td>\n",
              "      <td>-0.012559</td>\n",
              "      <td>-0.004045</td>\n",
              "      <td>-0.008335</td>\n",
              "      <td>0.008576</td>\n",
              "      <td>-0.008416</td>\n",
              "      <td>0.000322</td>\n",
              "      <td>0.037080</td>\n",
              "      <td>0.002809</td>\n",
              "      <td>0.034262</td>\n",
              "      <td>0.030735</td>\n",
              "      <td>-0.052035</td>\n",
              "      <td>-0.035407</td>\n",
              "      <td>0.009058</td>\n",
              "      <td>-0.042385</td>\n",
              "      <td>-0.013574</td>\n",
              "      <td>0.025787</td>\n",
              "      <td>0.004513</td>\n",
              "      <td>0.028434</td>\n",
              "      <td>0.067191</td>\n",
              "    </tr>\n",
              "    <tr>\n",
              "      <th>1</th>\n",
              "      <td>0.032235</td>\n",
              "      <td>0.032148</td>\n",
              "      <td>-0.024278</td>\n",
              "      <td>0.038073</td>\n",
              "      <td>9.598194e-21</td>\n",
              "      <td>-0.112408</td>\n",
              "      <td>-0.111628</td>\n",
              "      <td>-0.104191</td>\n",
              "      <td>-0.097137</td>\n",
              "      <td>-0.139771</td>\n",
              "      <td>-0.134806</td>\n",
              "      <td>0.002884</td>\n",
              "      <td>0.004063</td>\n",
              "      <td>-0.143074</td>\n",
              "      <td>-0.126381</td>\n",
              "      <td>0.019791</td>\n",
              "      <td>-0.094627</td>\n",
              "      <td>-0.098075</td>\n",
              "      <td>0.021329</td>\n",
              "      <td>-0.003826</td>\n",
              "      <td>-0.149704</td>\n",
              "      <td>-0.144252</td>\n",
              "      <td>0.017350</td>\n",
              "      <td>0.028953</td>\n",
              "      <td>-0.014301</td>\n",
              "      <td>0.002224</td>\n",
              "      <td>0.014179</td>\n",
              "      <td>-0.146937</td>\n",
              "      <td>-0.120447</td>\n",
              "      <td>0.044659</td>\n",
              "      <td>0.016415</td>\n",
              "      <td>-0.133393</td>\n",
              "      <td>-0.131468</td>\n",
              "      <td>-0.106649</td>\n",
              "      <td>-0.100897</td>\n",
              "      <td>-0.141756</td>\n",
              "      <td>-0.145308</td>\n",
              "      <td>-0.022367</td>\n",
              "      <td>-0.020533</td>\n",
              "      <td>-0.147454</td>\n",
              "      <td>...</td>\n",
              "      <td>0.028172</td>\n",
              "      <td>-0.012594</td>\n",
              "      <td>0.135266</td>\n",
              "      <td>0.098261</td>\n",
              "      <td>0.052746</td>\n",
              "      <td>0.139887</td>\n",
              "      <td>0.041511</td>\n",
              "      <td>0.004031</td>\n",
              "      <td>0.043797</td>\n",
              "      <td>0.066276</td>\n",
              "      <td>0.009232</td>\n",
              "      <td>-0.025891</td>\n",
              "      <td>0.004589</td>\n",
              "      <td>0.032973</td>\n",
              "      <td>-0.007937</td>\n",
              "      <td>-0.009212</td>\n",
              "      <td>-0.003189</td>\n",
              "      <td>0.010948</td>\n",
              "      <td>0.003139</td>\n",
              "      <td>-0.003517</td>\n",
              "      <td>0.019225</td>\n",
              "      <td>-0.016797</td>\n",
              "      <td>-0.007322</td>\n",
              "      <td>-0.001460</td>\n",
              "      <td>-0.013512</td>\n",
              "      <td>0.006086</td>\n",
              "      <td>0.019769</td>\n",
              "      <td>0.003763</td>\n",
              "      <td>-0.004121</td>\n",
              "      <td>0.003928</td>\n",
              "      <td>0.008297</td>\n",
              "      <td>-0.007613</td>\n",
              "      <td>0.008979</td>\n",
              "      <td>0.003333</td>\n",
              "      <td>-0.001734</td>\n",
              "      <td>-0.004257</td>\n",
              "      <td>-0.019320</td>\n",
              "      <td>0.001678</td>\n",
              "      <td>0.000599</td>\n",
              "      <td>-0.005518</td>\n",
              "    </tr>\n",
              "  </tbody>\n",
              "</table>\n",
              "<p>2 rows × 157 columns</p>\n",
              "</div>"
            ],
            "text/plain": [
              "   title_bout  ...  weight_class_Women's Strawweight\n",
              "0    0.005693  ...                          0.067191\n",
              "1    0.032235  ...                         -0.005518\n",
              "\n",
              "[2 rows x 157 columns]"
            ]
          },
          "metadata": {
            "tags": []
          },
          "execution_count": 22
        }
      ]
    },
    {
      "cell_type": "markdown",
      "metadata": {
        "id": "A4YBn5JiRUUO"
      },
      "source": [
        "Sort the values of the loading scores and display them in a bar plot from highest to lowest  "
      ]
    },
    {
      "cell_type": "code",
      "metadata": {
        "id": "2qBFWsXEXELJ",
        "colab": {
          "base_uri": "https://localhost:8080/",
          "height": 585
        },
        "outputId": "b9759532-fbaf-41f9-8838-d4d06fbe7a00"
      },
      "source": [
        "loading_scores = pd.Series(pca.components_[0], index=features.columns)\n",
        "soarted_loading_scores =  loading_scores.abs().sort_values(ascending = False)\n",
        "size = 15\n",
        "ind = soarted_loading_scores[0:size].index.values\n",
        "print(loading_scores[ind])\n",
        "\n",
        "import matplotlib.pyplot as plt\n",
        "import seaborn as sns\n",
        "%matplotlib inline\n",
        "# Creating a bar plot\n",
        "sns.barplot(x=soarted_loading_scores[0:size], y= soarted_loading_scores[0:size].index)\n",
        "# Add labels to your graph\n",
        "plt.xlabel('Loading Score')\n",
        "plt.ylabel('Features')\n",
        "plt.title(\"Visualizing Important Features\")\n",
        "plt.legend()\n",
        "plt.show()"
      ],
      "execution_count": 23,
      "outputs": [
        {
          "output_type": "stream",
          "text": [
            "No handles with labels found to put in legend.\n"
          ],
          "name": "stderr"
        },
        {
          "output_type": "stream",
          "text": [
            "R_avg_opp_SIG_STR_att        0.156603\n",
            "B_avg_opp_SIG_STR_att        0.153639\n",
            "R_avg_opp_DISTANCE_att       0.152819\n",
            "R_avg_DISTANCE_att           0.152248\n",
            "R_avg_SIG_STR_att            0.152172\n",
            "B_avg_SIG_STR_att            0.151367\n",
            "B_avg_opp_DISTANCE_att       0.150915\n",
            "B_avg_DISTANCE_att           0.150439\n",
            "R_avg_opp_TOTAL_STR_att      0.149811\n",
            "B_avg_DISTANCE_landed        0.148390\n",
            "R_avg_opp_HEAD_att           0.148237\n",
            "R_avg_DISTANCE_landed        0.147880\n",
            "R_avg_opp_SIG_STR_landed     0.147809\n",
            "R_avg_opp_DISTANCE_landed    0.147534\n",
            "B_avg_opp_HEAD_att           0.146365\n",
            "dtype: float64\n"
          ],
          "name": "stdout"
        },
        {
          "output_type": "display_data",
          "data": {
            "image/png": "[encoded data removed]",
            "text/plain": [
              "<Figure size 432x288 with 1 Axes>"
            ]
          },
          "metadata": {
            "tags": [],
            "needs_background": "light"
          }
        }
      ]
    },
    {
      "cell_type": "markdown",
      "metadata": {
        "id": "nSriURlJL2BS"
      },
      "source": [
        "Extract the variables from the original data base with the highest loading scores"
      ]
    },
    {
      "cell_type": "code",
      "metadata": {
        "id": "wDaWt7isXl5Y",
        "colab": {
          "base_uri": "https://localhost:8080/",
          "height": 324
        },
        "outputId": "d277a744-9cc1-42f9-a74e-0c6176311aa3"
      },
      "source": [
        "features_nf = df_filtered[ind]\n",
        "print(features_nf.shape)\n",
        "features_nf.describe()"
      ],
      "execution_count": 24,
      "outputs": [
        {
          "output_type": "stream",
          "text": [
            "(3202, 15)\n"
          ],
          "name": "stdout"
        },
        {
          "output_type": "execute_result",
          "data": {
            "text/html": [
              "<div>\n",
              "<style scoped>\n",
              "    .dataframe tbody tr th:only-of-type {\n",
              "        vertical-align: middle;\n",
              "    }\n",
              "\n",
              "    .dataframe tbody tr th {\n",
              "        vertical-align: top;\n",
              "    }\n",
              "\n",
              "    .dataframe thead th {\n",
              "        text-align: right;\n",
              "    }\n",
              "</style>\n",
              "<table border=\"1\" class=\"dataframe\">\n",
              "  <thead>\n",
              "    <tr style=\"text-align: right;\">\n",
              "      <th></th>\n",
              "      <th>R_avg_opp_SIG_STR_att</th>\n",
              "      <th>B_avg_opp_SIG_STR_att</th>\n",
              "      <th>R_avg_opp_DISTANCE_att</th>\n",
              "      <th>R_avg_DISTANCE_att</th>\n",
              "      <th>R_avg_SIG_STR_att</th>\n",
              "      <th>B_avg_SIG_STR_att</th>\n",
              "      <th>B_avg_opp_DISTANCE_att</th>\n",
              "      <th>B_avg_DISTANCE_att</th>\n",
              "      <th>R_avg_opp_TOTAL_STR_att</th>\n",
              "      <th>B_avg_DISTANCE_landed</th>\n",
              "      <th>R_avg_opp_HEAD_att</th>\n",
              "      <th>R_avg_DISTANCE_landed</th>\n",
              "      <th>R_avg_opp_SIG_STR_landed</th>\n",
              "      <th>R_avg_opp_DISTANCE_landed</th>\n",
              "      <th>B_avg_opp_HEAD_att</th>\n",
              "    </tr>\n",
              "  </thead>\n",
              "  <tbody>\n",
              "    <tr>\n",
              "      <th>count</th>\n",
              "      <td>3202.000000</td>\n",
              "      <td>3202.000000</td>\n",
              "      <td>3202.000000</td>\n",
              "      <td>3202.000000</td>\n",
              "      <td>3202.000000</td>\n",
              "      <td>3202.000000</td>\n",
              "      <td>3202.000000</td>\n",
              "      <td>3202.000000</td>\n",
              "      <td>3202.000000</td>\n",
              "      <td>3202.000000</td>\n",
              "      <td>3202.000000</td>\n",
              "      <td>3202.000000</td>\n",
              "      <td>3202.000000</td>\n",
              "      <td>3202.000000</td>\n",
              "      <td>3202.000000</td>\n",
              "    </tr>\n",
              "    <tr>\n",
              "      <th>mean</th>\n",
              "      <td>68.734046</td>\n",
              "      <td>69.269012</td>\n",
              "      <td>54.859259</td>\n",
              "      <td>56.582733</td>\n",
              "      <td>74.613685</td>\n",
              "      <td>73.796615</td>\n",
              "      <td>54.823195</td>\n",
              "      <td>56.245636</td>\n",
              "      <td>88.159373</td>\n",
              "      <td>20.595553</td>\n",
              "      <td>54.029330</td>\n",
              "      <td>20.694576</td>\n",
              "      <td>27.702063</td>\n",
              "      <td>18.669918</td>\n",
              "      <td>54.225767</td>\n",
              "    </tr>\n",
              "    <tr>\n",
              "      <th>std</th>\n",
              "      <td>39.020485</td>\n",
              "      <td>42.094060</td>\n",
              "      <td>37.305328</td>\n",
              "      <td>38.376308</td>\n",
              "      <td>39.886768</td>\n",
              "      <td>42.694686</td>\n",
              "      <td>40.065263</td>\n",
              "      <td>40.334060</td>\n",
              "      <td>42.854491</td>\n",
              "      <td>15.874534</td>\n",
              "      <td>32.120024</td>\n",
              "      <td>14.714115</td>\n",
              "      <td>15.422932</td>\n",
              "      <td>13.555539</td>\n",
              "      <td>34.741032</td>\n",
              "    </tr>\n",
              "    <tr>\n",
              "      <th>min</th>\n",
              "      <td>0.000000</td>\n",
              "      <td>1.000000</td>\n",
              "      <td>0.000000</td>\n",
              "      <td>0.000000</td>\n",
              "      <td>0.000000</td>\n",
              "      <td>0.000000</td>\n",
              "      <td>0.000000</td>\n",
              "      <td>0.000000</td>\n",
              "      <td>0.000000</td>\n",
              "      <td>0.000000</td>\n",
              "      <td>0.000000</td>\n",
              "      <td>0.000000</td>\n",
              "      <td>0.000000</td>\n",
              "      <td>0.000000</td>\n",
              "      <td>0.000000</td>\n",
              "    </tr>\n",
              "    <tr>\n",
              "      <th>25%</th>\n",
              "      <td>41.171875</td>\n",
              "      <td>39.500000</td>\n",
              "      <td>28.000000</td>\n",
              "      <td>29.000000</td>\n",
              "      <td>46.848901</td>\n",
              "      <td>43.517857</td>\n",
              "      <td>26.723214</td>\n",
              "      <td>26.400000</td>\n",
              "      <td>59.022727</td>\n",
              "      <td>9.027778</td>\n",
              "      <td>31.750000</td>\n",
              "      <td>10.166667</td>\n",
              "      <td>17.200000</td>\n",
              "      <td>8.861607</td>\n",
              "      <td>30.578571</td>\n",
              "    </tr>\n",
              "    <tr>\n",
              "      <th>50%</th>\n",
              "      <td>63.966667</td>\n",
              "      <td>63.275000</td>\n",
              "      <td>48.414286</td>\n",
              "      <td>49.236111</td>\n",
              "      <td>67.645833</td>\n",
              "      <td>66.763889</td>\n",
              "      <td>47.000000</td>\n",
              "      <td>48.000000</td>\n",
              "      <td>85.000000</td>\n",
              "      <td>16.510870</td>\n",
              "      <td>49.200000</td>\n",
              "      <td>17.105556</td>\n",
              "      <td>25.637500</td>\n",
              "      <td>16.000000</td>\n",
              "      <td>48.784615</td>\n",
              "    </tr>\n",
              "    <tr>\n",
              "      <th>75%</th>\n",
              "      <td>89.312500</td>\n",
              "      <td>88.812500</td>\n",
              "      <td>74.393750</td>\n",
              "      <td>77.000000</td>\n",
              "      <td>97.457265</td>\n",
              "      <td>97.479167</td>\n",
              "      <td>73.627273</td>\n",
              "      <td>76.546875</td>\n",
              "      <td>110.975000</td>\n",
              "      <td>28.500000</td>\n",
              "      <td>70.660714</td>\n",
              "      <td>28.864583</td>\n",
              "      <td>35.728571</td>\n",
              "      <td>25.356061</td>\n",
              "      <td>70.000000</td>\n",
              "    </tr>\n",
              "    <tr>\n",
              "      <th>max</th>\n",
              "      <td>454.000000</td>\n",
              "      <td>401.000000</td>\n",
              "      <td>440.000000</td>\n",
              "      <td>244.333333</td>\n",
              "      <td>260.625000</td>\n",
              "      <td>299.000000</td>\n",
              "      <td>361.000000</td>\n",
              "      <td>271.000000</td>\n",
              "      <td>461.000000</td>\n",
              "      <td>130.000000</td>\n",
              "      <td>400.000000</td>\n",
              "      <td>131.000000</td>\n",
              "      <td>151.000000</td>\n",
              "      <td>144.000000</td>\n",
              "      <td>335.000000</td>\n",
              "    </tr>\n",
              "  </tbody>\n",
              "</table>\n",
              "</div>"
            ],
            "text/plain": [
              "       R_avg_opp_SIG_STR_att  ...  B_avg_opp_HEAD_att\n",
              "count            3202.000000  ...         3202.000000\n",
              "mean               68.734046  ...           54.225767\n",
              "std                39.020485  ...           34.741032\n",
              "min                 0.000000  ...            0.000000\n",
              "25%                41.171875  ...           30.578571\n",
              "50%                63.966667  ...           48.784615\n",
              "75%                89.312500  ...           70.000000\n",
              "max               454.000000  ...          335.000000\n",
              "\n",
              "[8 rows x 15 columns]"
            ]
          },
          "metadata": {
            "tags": []
          },
          "execution_count": 24
        }
      ]
    },
    {
      "cell_type": "markdown",
      "metadata": {
        "id": "_1kUBw80z17q"
      },
      "source": [
        "Decision Tree with variables of PCA feature selection "
      ]
    },
    {
      "cell_type": "code",
      "metadata": {
        "id": "V7Z5f1P9XWVg",
        "colab": {
          "base_uri": "https://localhost:8080/"
        },
        "outputId": "e7c8beb4-31bb-4225-806b-98df85654515"
      },
      "source": [
        "X = features_nf.values\n",
        "y = df_filtered.loc[:,['Winner']].values\n",
        "\n",
        "X_train, X_test, y_train, y_test = train_test_split(X, y, test_size=0.2, random_state = 1234) # 80% training and 20% test\n",
        "\n",
        "print(X_train.shape, X_test.shape)\n",
        "# Create Decision Tree classifer object\n",
        "dt = DecisionTreeClassifier(criterion=\"gini\", max_depth=6)\n",
        "# Train Decision Tree Classifer\n",
        "dt = dt.fit(X_train,y_train)\n",
        "#Predict the response for test dataset\n",
        "print('Accuracy of Decision Tree classifier on training set: {:.4f}'\n",
        "     .format(dt.score(X_train, y_train)))\n",
        "print('Accuracy of Decision Tree classifier on test set: {:.4f}'\n",
        "     .format(dt.score(X_test, y_test)))\n",
        "\n",
        "pred = dt.predict(X_test)\n",
        "print(confusion_matrix(y_test, pred))\n",
        "print(classification_report(y_test, pred))\n",
        "\n",
        "report = classification_report(y_test, pred, output_dict=True)\n",
        "report = pd.DataFrame(report).transpose()\n",
        "report.to_csv(\"Report_DT_PCA.csv\")"
      ],
      "execution_count": 25,
      "outputs": [
        {
          "output_type": "stream",
          "text": [
            "(2561, 15) (641, 15)\n",
            "Accuracy of Decision Tree classifier on training set: 0.6790\n",
            "Accuracy of Decision Tree classifier on test set: 0.6240\n",
            "[[ 42   0 179]\n",
            " [  3   0   4]\n",
            " [ 55   0 358]]\n",
            "              precision    recall  f1-score   support\n",
            "\n",
            "        Blue       0.42      0.19      0.26       221\n",
            "        Draw       0.00      0.00      0.00         7\n",
            "         Red       0.66      0.87      0.75       413\n",
            "\n",
            "    accuracy                           0.62       641\n",
            "   macro avg       0.36      0.35      0.34       641\n",
            "weighted avg       0.57      0.62      0.57       641\n",
            "\n"
          ],
          "name": "stdout"
        },
        {
          "output_type": "stream",
          "text": [
            "/usr/local/lib/python3.6/dist-packages/sklearn/metrics/_classification.py:1272: UndefinedMetricWarning: Precision and F-score are ill-defined and being set to 0.0 in labels with no predicted samples. Use `zero_division` parameter to control this behavior.\n",
            "  _warn_prf(average, modifier, msg_start, len(result))\n"
          ],
          "name": "stderr"
        }
      ]
    },
    {
      "cell_type": "markdown",
      "metadata": {
        "id": "0c1WP7b1EInR"
      },
      "source": [
        "Erase variables "
      ]
    },
    {
      "cell_type": "code",
      "metadata": {
        "id": "THBse4FZ8D0Y"
      },
      "source": [
        "del X, X_test, X_train,y, y_test, y_train, dt, pred, report"
      ],
      "execution_count": 26,
      "outputs": []
    },
    {
      "cell_type": "markdown",
      "metadata": {
        "id": "GavnR-Gbz4p4"
      },
      "source": [
        "KNN Nearest Neightbor trained with important features according to the loading scores of each variables in the first principal component of PCA. "
      ]
    },
    {
      "cell_type": "code",
      "metadata": {
        "id": "ICN-RzxEkL8q",
        "colab": {
          "base_uri": "https://localhost:8080/"
        },
        "outputId": "02d892d3-de02-4707-ff7c-5939946163e2"
      },
      "source": [
        "from sklearn.model_selection import train_test_split\n",
        "from sklearn.neighbors import KNeighborsClassifier\n",
        "\n",
        "#Feature Importance \n",
        "X = features_nf.values\n",
        "y = df_filtered.loc[:,['Winner']].values\n",
        "X_train, X_test, y_train, y_test = train_test_split(X, y, test_size=0.2, random_state = 1)\n",
        "\n",
        "print(X_test.shape, X_train.shape)\n",
        "\n",
        "#Standarized data \n",
        "scaler = StandardScaler()\n",
        "X_train = scaler.fit_transform(X_train)\n",
        "X_test = scaler.transform(X_test)\n",
        "\n",
        "n_neighbors = 7\n",
        "knn = KNeighborsClassifier(n_neighbors)\n",
        "knn.fit(X_train, y_train.ravel())\n",
        "print('Accuracy of K-NN classifier on training set: {:.4f}'\n",
        "     .format(knn.score(X_train, y_train)))\n",
        "print('Accuracy of K-NN classifier on test set: {:.4f}'\n",
        "     .format(knn.score(X_test, y_test)))\n",
        "\n",
        "pred = knn.predict(X_test)\n",
        "print(X_test.shape)\n",
        "print(confusion_matrix(y_test, pred))\n",
        "print(classification_report(y_test, pred))\n",
        "\n",
        "report = classification_report(y_test, pred, output_dict=True)\n",
        "report = pd.DataFrame(report).transpose()\n",
        "report.to_csv(\"Report_KNN_PCA.csv\")"
      ],
      "execution_count": 27,
      "outputs": [
        {
          "output_type": "stream",
          "text": [
            "(641, 15) (2561, 15)\n",
            "Accuracy of K-NN classifier on training set: 0.6947\n",
            "Accuracy of K-NN classifier on test set: 0.5897\n",
            "(641, 15)\n",
            "[[ 76   0 147]\n",
            " [  3   0   9]\n",
            " [104   0 302]]\n",
            "              precision    recall  f1-score   support\n",
            "\n",
            "        Blue       0.42      0.34      0.37       223\n",
            "        Draw       0.00      0.00      0.00        12\n",
            "         Red       0.66      0.74      0.70       406\n",
            "\n",
            "    accuracy                           0.59       641\n",
            "   macro avg       0.36      0.36      0.36       641\n",
            "weighted avg       0.56      0.59      0.57       641\n",
            "\n"
          ],
          "name": "stdout"
        },
        {
          "output_type": "stream",
          "text": [
            "/usr/local/lib/python3.6/dist-packages/sklearn/metrics/_classification.py:1272: UndefinedMetricWarning: Precision and F-score are ill-defined and being set to 0.0 in labels with no predicted samples. Use `zero_division` parameter to control this behavior.\n",
            "  _warn_prf(average, modifier, msg_start, len(result))\n"
          ],
          "name": "stderr"
        }
      ]
    },
    {
      "cell_type": "markdown",
      "metadata": {
        "id": "lrJ5CRAGTUK8"
      },
      "source": [
        "Reset variables "
      ]
    },
    {
      "cell_type": "code",
      "metadata": {
        "id": "EM4nYyL78bSh"
      },
      "source": [
        "del X, X_test, X_train,y, y_test, y_train, knn, pred, report"
      ],
      "execution_count": 28,
      "outputs": []
    },
    {
      "cell_type": "markdown",
      "metadata": {
        "id": "mZLeweVwYLfu"
      },
      "source": [
        "SVM with feature reduction of PCA "
      ]
    },
    {
      "cell_type": "code",
      "metadata": {
        "id": "ifP4S2ZAX1Qn",
        "colab": {
          "base_uri": "https://localhost:8080/"
        },
        "outputId": "c9cd7ee8-7e00-4c80-802e-3700088c7413"
      },
      "source": [
        "# Import train_test_split function\n",
        "from sklearn.model_selection import train_test_split\n",
        "from sklearn import svm\n",
        "\n",
        "X = features_nf.values\n",
        "y = df_filtered.loc[:,['Winner']].values\n",
        "# Split dataset into training set and test set\n",
        "X_train, X_test, y_train, y_test = train_test_split(X, y, test_size=0.2, random_state = 25) # 80% training and 30% test\n",
        "X_train = StandardScaler().fit_transform(X_train)\n",
        "X_test = StandardScaler().fit_transform(X_test)\n",
        "\n",
        "print(X_train.shape, X_test.shape)\n",
        "\n",
        "#Create a svm Classifier\n",
        "svc = svm.SVC(kernel='rbf') # Linear Kernel\n",
        "#Train the model using the training sets\n",
        "svc.fit(X_train, y_train.ravel())\n",
        "#Predict the response for test dataset\n",
        "print('Accuracy of Support Vector classifier on training set: {:.4f}'\n",
        "     .format(svc.score(X_train, y_train)))\n",
        "print('Accuracy of Support Vector classifier on test set: {:.4f}'\n",
        "     .format(svc.score(X_test, y_test)))\n",
        "\n",
        "pred = svc.predict(X_test)\n",
        "print(confusion_matrix(y_test, pred))\n",
        "print(classification_report(y_test, pred))\n",
        "\n",
        "report = classification_report(y_test, pred, output_dict=True)\n",
        "report = pd.DataFrame(report).transpose()\n",
        "report.to_csv(\"Report_SVM_PCA.csv\")"
      ],
      "execution_count": 29,
      "outputs": [
        {
          "output_type": "stream",
          "text": [
            "(2561, 15) (641, 15)\n",
            "Accuracy of Support Vector classifier on training set: 0.6474\n",
            "Accuracy of Support Vector classifier on test set: 0.6271\n",
            "[[  8   0 213]\n",
            " [  0   0  11]\n",
            " [ 15   0 394]]\n",
            "              precision    recall  f1-score   support\n",
            "\n",
            "        Blue       0.35      0.04      0.07       221\n",
            "        Draw       0.00      0.00      0.00        11\n",
            "         Red       0.64      0.96      0.77       409\n",
            "\n",
            "    accuracy                           0.63       641\n",
            "   macro avg       0.33      0.33      0.28       641\n",
            "weighted avg       0.53      0.63      0.51       641\n",
            "\n"
          ],
          "name": "stdout"
        },
        {
          "output_type": "stream",
          "text": [
            "/usr/local/lib/python3.6/dist-packages/sklearn/metrics/_classification.py:1272: UndefinedMetricWarning: Precision and F-score are ill-defined and being set to 0.0 in labels with no predicted samples. Use `zero_division` parameter to control this behavior.\n",
            "  _warn_prf(average, modifier, msg_start, len(result))\n"
          ],
          "name": "stderr"
        }
      ]
    },
    {
      "cell_type": "markdown",
      "metadata": {
        "id": "WvQFpvFJTQiL"
      },
      "source": [
        "Reset variables "
      ]
    },
    {
      "cell_type": "code",
      "metadata": {
        "id": "MZQ-Ui6eEggE"
      },
      "source": [
        "del X, X_test, X_train,y, y_test, y_train, svc, pred, report"
      ],
      "execution_count": 30,
      "outputs": []
    },
    {
      "cell_type": "markdown",
      "metadata": {
        "id": "nTTgwus7TCFA"
      },
      "source": [
        "Random Forest trained with important features according to the loading scores of each variables in the first principal component of PCA. "
      ]
    },
    {
      "cell_type": "code",
      "metadata": {
        "id": "ckzFhxtaYvcw",
        "colab": {
          "base_uri": "https://localhost:8080/"
        },
        "outputId": "ef2bc5a3-c546-4785-b9c0-e2d04117e447"
      },
      "source": [
        "#Import Random Forest Model\n",
        "from sklearn.ensemble import RandomForestClassifier\n",
        "X = features_nf.values\n",
        "y = df_filtered.loc[:,['Winner']].values\n",
        "X_train, X_test, y_train, y_test = train_test_split(X, y, test_size=0.2, random_state = 1234)\n",
        "#Create a Gaussian Classifier\n",
        "rfc=RandomForestClassifier(n_estimators=120, criterion='gini', max_depth=6)\n",
        "#Train the model using the training sets y_pred=clf.predict(X_test)\n",
        "rfc.fit(X_train,y_train.ravel())\n",
        "\n",
        "print(X_train.shape,X_test.shape)\n",
        "\n",
        "print('Accuracy of Random classifier on training set: {:.4f}'\n",
        "     .format(rfc.score(X_train, y_train)))\n",
        "print('Accuracy of Random classifier on test set: {:.4f}'\n",
        "     .format(rfc.score(X_test, y_test)))\n",
        "\n",
        "pred = rfc.predict(X_test)\n",
        "print(confusion_matrix(y_test, pred))\n",
        "print(classification_report(y_test, pred))\n",
        "\n",
        "report = classification_report(y_test, pred, output_dict=True)\n",
        "report = pd.DataFrame(report).transpose()\n",
        "report.to_csv(\"Report_RF_PCA.csv\")"
      ],
      "execution_count": 31,
      "outputs": [
        {
          "output_type": "stream",
          "text": [
            "(2561, 15) (641, 15)\n",
            "Accuracy of Random classifier on training set: 0.6837\n",
            "Accuracy of Random classifier on test set: 0.6474\n",
            "[[ 14   0 207]\n",
            " [  0   0   7]\n",
            " [ 12   0 401]]\n",
            "              precision    recall  f1-score   support\n",
            "\n",
            "        Blue       0.54      0.06      0.11       221\n",
            "        Draw       0.00      0.00      0.00         7\n",
            "         Red       0.65      0.97      0.78       413\n",
            "\n",
            "    accuracy                           0.65       641\n",
            "   macro avg       0.40      0.34      0.30       641\n",
            "weighted avg       0.61      0.65      0.54       641\n",
            "\n"
          ],
          "name": "stdout"
        },
        {
          "output_type": "stream",
          "text": [
            "/usr/local/lib/python3.6/dist-packages/sklearn/metrics/_classification.py:1272: UndefinedMetricWarning: Precision and F-score are ill-defined and being set to 0.0 in labels with no predicted samples. Use `zero_division` parameter to control this behavior.\n",
            "  _warn_prf(average, modifier, msg_start, len(result))\n"
          ],
          "name": "stderr"
        }
      ]
    },
    {
      "cell_type": "markdown",
      "metadata": {
        "id": "ePfoe93KS1co"
      },
      "source": [
        "Reset Variables "
      ]
    },
    {
      "cell_type": "code",
      "metadata": {
        "id": "zdoLoAMOKh1Q"
      },
      "source": [
        "del X, X_test, X_train,y, y_test, y_train, rfc, pred, report"
      ],
      "execution_count": 32,
      "outputs": []
    },
    {
      "cell_type": "markdown",
      "metadata": {
        "id": "UoZKGDB9S4JV"
      },
      "source": [
        "Select features according to the Gini importance "
      ]
    },
    {
      "cell_type": "code",
      "metadata": {
        "id": "gJW7I8GwKorP",
        "colab": {
          "base_uri": "https://localhost:8080/",
          "height": 52
        },
        "outputId": "bad4b859-9268-43f3-b8d1-76f4167fbb73"
      },
      "source": [
        "size = 15\n",
        "features_rf = df_filtered[feature_imp.index[0:size]]\n",
        "\n",
        "\"\"\"import matplotlib.pyplot as plt\n",
        "import seaborn as sns\n",
        "%matplotlib inline\n",
        "# Creating a bar plot\n",
        "sns.barplot(x=feature_imp[0:size], y= feature_imp[0:size].index)\n",
        "# Add labels to your graph\n",
        "plt.xlabel('Feature Importance Score')\n",
        "plt.ylabel('Features')\n",
        "plt.title(\"Visualizing Important Features\")\n",
        "plt.legend()\n",
        "plt.show()\n",
        "print(features_rf.shape)\n",
        "features_rf.describe()\n",
        "\n",
        "print(features_rf.columns)\"\"\""
      ],
      "execution_count": 33,
      "outputs": [
        {
          "output_type": "execute_result",
          "data": {
            "application/vnd.google.colaboratory.intrinsic+json": {
              "type": "string"
            },
            "text/plain": [
              "'import matplotlib.pyplot as plt\\nimport seaborn as sns\\n%matplotlib inline\\n# Creating a bar plot\\nsns.barplot(x=feature_imp[0:size], y= feature_imp[0:size].index)\\n# Add labels to your graph\\nplt.xlabel(\\'Feature Importance Score\\')\\nplt.ylabel(\\'Features\\')\\nplt.title(\"Visualizing Important Features\")\\nplt.legend()\\nplt.show()\\nprint(features_rf.shape)\\nfeatures_rf.describe()\\n\\nprint(features_rf.columns)'"
            ]
          },
          "metadata": {
            "tags": []
          },
          "execution_count": 33
        }
      ]
    },
    {
      "cell_type": "markdown",
      "metadata": {
        "id": "e2Khfp-wSqlQ"
      },
      "source": [
        "Decision Tree trained with  important features according to the Gini importance "
      ]
    },
    {
      "cell_type": "code",
      "metadata": {
        "id": "D5ISpV-hLFCB",
        "colab": {
          "base_uri": "https://localhost:8080/",
          "height": 447
        },
        "outputId": "167f3041-f80a-41ea-8674-abcc90da1abe"
      },
      "source": [
        "inputs = ['R_age', 'R_avg_opp_SIG_STR_pct', 'R_avg_opp_SIG_STR_landed',\n",
        "       'B_avg_DISTANCE_landed', 'B_avg_SIG_STR_att', 'R_avg_opp_HEAD_landed',\n",
        "       'B_age', 'B_avg_opp_TOTAL_STR_landed', 'R_avg_opp_TOTAL_STR_landed',\n",
        "       'B_avg_HEAD_att', 'R_avg_GROUND_att', 'B_avg_opp_SIG_STR_pct',\n",
        "       'B_avg_BODY_att', 'R_avg_GROUND_landed', 'R_avg_opp_DISTANCE_landed']\n",
        "\n",
        "print(inputs)\n",
        "dt_final =df_filtered[inputs]\n",
        "X = dt_final.values\n",
        "y = df_filtered.loc[:,['Winner']].values\n",
        "\n",
        "X_train, X_test, y_train, y_test = train_test_split(X, y, test_size=0.2, random_state = 1234) # 80% training and 20% test\n",
        "\n",
        "print(X_train.shape, X_test.shape)\n",
        "# Create Decision Tree classifer object\n",
        "dt = DecisionTreeClassifier(criterion=\"gini\", max_depth=6)\n",
        "# Train Decision Tree Classifer\n",
        "dt = dt.fit(X_train,y_train)\n",
        "#Predict the response for test dataset\n",
        "print('Accuracy of Decision Tree classifier on training set: {:.4f}'\n",
        "     .format(dt.score(X_train, y_train)))\n",
        "print('Accuracy of Decision Tree classifier on test set: {:.4f}'\n",
        "     .format(dt.score(X_test, y_test)))\n",
        "\n",
        "pred = dt.predict(X_test)\n",
        "print(confusion_matrix(y_test, pred))\n",
        "print(classification_report(y_test, pred))\n",
        "\n",
        "report = classification_report(y_test, pred, output_dict=True)\n",
        "report = pd.DataFrame(report).transpose()\n",
        "report.to_csv(\"Report_DT_RFF.csv\")\n",
        "\n",
        "f = dt.predict_proba(X_test) \n",
        "\n",
        "prob_DF =  pd.DataFrame(f, columns=dt.classes_)\n",
        "\n",
        "prob_DF.head(3)"
      ],
      "execution_count": 34,
      "outputs": [
        {
          "output_type": "stream",
          "text": [
            "['R_age', 'R_avg_opp_SIG_STR_pct', 'R_avg_opp_SIG_STR_landed', 'B_avg_DISTANCE_landed', 'B_avg_SIG_STR_att', 'R_avg_opp_HEAD_landed', 'B_age', 'B_avg_opp_TOTAL_STR_landed', 'R_avg_opp_TOTAL_STR_landed', 'B_avg_HEAD_att', 'R_avg_GROUND_att', 'B_avg_opp_SIG_STR_pct', 'B_avg_BODY_att', 'R_avg_GROUND_landed', 'R_avg_opp_DISTANCE_landed']\n",
            "(2561, 15) (641, 15)\n",
            "Accuracy of Decision Tree classifier on training set: 0.6790\n",
            "Accuracy of Decision Tree classifier on test set: 0.6349\n",
            "[[ 62   0 159]\n",
            " [  1   0   6]\n",
            " [ 67   1 345]]\n",
            "              precision    recall  f1-score   support\n",
            "\n",
            "        Blue       0.48      0.28      0.35       221\n",
            "        Draw       0.00      0.00      0.00         7\n",
            "         Red       0.68      0.84      0.75       413\n",
            "\n",
            "    accuracy                           0.63       641\n",
            "   macro avg       0.38      0.37      0.37       641\n",
            "weighted avg       0.60      0.63      0.60       641\n",
            "\n"
          ],
          "name": "stdout"
        },
        {
          "output_type": "execute_result",
          "data": {
            "text/html": [
              "<div>\n",
              "<style scoped>\n",
              "    .dataframe tbody tr th:only-of-type {\n",
              "        vertical-align: middle;\n",
              "    }\n",
              "\n",
              "    .dataframe tbody tr th {\n",
              "        vertical-align: top;\n",
              "    }\n",
              "\n",
              "    .dataframe thead th {\n",
              "        text-align: right;\n",
              "    }\n",
              "</style>\n",
              "<table border=\"1\" class=\"dataframe\">\n",
              "  <thead>\n",
              "    <tr style=\"text-align: right;\">\n",
              "      <th></th>\n",
              "      <th>Blue</th>\n",
              "      <th>Draw</th>\n",
              "      <th>Red</th>\n",
              "    </tr>\n",
              "  </thead>\n",
              "  <tbody>\n",
              "    <tr>\n",
              "      <th>0</th>\n",
              "      <td>0.215789</td>\n",
              "      <td>0.010526</td>\n",
              "      <td>0.773684</td>\n",
              "    </tr>\n",
              "    <tr>\n",
              "      <th>1</th>\n",
              "      <td>0.402597</td>\n",
              "      <td>0.000000</td>\n",
              "      <td>0.597403</td>\n",
              "    </tr>\n",
              "    <tr>\n",
              "      <th>2</th>\n",
              "      <td>0.035971</td>\n",
              "      <td>0.000000</td>\n",
              "      <td>0.964029</td>\n",
              "    </tr>\n",
              "  </tbody>\n",
              "</table>\n",
              "</div>"
            ],
            "text/plain": [
              "       Blue      Draw       Red\n",
              "0  0.215789  0.010526  0.773684\n",
              "1  0.402597  0.000000  0.597403\n",
              "2  0.035971  0.000000  0.964029"
            ]
          },
          "metadata": {
            "tags": []
          },
          "execution_count": 34
        }
      ]
    },
    {
      "cell_type": "markdown",
      "metadata": {
        "id": "Sm0fP5k3Sl8W"
      },
      "source": [
        "Reset Variables "
      ]
    },
    {
      "cell_type": "code",
      "metadata": {
        "id": "eO9MFWOnLN1W"
      },
      "source": [
        "del X, X_test, X_train,y, y_test, y_train, dt, pred, report"
      ],
      "execution_count": 35,
      "outputs": []
    },
    {
      "cell_type": "markdown",
      "metadata": {
        "id": "UZ6GFy09SfJ5"
      },
      "source": [
        "KNN classifier trained with  important features according to the Gini importance "
      ]
    },
    {
      "cell_type": "code",
      "metadata": {
        "id": "s3bXhyD6LTqL",
        "colab": {
          "base_uri": "https://localhost:8080/"
        },
        "outputId": "7c67cb4d-59d7-43cb-912c-df399d606ad9"
      },
      "source": [
        "from sklearn.model_selection import train_test_split\n",
        "from sklearn.neighbors import KNeighborsClassifier\n",
        "\n",
        "inputs = ['R_age', 'R_avg_opp_SIG_STR_pct', 'R_avg_opp_SIG_STR_landed',\n",
        "       'B_avg_DISTANCE_landed', 'B_avg_SIG_STR_att', 'R_avg_opp_HEAD_landed',\n",
        "       'B_age', 'B_avg_opp_TOTAL_STR_landed', 'R_avg_opp_TOTAL_STR_landed',\n",
        "       'B_avg_HEAD_att', 'R_avg_GROUND_att', 'B_avg_opp_SIG_STR_pct',\n",
        "       'B_avg_BODY_att', 'R_avg_GROUND_landed', 'R_avg_opp_DISTANCE_landed']\n",
        "\n",
        "print(inputs)\n",
        "dt_final =df_filtered[inputs]\n",
        "X = dt_final.values\n",
        "y = df_filtered.loc[:,['Winner']].values\n",
        "#Split data in train and test sets \n",
        "X_train, X_test, y_train, y_test = train_test_split(X, y, test_size=0.2, random_state = 1)\n",
        "print(X_test.shape, X_train.shape)\n",
        "\n",
        "#Scale the data \n",
        "scaler = StandardScaler()\n",
        "X_train = scaler.fit_transform(X_train)\n",
        "X_test = scaler.transform(X_test)\n",
        "\n",
        "\n",
        "n_neighbors = 7\n",
        "knn = KNeighborsClassifier(n_neighbors)\n",
        "knn.fit(X_train, y_train.ravel())\n",
        "print('Accuracy of K-NN classifier on training set: {:.4f}'\n",
        "     .format(knn.score(X_train, y_train)))\n",
        "print('Accuracy of K-NN classifier on test set: {:.4f}'\n",
        "     .format(knn.score(X_test, y_test)))\n",
        "\n",
        "pred = knn.predict(X_test)\n",
        "print(X_test.shape)\n",
        "print(confusion_matrix(y_test, pred))\n",
        "print(classification_report(y_test, pred))\n",
        "\n",
        "report = classification_report(y_test, pred, output_dict=True)\n",
        "report = pd.DataFrame(report).transpose()\n",
        "report.to_csv(\"Report_KNN_RFC.csv\")"
      ],
      "execution_count": 36,
      "outputs": [
        {
          "output_type": "stream",
          "text": [
            "['R_age', 'R_avg_opp_SIG_STR_pct', 'R_avg_opp_SIG_STR_landed', 'B_avg_DISTANCE_landed', 'B_avg_SIG_STR_att', 'R_avg_opp_HEAD_landed', 'B_age', 'B_avg_opp_TOTAL_STR_landed', 'R_avg_opp_TOTAL_STR_landed', 'B_avg_HEAD_att', 'R_avg_GROUND_att', 'B_avg_opp_SIG_STR_pct', 'B_avg_BODY_att', 'R_avg_GROUND_landed', 'R_avg_opp_DISTANCE_landed']\n",
            "(641, 15) (2561, 15)\n",
            "Accuracy of K-NN classifier on training set: 0.7282\n",
            "Accuracy of K-NN classifier on test set: 0.6490\n",
            "(641, 15)\n",
            "[[ 90   0 133]\n",
            " [  4   0   8]\n",
            " [ 80   0 326]]\n",
            "              precision    recall  f1-score   support\n",
            "\n",
            "        Blue       0.52      0.40      0.45       223\n",
            "        Draw       0.00      0.00      0.00        12\n",
            "         Red       0.70      0.80      0.75       406\n",
            "\n",
            "    accuracy                           0.65       641\n",
            "   macro avg       0.41      0.40      0.40       641\n",
            "weighted avg       0.62      0.65      0.63       641\n",
            "\n"
          ],
          "name": "stdout"
        },
        {
          "output_type": "stream",
          "text": [
            "/usr/local/lib/python3.6/dist-packages/sklearn/metrics/_classification.py:1272: UndefinedMetricWarning: Precision and F-score are ill-defined and being set to 0.0 in labels with no predicted samples. Use `zero_division` parameter to control this behavior.\n",
            "  _warn_prf(average, modifier, msg_start, len(result))\n"
          ],
          "name": "stderr"
        }
      ]
    },
    {
      "cell_type": "markdown",
      "metadata": {
        "id": "McttcJsGSbyM"
      },
      "source": [
        "Reset Variables "
      ]
    },
    {
      "cell_type": "code",
      "metadata": {
        "id": "VmAB7e3qMOoK"
      },
      "source": [
        "del X, X_test, X_train,y, y_test, y_train, knn, pred, report"
      ],
      "execution_count": 37,
      "outputs": []
    },
    {
      "cell_type": "markdown",
      "metadata": {
        "id": "1JqnbMxaSR8z"
      },
      "source": [
        "SVM classifier trained with  important features according to the Gini importance "
      ]
    },
    {
      "cell_type": "code",
      "metadata": {
        "id": "Mk8I0wMaMDQY",
        "colab": {
          "base_uri": "https://localhost:8080/"
        },
        "outputId": "f49e8266-45bf-4504-e99a-4834d708c173"
      },
      "source": [
        "# Import train_test_split function\n",
        "from sklearn.model_selection import train_test_split\n",
        "from sklearn import svm\n",
        "inputs = ['R_age', 'R_avg_opp_SIG_STR_pct', 'R_avg_opp_SIG_STR_landed',\n",
        "       'B_avg_DISTANCE_landed', 'B_avg_SIG_STR_att', 'R_avg_opp_HEAD_landed',\n",
        "       'B_age', 'B_avg_opp_TOTAL_STR_landed', 'R_avg_opp_TOTAL_STR_landed',\n",
        "       'B_avg_HEAD_att', 'R_avg_GROUND_att', 'B_avg_opp_SIG_STR_pct',\n",
        "       'B_avg_BODY_att', 'R_avg_GROUND_landed', 'R_avg_opp_DISTANCE_landed']\n",
        "\n",
        "print(inputs)\n",
        "dt_final =df_filtered[inputs]\n",
        "X = dt_final.values\n",
        "y = df_filtered.loc[:,['Winner']].values\n",
        "# Split dataset into training set and test set\n",
        "X_train, X_test, y_train, y_test = train_test_split(X, y, test_size=0.2, random_state = 25) # 80% training and 30% test\n",
        "X_train = StandardScaler().fit_transform(X_train)\n",
        "X_test = StandardScaler().fit_transform(X_test)\n",
        "\n",
        "print(X_train.shape, X_test.shape)\n",
        "\n",
        "#Create a svm Classifier\n",
        "svc = svm.SVC(kernel='rbf') # Linear Kernel\n",
        "#Train the model using the training sets\n",
        "svc.fit(X_train, y_train.ravel())\n",
        "#Predict the response for test dataset\n",
        "print('Accuracy of Random classifier on training set: {:.4f}'\n",
        "     .format(svc.score(X_train, y_train)))\n",
        "print('Accuracy of Random classifier on test set: {:.4f}'\n",
        "     .format(svc.score(X_test, y_test)))\n",
        "\n",
        "pred = svc.predict(X_test)\n",
        "print(confusion_matrix(y_test, pred))\n",
        "print(classification_report(y_test, pred))\n",
        "\n",
        "report = classification_report(y_test, pred, output_dict=True)\n",
        "report = pd.DataFrame(report).transpose()\n",
        "report.to_csv(\"Report_SVM_RFC.csv\")"
      ],
      "execution_count": 38,
      "outputs": [
        {
          "output_type": "stream",
          "text": [
            "['R_age', 'R_avg_opp_SIG_STR_pct', 'R_avg_opp_SIG_STR_landed', 'B_avg_DISTANCE_landed', 'B_avg_SIG_STR_att', 'R_avg_opp_HEAD_landed', 'B_age', 'B_avg_opp_TOTAL_STR_landed', 'R_avg_opp_TOTAL_STR_landed', 'B_avg_HEAD_att', 'R_avg_GROUND_att', 'B_avg_opp_SIG_STR_pct', 'B_avg_BODY_att', 'R_avg_GROUND_landed', 'R_avg_opp_DISTANCE_landed']\n",
            "(2561, 15) (641, 15)\n",
            "Accuracy of Random classifier on training set: 0.6974\n",
            "Accuracy of Random classifier on test set: 0.6349\n",
            "[[ 32   0 189]\n",
            " [  2   0   9]\n",
            " [ 34   0 375]]\n",
            "              precision    recall  f1-score   support\n",
            "\n",
            "        Blue       0.47      0.14      0.22       221\n",
            "        Draw       0.00      0.00      0.00        11\n",
            "         Red       0.65      0.92      0.76       409\n",
            "\n",
            "    accuracy                           0.63       641\n",
            "   macro avg       0.38      0.35      0.33       641\n",
            "weighted avg       0.58      0.63      0.56       641\n",
            "\n"
          ],
          "name": "stdout"
        },
        {
          "output_type": "stream",
          "text": [
            "/usr/local/lib/python3.6/dist-packages/sklearn/metrics/_classification.py:1272: UndefinedMetricWarning: Precision and F-score are ill-defined and being set to 0.0 in labels with no predicted samples. Use `zero_division` parameter to control this behavior.\n",
            "  _warn_prf(average, modifier, msg_start, len(result))\n"
          ],
          "name": "stderr"
        }
      ]
    },
    {
      "cell_type": "markdown",
      "metadata": {
        "id": "6NjJG-b0SPEM"
      },
      "source": [
        "Reset variables "
      ]
    },
    {
      "cell_type": "code",
      "metadata": {
        "id": "4UbM6mSUwEc8"
      },
      "source": [
        "del X, X_test, X_train,y, y_test, y_train, svc, pred, report"
      ],
      "execution_count": 39,
      "outputs": []
    },
    {
      "cell_type": "markdown",
      "metadata": {
        "id": "YntrY9ZGR58y"
      },
      "source": [
        "Random Forest with most important features according to the Gini importance "
      ]
    },
    {
      "cell_type": "code",
      "metadata": {
        "id": "S45P2GiiwHNR",
        "colab": {
          "base_uri": "https://localhost:8080/"
        },
        "outputId": "cc68ce5f-a80a-4ca3-d212-4b1a4b690cb3"
      },
      "source": [
        "#Import Random Forest Model\n",
        "from sklearn.ensemble import RandomForestClassifier\n",
        "inputs = ['R_age', 'R_avg_opp_SIG_STR_pct', 'R_avg_opp_SIG_STR_landed',\n",
        "       'B_avg_DISTANCE_landed', 'B_avg_SIG_STR_att', 'R_avg_opp_HEAD_landed',\n",
        "       'B_age', 'B_avg_opp_TOTAL_STR_landed', 'R_avg_opp_TOTAL_STR_landed',\n",
        "       'B_avg_HEAD_att', 'R_avg_GROUND_att', 'B_avg_opp_SIG_STR_pct',\n",
        "       'B_avg_BODY_att', 'R_avg_GROUND_landed', 'R_avg_opp_DISTANCE_landed']\n",
        "\n",
        "print(inputs)\n",
        "dt_final =df_filtered[inputs]\n",
        "X = dt_final.values\n",
        "y = df_filtered.loc[:,['Winner']].values\n",
        "X_train, X_test, y_train, y_test = train_test_split(X, y, test_size=0.2, random_state = 1234)\n",
        "\n",
        "rfc=RandomForestClassifier(n_estimators=120, criterion='gini', max_depth=6)\n",
        "rfc.fit(X_train,y_train.ravel())\n",
        "print(X_train.shape,X_test.shape)\n",
        "print('Accuracy of Random classifier on training set: {:.4f}'\n",
        "     .format(rfc.score(X_train, y_train)))\n",
        "print('Accuracy of Random classifier on test set: {:.4f}'\n",
        "     .format(rfc.score(X_test, y_test)))\n",
        "\n",
        "pred = rfc.predict(X_test)\n",
        "print(confusion_matrix(y_test, pred))\n",
        "print(classification_report(y_test, pred))\n",
        "\n",
        "report = classification_report(y_test, pred, output_dict=True)\n",
        "report = pd.DataFrame(report).transpose()\n",
        "report.to_csv(\"Report_RF_RFC.csv\")"
      ],
      "execution_count": 40,
      "outputs": [
        {
          "output_type": "stream",
          "text": [
            "['R_age', 'R_avg_opp_SIG_STR_pct', 'R_avg_opp_SIG_STR_landed', 'B_avg_DISTANCE_landed', 'B_avg_SIG_STR_att', 'R_avg_opp_HEAD_landed', 'B_age', 'B_avg_opp_TOTAL_STR_landed', 'R_avg_opp_TOTAL_STR_landed', 'B_avg_HEAD_att', 'R_avg_GROUND_att', 'B_avg_opp_SIG_STR_pct', 'B_avg_BODY_att', 'R_avg_GROUND_landed', 'R_avg_opp_DISTANCE_landed']\n",
            "(2561, 15) (641, 15)\n",
            "Accuracy of Random classifier on training set: 0.7200\n",
            "Accuracy of Random classifier on test set: 0.6677\n",
            "[[ 35   0 186]\n",
            " [  0   0   7]\n",
            " [ 20   0 393]]\n",
            "              precision    recall  f1-score   support\n",
            "\n",
            "        Blue       0.64      0.16      0.25       221\n",
            "        Draw       0.00      0.00      0.00         7\n",
            "         Red       0.67      0.95      0.79       413\n",
            "\n",
            "    accuracy                           0.67       641\n",
            "   macro avg       0.44      0.37      0.35       641\n",
            "weighted avg       0.65      0.67      0.59       641\n",
            "\n"
          ],
          "name": "stdout"
        },
        {
          "output_type": "stream",
          "text": [
            "/usr/local/lib/python3.6/dist-packages/sklearn/metrics/_classification.py:1272: UndefinedMetricWarning: Precision and F-score are ill-defined and being set to 0.0 in labels with no predicted samples. Use `zero_division` parameter to control this behavior.\n",
            "  _warn_prf(average, modifier, msg_start, len(result))\n"
          ],
          "name": "stderr"
        }
      ]
    },
    {
      "cell_type": "code",
      "metadata": {
        "id": "wjCO46QYys-c"
      },
      "source": [
        "del X, X_test, X_train,y, y_test, y_train, rfc, pred, report"
      ],
      "execution_count": 41,
      "outputs": []
    },
    {
      "cell_type": "markdown",
      "metadata": {
        "id": "IZsjz9pwWWEY"
      },
      "source": [
        "Final Model Training with variables based on the Gini Index Criteria "
      ]
    },
    {
      "cell_type": "code",
      "metadata": {
        "id": "yH6KE4y0f5DL",
        "colab": {
          "base_uri": "https://localhost:8080/",
          "height": 690
        },
        "outputId": "942f5a62-417a-4358-8ba2-21d1717ffc46"
      },
      "source": [
        "#This are the final predictors that will be tested for the model \n",
        "inputs = ['R_age', 'R_avg_opp_SIG_STR_pct', 'R_avg_opp_SIG_STR_landed',\n",
        "       'B_avg_DISTANCE_landed', 'B_avg_SIG_STR_att', 'R_avg_opp_HEAD_landed',\n",
        "       'B_age', 'B_avg_opp_TOTAL_STR_landed', 'R_avg_opp_TOTAL_STR_landed',\n",
        "       'B_avg_HEAD_att', 'R_avg_GROUND_att', 'B_avg_opp_SIG_STR_pct',\n",
        "       'B_avg_BODY_att', 'R_avg_GROUND_landed', 'R_avg_opp_DISTANCE_landed']\n",
        "\n",
        "print(inputs)\n",
        "\n",
        "dt_final =df_filtered[inputs]\n",
        "\n",
        "X = dt_final.values\n",
        "y = df_filtered.loc[:,['Winner']].values\n",
        "\n",
        "X_train, X_test, y_train, y_test = train_test_split(X, y, test_size=0.2, random_state = 1234) # 80% training and 20% test\n",
        "\n",
        "print(X_train.shape, X_test.shape)\n",
        "# Create Decision Tree classifer object\n",
        "dt = DecisionTreeClassifier(criterion=\"gini\", max_depth=6)\n",
        "# Train Decision Tree Classifer\n",
        "dt = dt.fit(X_train,y_train)\n",
        "#Predict the response for test dataset\n",
        "print('Accuracy of Decision Tree classifier on training set: {:.4f}'\n",
        "     .format(dt.score(X_train, y_train)))\n",
        "print('Accuracy of Decision Tree classifier on test set: {:.4f}'\n",
        "     .format(dt.score(X_test, y_test)))\n",
        "\n",
        "pred = dt.predict(X_test)\n",
        "print(confusion_matrix(y_test, pred))\n",
        "print(classification_report(y_test, pred))\n",
        "\n",
        "report = classification_report(y_test, pred, output_dict=True)\n",
        "report = pd.DataFrame(report).transpose()\n",
        "report.to_csv(\"Report_DT_RFF.csv\")\n",
        "\n",
        "from sklearn.externals.six import StringIO  \n",
        "from IPython.display import Image  \n",
        "from sklearn.tree import export_graphviz\n",
        "import pydotplus\n",
        "dot_data = StringIO()\n",
        "export_graphviz(dt, out_file=dot_data,  \n",
        "                filled=True, rounded=True,\n",
        "                special_characters=True, feature_names = features_rf.columns,class_names=['Blue','Draw', 'Red'])\n",
        "graph = pydotplus.graph_from_dot_data(dot_data.getvalue())  \n",
        "graph.write_png('diabetes.png')\n",
        "Image(graph.create_png())\n",
        "\n",
        "f = dt.predict_proba(X_test) \n",
        "\n",
        "prob_DF =  pd.DataFrame(f, columns=dt.classes_)\n",
        "\n",
        "prob_DF.head(10)"
      ],
      "execution_count": 42,
      "outputs": [
        {
          "output_type": "stream",
          "text": [
            "['R_age', 'R_avg_opp_SIG_STR_pct', 'R_avg_opp_SIG_STR_landed', 'B_avg_DISTANCE_landed', 'B_avg_SIG_STR_att', 'R_avg_opp_HEAD_landed', 'B_age', 'B_avg_opp_TOTAL_STR_landed', 'R_avg_opp_TOTAL_STR_landed', 'B_avg_HEAD_att', 'R_avg_GROUND_att', 'B_avg_opp_SIG_STR_pct', 'B_avg_BODY_att', 'R_avg_GROUND_landed', 'R_avg_opp_DISTANCE_landed']\n",
            "(2561, 15) (641, 15)\n"
          ],
          "name": "stdout"
        },
        {
          "output_type": "stream",
          "text": [
            "/usr/local/lib/python3.6/dist-packages/sklearn/externals/six.py:31: FutureWarning: The module is deprecated in version 0.21 and will be removed in version 0.23 since we've dropped support for Python 2.7. Please rely on the official version of six (https://pypi.org/project/six/).\n",
            "  \"(https://pypi.org/project/six/).\", FutureWarning)\n"
          ],
          "name": "stderr"
        },
        {
          "output_type": "stream",
          "text": [
            "Accuracy of Decision Tree classifier on training set: 0.6790\n",
            "Accuracy of Decision Tree classifier on test set: 0.6349\n",
            "[[ 61   1 159]\n",
            " [  1   0   6]\n",
            " [ 67   0 346]]\n",
            "              precision    recall  f1-score   support\n",
            "\n",
            "        Blue       0.47      0.28      0.35       221\n",
            "        Draw       0.00      0.00      0.00         7\n",
            "         Red       0.68      0.84      0.75       413\n",
            "\n",
            "    accuracy                           0.63       641\n",
            "   macro avg       0.38      0.37      0.37       641\n",
            "weighted avg       0.60      0.63      0.60       641\n",
            "\n"
          ],
          "name": "stdout"
        },
        {
          "output_type": "execute_result",
          "data": {
            "text/html": [
              "<div>\n",
              "<style scoped>\n",
              "    .dataframe tbody tr th:only-of-type {\n",
              "        vertical-align: middle;\n",
              "    }\n",
              "\n",
              "    .dataframe tbody tr th {\n",
              "        vertical-align: top;\n",
              "    }\n",
              "\n",
              "    .dataframe thead th {\n",
              "        text-align: right;\n",
              "    }\n",
              "</style>\n",
              "<table border=\"1\" class=\"dataframe\">\n",
              "  <thead>\n",
              "    <tr style=\"text-align: right;\">\n",
              "      <th></th>\n",
              "      <th>Blue</th>\n",
              "      <th>Draw</th>\n",
              "      <th>Red</th>\n",
              "    </tr>\n",
              "  </thead>\n",
              "  <tbody>\n",
              "    <tr>\n",
              "      <th>0</th>\n",
              "      <td>0.215789</td>\n",
              "      <td>0.010526</td>\n",
              "      <td>0.773684</td>\n",
              "    </tr>\n",
              "    <tr>\n",
              "      <th>1</th>\n",
              "      <td>0.402597</td>\n",
              "      <td>0.000000</td>\n",
              "      <td>0.597403</td>\n",
              "    </tr>\n",
              "    <tr>\n",
              "      <th>2</th>\n",
              "      <td>0.035971</td>\n",
              "      <td>0.000000</td>\n",
              "      <td>0.964029</td>\n",
              "    </tr>\n",
              "    <tr>\n",
              "      <th>3</th>\n",
              "      <td>0.206897</td>\n",
              "      <td>0.000000</td>\n",
              "      <td>0.793103</td>\n",
              "    </tr>\n",
              "    <tr>\n",
              "      <th>4</th>\n",
              "      <td>0.268817</td>\n",
              "      <td>0.032258</td>\n",
              "      <td>0.698925</td>\n",
              "    </tr>\n",
              "    <tr>\n",
              "      <th>5</th>\n",
              "      <td>0.402597</td>\n",
              "      <td>0.000000</td>\n",
              "      <td>0.597403</td>\n",
              "    </tr>\n",
              "    <tr>\n",
              "      <th>6</th>\n",
              "      <td>0.495536</td>\n",
              "      <td>0.026786</td>\n",
              "      <td>0.477679</td>\n",
              "    </tr>\n",
              "    <tr>\n",
              "      <th>7</th>\n",
              "      <td>0.495536</td>\n",
              "      <td>0.026786</td>\n",
              "      <td>0.477679</td>\n",
              "    </tr>\n",
              "    <tr>\n",
              "      <th>8</th>\n",
              "      <td>0.402597</td>\n",
              "      <td>0.000000</td>\n",
              "      <td>0.597403</td>\n",
              "    </tr>\n",
              "    <tr>\n",
              "      <th>9</th>\n",
              "      <td>0.485000</td>\n",
              "      <td>0.016667</td>\n",
              "      <td>0.498333</td>\n",
              "    </tr>\n",
              "  </tbody>\n",
              "</table>\n",
              "</div>"
            ],
            "text/plain": [
              "       Blue      Draw       Red\n",
              "0  0.215789  0.010526  0.773684\n",
              "1  0.402597  0.000000  0.597403\n",
              "2  0.035971  0.000000  0.964029\n",
              "3  0.206897  0.000000  0.793103\n",
              "4  0.268817  0.032258  0.698925\n",
              "5  0.402597  0.000000  0.597403\n",
              "6  0.495536  0.026786  0.477679\n",
              "7  0.495536  0.026786  0.477679\n",
              "8  0.402597  0.000000  0.597403\n",
              "9  0.485000  0.016667  0.498333"
            ]
          },
          "metadata": {
            "tags": []
          },
          "execution_count": 42
        }
      ]
    }
  ]
}