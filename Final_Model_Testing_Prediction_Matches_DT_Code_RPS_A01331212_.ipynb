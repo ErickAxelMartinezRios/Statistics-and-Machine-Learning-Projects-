{
  "nbformat": 4,
  "nbformat_minor": 0,
  "metadata": {
    "colab": {
      "name": "Final_Model_Testing_Prediction_Matches_DT_Code_RPS_A01331212 .ipynb",
      "provenance": [],
      "collapsed_sections": []
    },
    "kernelspec": {
      "name": "python3",
      "display_name": "Python 3"
    }
  },
  "cells": [
    {
      "cell_type": "markdown",
      "metadata": {
        "id": "3gxHYPP4yCPj"
      },
      "source": [
        "\n",
        "\n",
        "\n",
        "*   Erick Axel Martinez Rios A01331212\n",
        "\n",
        "*   November 20th, 2020 \n",
        "\n",
        "*   Applied Computing \n",
        "\n",
        "*   Final project \n",
        "\n",
        "*   Testing of the model \n",
        "\n",
        "\n",
        "\n",
        "\n",
        "\n",
        "\n",
        "\n",
        "\n",
        "\n",
        "\n",
        "\n",
        "\n",
        "\n"
      ]
    },
    {
      "cell_type": "markdown",
      "metadata": {
        "id": "i59rhTjF_gaj"
      },
      "source": [
        "Upload DATABASE CSV FILE and Actual_Results_FINAL csv FILE "
      ]
    },
    {
      "cell_type": "code",
      "metadata": {
        "id": "73Uv0_sFPvpa",
        "colab": {
          "resources": {
            "http://localhost:8080/nbextensions/google.colab/files.js": {
              "data": "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",
              "ok": true,
              "headers": [
                [
                  "content-type",
                  "application/javascript"
                ]
              ],
              "status": 200,
              "status_text": ""
            }
          },
          "base_uri": "https://localhost:8080/",
          "height": 106
        },
        "outputId": "7aa43581-76bd-4697-d754-3dc580b5f04a"
      },
      "source": [
        "from google.colab import files\n",
        "uploaded = files.upload()"
      ],
      "execution_count": null,
      "outputs": [
        {
          "output_type": "display_data",
          "data": {
            "text/html": [
              "\n",
              "     <input type=\"file\" id=\"files-2bbbc7dc-2a5b-4bde-8c0b-2efce51bf5ec\" name=\"files[]\" multiple disabled\n",
              "        style=\"border:none\" />\n",
              "     <output id=\"result-2bbbc7dc-2a5b-4bde-8c0b-2efce51bf5ec\">\n",
              "      Upload widget is only available when the cell has been executed in the\n",
              "      current browser session. Please rerun this cell to enable.\n",
              "      </output>\n",
              "      <script src=\"/nbextensions/google.colab/files.js\"></script> "
            ],
            "text/plain": [
              "<IPython.core.display.HTML object>"
            ]
          },
          "metadata": {
            "tags": []
          }
        },
        {
          "output_type": "stream",
          "text": [
            "Saving Actual_Results_Final.csv to Actual_Results_Final (1).csv\n",
            "Saving data.csv to data (1).csv\n"
          ],
          "name": "stdout"
        }
      ]
    },
    {
      "cell_type": "markdown",
      "metadata": {
        "id": "dd0W06n6PSUw"
      },
      "source": [
        "The CSV file imported here came from the real outcome of the fights according to the UFC stats website http://ufcstats.com/"
      ]
    },
    {
      "cell_type": "code",
      "metadata": {
        "id": "zZEoRpdFP9Fg",
        "colab": {
          "base_uri": "https://localhost:8080/"
        },
        "outputId": "08c6619e-5311-462b-9954-f805210a62e0"
      },
      "source": [
        "import io\n",
        "import numpy as np #Library to manage arrays \n",
        "import pandas as pd #Lirary for mange dataframes \n",
        "import matplotlib.pyplot as plt # Library to make plots. \n",
        "#Import csv into a dataframe \n",
        "df = pd.read_csv(io.BytesIO(uploaded['data.csv'])) \n",
        "print(\"Complete Data shape:\", df.shape) \n",
        "print(\"Data shape withput NA values\",df.dropna().shape)"
      ],
      "execution_count": null,
      "outputs": [
        {
          "output_type": "stream",
          "text": [
            "Complete Data shape: (5144, 145)\n",
            "Data shape withput NA values (3202, 145)\n"
          ],
          "name": "stdout"
        }
      ]
    },
    {
      "cell_type": "code",
      "metadata": {
        "id": "GbhEeKJ7NHhD"
      },
      "source": [
        "actual_values = pd.read_csv(io.BytesIO(uploaded['Actual_Results_Final.csv'])) "
      ],
      "execution_count": null,
      "outputs": []
    },
    {
      "cell_type": "code",
      "metadata": {
        "id": "zsJYJaKRQCAu",
        "colab": {
          "base_uri": "https://localhost:8080/"
        },
        "outputId": "3abd3623-abd6-4be9-b6ed-ef0661a4f5c5"
      },
      "source": [
        "df_n = df.dropna(axis = 0, how ='any') \n",
        "print(df_n.shape)"
      ],
      "execution_count": null,
      "outputs": [
        {
          "output_type": "stream",
          "text": [
            "(3202, 145)\n"
          ],
          "name": "stdout"
        }
      ]
    },
    {
      "cell_type": "code",
      "metadata": {
        "id": "IYMvD0MoQEtP",
        "colab": {
          "base_uri": "https://localhost:8080/"
        },
        "outputId": "c182abd8-0616-4743-d9da-a72f0f04a7dc"
      },
      "source": [
        "print('R_fighter numbers:',df_n['R_fighter'].value_counts().shape[0])\n",
        "print('B_fighter numbers:',df_n['B_fighter'].value_counts().shape[0])\n",
        "print('Referee numbers:',df_n['Referee'].value_counts().shape[0])\n",
        "print('date:',df_n['date'].value_counts().shape[0])\n",
        "print('location:',df_n['location'].value_counts().shape[0])\n",
        "print('weight_class:',df_n['weight_class'].value_counts().shape[0])\n",
        "print('R_Stance:',df_n['R_Stance'].value_counts().shape[0])\n",
        "print('B_Stance:',df_n['B_Stance'].value_counts().shape[0])"
      ],
      "execution_count": null,
      "outputs": [
        {
          "output_type": "stream",
          "text": [
            "R_fighter numbers: 875\n",
            "B_fighter numbers: 1048\n",
            "Referee numbers: 166\n",
            "date: 445\n",
            "location: 146\n",
            "weight_class: 13\n",
            "R_Stance: 4\n",
            "B_Stance: 4\n"
          ],
          "name": "stdout"
        }
      ]
    },
    {
      "cell_type": "code",
      "metadata": {
        "id": "8IHKmrKFQGnu",
        "colab": {
          "base_uri": "https://localhost:8080/"
        },
        "outputId": "5967aa49-952b-4cd9-deb0-f84a44cafa81"
      },
      "source": [
        "df_n = df_n.drop(['R_fighter', 'B_fighter', 'Referee', 'date', 'location'], axis=1)\n",
        "#df_n['R_fighter'] = df_n['R_fighter'].astype('category').cat.codes\n",
        "#df_n['B_fighter'] = df_n['B_fighter'].astype('category').cat.codes\n",
        "#df_n['location'] = df_n['location'].astype('category').cat.codes\n",
        "#f_n['Referee'] = df_n['Referee'].astype('category').cat.codes\n",
        "#df_n['date'] = df_n['date'].astype('category').cat.codes\n",
        "df_n['title_bout'] = df_n[\"title_bout\"].astype('category').cat.codes\n",
        "df_n = pd.get_dummies(df_n, columns=['R_Stance', 'B_Stance', 'weight_class'])\n",
        "print(df_n.head())\n",
        "print(df_n.shape)"
      ],
      "execution_count": null,
      "outputs": [
        {
          "output_type": "stream",
          "text": [
            "  Winner  ...  weight_class_Women's Strawweight\n",
            "0    Red  ...                                 0\n",
            "1    Red  ...                                 0\n",
            "2    Red  ...                                 0\n",
            "3   Blue  ...                                 0\n",
            "4   Blue  ...                                 0\n",
            "\n",
            "[5 rows x 158 columns]\n",
            "(3202, 158)\n"
          ],
          "name": "stdout"
        }
      ]
    },
    {
      "cell_type": "code",
      "metadata": {
        "id": "Zu5VgQcMQHQA",
        "colab": {
          "base_uri": "https://localhost:8080/"
        },
        "outputId": "622ae714-99ab-46e2-c688-797132f5ba57"
      },
      "source": [
        "df_filtered = df_n\n",
        "# Select input variables and separate target variable \n",
        "features = df_filtered.loc[:,  df_n.columns != 'Winner']\n",
        "print(features.shape)"
      ],
      "execution_count": null,
      "outputs": [
        {
          "output_type": "stream",
          "text": [
            "(3202, 157)\n"
          ],
          "name": "stdout"
        }
      ]
    },
    {
      "cell_type": "markdown",
      "metadata": {
        "id": "vlqTQpK-_ns4"
      },
      "source": [
        "*Train* decision tree model with the inputs stats from the GINI importance criteria "
      ]
    },
    {
      "cell_type": "code",
      "metadata": {
        "id": "exmGZWP-QSVY",
        "colab": {
          "base_uri": "https://localhost:8080/"
        },
        "outputId": "92075c8f-811e-4153-a937-d5df04ffba58"
      },
      "source": [
        "from sklearn.tree import DecisionTreeClassifier # Import Decision Tree Classifier\n",
        "from sklearn.model_selection import train_test_split # Import train_test_split function\n",
        "from sklearn.metrics import classification_report #Library for classification report \n",
        "from sklearn.metrics import confusion_matrix # Library to generate the confusion matrix of the model. \n",
        "#This are the final predictors that will be tested for the model \n",
        "inputs = ['R_age', 'R_avg_opp_SIG_STR_pct', 'R_avg_opp_SIG_STR_landed',\n",
        "       'B_avg_DISTANCE_landed', 'B_avg_SIG_STR_att', 'R_avg_opp_HEAD_landed',\n",
        "       'B_age', 'B_avg_opp_TOTAL_STR_landed', 'R_avg_opp_TOTAL_STR_landed',\n",
        "       'B_avg_HEAD_att', 'R_avg_GROUND_att', 'B_avg_opp_SIG_STR_pct',\n",
        "       'B_avg_BODY_att', 'R_avg_GROUND_landed', 'R_avg_opp_DISTANCE_landed']\n",
        "\n",
        "print(inputs)\n",
        "\n",
        "dt_final =df_filtered[inputs]\n",
        "\n",
        "X = dt_final.values\n",
        "y = df_filtered.loc[:,['Winner']].values\n",
        "\n",
        "X_train, X_test, y_train, y_test = train_test_split(X, y, test_size=0.2, random_state = 1234) # 80% training and 20% test\n",
        "\n",
        "print(X_train.shape, X_test.shape)\n",
        "# Create Decision Tree classifer object\n",
        "dt = DecisionTreeClassifier(criterion=\"gini\", max_depth=6)\n",
        "# Train Decision Tree Classifer\n",
        "dt = dt.fit(X_train,y_train)\n",
        "#Predict the response for test dataset\n",
        "print('Accuracy of Decision Tree classifier on training set: {:.4f}'\n",
        "     .format(dt.score(X_train, y_train)))\n",
        "print('Accuracy of Decision Tree classifier on test set: {:.4f}'\n",
        "     .format(dt.score(X_test, y_test)))\n",
        "\n",
        "pred = dt.predict(X_test)\n",
        "print(confusion_matrix(y_test, pred))\n",
        "print(classification_report(y_test, pred))\n",
        "\n",
        "report = classification_report(y_test, pred, output_dict=True)\n",
        "report = pd.DataFrame(report).transpose()\n",
        "report.to_csv(\"Report_DT_RFF_FINAL.csv\")\n",
        "\n",
        "\n",
        "f = dt.predict_proba(X_test) \n",
        "\n",
        "prob_DF =  pd.DataFrame(f, columns=dt.classes_)\n",
        "\n",
        "prob_DF.head(10)"
      ],
      "execution_count": null,
      "outputs": [
        {
          "output_type": "stream",
          "text": [
            "['R_age', 'R_avg_opp_SIG_STR_pct', 'R_avg_opp_SIG_STR_landed', 'B_avg_DISTANCE_landed', 'B_avg_SIG_STR_att', 'R_avg_opp_HEAD_landed', 'B_age', 'B_avg_opp_TOTAL_STR_landed', 'R_avg_opp_TOTAL_STR_landed', 'B_avg_HEAD_att', 'R_avg_GROUND_att', 'B_avg_opp_SIG_STR_pct', 'B_avg_BODY_att', 'R_avg_GROUND_landed', 'R_avg_opp_DISTANCE_landed']\n",
            "(2561, 15) (641, 15)\n",
            "Accuracy of Decision Tree classifier on training set: 0.6790\n",
            "Accuracy of Decision Tree classifier on test set: 0.6365\n",
            "[[ 62   1 158]\n",
            " [  1   0   6]\n",
            " [ 67   0 346]]\n",
            "              precision    recall  f1-score   support\n",
            "\n",
            "        Blue       0.48      0.28      0.35       221\n",
            "        Draw       0.00      0.00      0.00         7\n",
            "         Red       0.68      0.84      0.75       413\n",
            "\n",
            "    accuracy                           0.64       641\n",
            "   macro avg       0.39      0.37      0.37       641\n",
            "weighted avg       0.60      0.64      0.60       641\n",
            "\n"
          ],
          "name": "stdout"
        },
        {
          "output_type": "execute_result",
          "data": {
            "text/html": [
              "<div>\n",
              "<style scoped>\n",
              "    .dataframe tbody tr th:only-of-type {\n",
              "        vertical-align: middle;\n",
              "    }\n",
              "\n",
              "    .dataframe tbody tr th {\n",
              "        vertical-align: top;\n",
              "    }\n",
              "\n",
              "    .dataframe thead th {\n",
              "        text-align: right;\n",
              "    }\n",
              "</style>\n",
              "<table border=\"1\" class=\"dataframe\">\n",
              "  <thead>\n",
              "    <tr style=\"text-align: right;\">\n",
              "      <th></th>\n",
              "      <th>Blue</th>\n",
              "      <th>Draw</th>\n",
              "      <th>Red</th>\n",
              "    </tr>\n",
              "  </thead>\n",
              "  <tbody>\n",
              "    <tr>\n",
              "      <th>0</th>\n",
              "      <td>0.215789</td>\n",
              "      <td>0.010526</td>\n",
              "      <td>0.773684</td>\n",
              "    </tr>\n",
              "    <tr>\n",
              "      <th>1</th>\n",
              "      <td>0.402597</td>\n",
              "      <td>0.000000</td>\n",
              "      <td>0.597403</td>\n",
              "    </tr>\n",
              "    <tr>\n",
              "      <th>2</th>\n",
              "      <td>0.035971</td>\n",
              "      <td>0.000000</td>\n",
              "      <td>0.964029</td>\n",
              "    </tr>\n",
              "    <tr>\n",
              "      <th>3</th>\n",
              "      <td>0.206897</td>\n",
              "      <td>0.000000</td>\n",
              "      <td>0.793103</td>\n",
              "    </tr>\n",
              "    <tr>\n",
              "      <th>4</th>\n",
              "      <td>0.268817</td>\n",
              "      <td>0.032258</td>\n",
              "      <td>0.698925</td>\n",
              "    </tr>\n",
              "    <tr>\n",
              "      <th>5</th>\n",
              "      <td>0.402597</td>\n",
              "      <td>0.000000</td>\n",
              "      <td>0.597403</td>\n",
              "    </tr>\n",
              "    <tr>\n",
              "      <th>6</th>\n",
              "      <td>0.495536</td>\n",
              "      <td>0.026786</td>\n",
              "      <td>0.477679</td>\n",
              "    </tr>\n",
              "    <tr>\n",
              "      <th>7</th>\n",
              "      <td>0.495536</td>\n",
              "      <td>0.026786</td>\n",
              "      <td>0.477679</td>\n",
              "    </tr>\n",
              "    <tr>\n",
              "      <th>8</th>\n",
              "      <td>0.402597</td>\n",
              "      <td>0.000000</td>\n",
              "      <td>0.597403</td>\n",
              "    </tr>\n",
              "    <tr>\n",
              "      <th>9</th>\n",
              "      <td>0.485000</td>\n",
              "      <td>0.016667</td>\n",
              "      <td>0.498333</td>\n",
              "    </tr>\n",
              "  </tbody>\n",
              "</table>\n",
              "</div>"
            ],
            "text/plain": [
              "       Blue      Draw       Red\n",
              "0  0.215789  0.010526  0.773684\n",
              "1  0.402597  0.000000  0.597403\n",
              "2  0.035971  0.000000  0.964029\n",
              "3  0.206897  0.000000  0.793103\n",
              "4  0.268817  0.032258  0.698925\n",
              "5  0.402597  0.000000  0.597403\n",
              "6  0.495536  0.026786  0.477679\n",
              "7  0.495536  0.026786  0.477679\n",
              "8  0.402597  0.000000  0.597403\n",
              "9  0.485000  0.016667  0.498333"
            ]
          },
          "metadata": {
            "tags": []
          },
          "execution_count": 8
        }
      ]
    },
    {
      "cell_type": "markdown",
      "metadata": {
        "id": "80YizOoWuVMO"
      },
      "source": [
        "Matches to test "
      ]
    },
    {
      "cell_type": "markdown",
      "metadata": {
        "id": "8rC2ssWLuS2Q"
      },
      "source": [
        "![image.png](data:image/png;base64,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)"
      ]
    },
    {
      "cell_type": "markdown",
      "metadata": {
        "id": "YvbTXgkC_xO5"
      },
      "source": [
        "Take input features from database to perform to compute the avarage of the stats for each of the fighters "
      ]
    },
    {
      "cell_type": "code",
      "metadata": {
        "id": "VYTnGhuRRLb-",
        "colab": {
          "base_uri": "https://localhost:8080/"
        },
        "outputId": "6088155b-e5fd-4dbb-cd5d-48c1dc796800"
      },
      "source": [
        "check_R = 'R_'\n",
        "res_R = [idx for idx in inputs if idx.lower().startswith(check_R.lower())] \n",
        "res_R.insert(0,'R_fighter')\n",
        "res_R.append('date')\n",
        "print(res_R)\n",
        "check_B = 'B_'\n",
        "res_B = [idx for idx in inputs if idx.lower().startswith(check_B.lower())] \n",
        "res_B.insert(0,'B_fighter')\n",
        "res_B.append('date')\n",
        "print(res_B)\n",
        "input_dat = df\n",
        "R_stats = input_dat[res_R]\n",
        "B_stats = input_dat[res_B]\n",
        "actual_year = 2020 "
      ],
      "execution_count": null,
      "outputs": [
        {
          "output_type": "stream",
          "text": [
            "['R_fighter', 'R_age', 'R_avg_opp_SIG_STR_pct', 'R_avg_opp_SIG_STR_landed', 'R_avg_opp_HEAD_landed', 'R_avg_opp_TOTAL_STR_landed', 'R_avg_GROUND_att', 'R_avg_GROUND_landed', 'R_avg_opp_DISTANCE_landed', 'date']\n",
            "['B_fighter', 'B_avg_DISTANCE_landed', 'B_avg_SIG_STR_att', 'B_age', 'B_avg_opp_TOTAL_STR_landed', 'B_avg_HEAD_att', 'B_avg_opp_SIG_STR_pct', 'B_avg_BODY_att', 'date']\n"
          ],
          "name": "stdout"
        }
      ]
    },
    {
      "cell_type": "markdown",
      "metadata": {
        "id": "YKFsYBIjRjf_"
      },
      "source": [
        "Match 1"
      ]
    },
    {
      "cell_type": "markdown",
      "metadata": {
        "id": "CXGVaQfjAGJg"
      },
      "source": [
        " Khabib Nurmagomedov\tvs\tJustin Gaethje"
      ]
    },
    {
      "cell_type": "code",
      "metadata": {
        "id": "dinQ1hOcBLiR",
        "colab": {
          "base_uri": "https://localhost:8080/"
        },
        "outputId": "9096b2f8-67c1-46e7-9fd1-c743318dc05d"
      },
      "source": [
        "# Khabib Nurmagomedov\tvs\tJustin Gaethje (W:Khabib Nurmagomedov)\t\n",
        "match_1_R = R_stats.loc[R_stats['R_fighter'] == 'Khabib Nurmagomedov'].reset_index(drop=True)\n",
        "years = actual_year - int(match_1_R.loc[0,'date'].split(\"-\")[0]) \n",
        "n_years = match_1_R.loc[0,'R_age'] + years\n",
        "match_1_R_mean = match_1_R.mean(skipna = True)\n",
        "match_1_R_mean.loc['R_age'] = n_years\n",
        "match_1_B = B_stats.loc[B_stats['B_fighter'] == 'Justin Gaethje'].reset_index(drop=True)\n",
        "years = actual_year - int(match_1_B.loc[0,'date'].split(\"-\")[0])\n",
        "n_years = match_1_B.loc[0,'B_age'] + years \n",
        "match_1_B_mean = match_1_B.mean(skipna = True)\n",
        "match_1_B_mean.loc['B_age'] = n_years\n",
        "match_1_input =  pd.concat([match_1_R_mean,match_1_B_mean])\n",
        "match_1_input = pd.DataFrame(match_1_input).T\n",
        "match_1_input = match_1_input[inputs]\n",
        "f1 = dt.predict_proba(match_1_input.values) \n",
        "prob_DF_1 =  pd.DataFrame(f1, columns=dt.classes_)\n",
        "print(\"Probability of winning\")\n",
        "prob_DF_1.head(1)"
      ],
      "execution_count": null,
      "outputs": [
        {
          "output_type": "stream",
          "text": [
            "Probability of winning\n"
          ],
          "name": "stdout"
        },
        {
          "output_type": "execute_result",
          "data": {
            "text/html": [
              "<div>\n",
              "<style scoped>\n",
              "    .dataframe tbody tr th:only-of-type {\n",
              "        vertical-align: middle;\n",
              "    }\n",
              "\n",
              "    .dataframe tbody tr th {\n",
              "        vertical-align: top;\n",
              "    }\n",
              "\n",
              "    .dataframe thead th {\n",
              "        text-align: right;\n",
              "    }\n",
              "</style>\n",
              "<table border=\"1\" class=\"dataframe\">\n",
              "  <thead>\n",
              "    <tr style=\"text-align: right;\">\n",
              "      <th></th>\n",
              "      <th>Blue</th>\n",
              "      <th>Draw</th>\n",
              "      <th>Red</th>\n",
              "    </tr>\n",
              "  </thead>\n",
              "  <tbody>\n",
              "    <tr>\n",
              "      <th>0</th>\n",
              "      <td>0.153846</td>\n",
              "      <td>0.009615</td>\n",
              "      <td>0.836538</td>\n",
              "    </tr>\n",
              "  </tbody>\n",
              "</table>\n",
              "</div>"
            ],
            "text/plain": [
              "       Blue      Draw       Red\n",
              "0  0.153846  0.009615  0.836538"
            ]
          },
          "metadata": {
            "tags": []
          },
          "execution_count": 10
        }
      ]
    },
    {
      "cell_type": "code",
      "metadata": {
        "id": "bY7do2LERh_W",
        "colab": {
          "base_uri": "https://localhost:8080/"
        },
        "outputId": "27ed98fd-c386-41df-cba6-cb21149bed7d"
      },
      "source": [
        "m1b = dt.predict(match_1_input.values) \n",
        "print(m1b)"
      ],
      "execution_count": null,
      "outputs": [
        {
          "output_type": "stream",
          "text": [
            "['Red']\n"
          ],
          "name": "stdout"
        }
      ]
    },
    {
      "cell_type": "markdown",
      "metadata": {
        "id": "G8gwn8EzSaLV"
      },
      "source": [
        "Match 2"
      ]
    },
    {
      "cell_type": "code",
      "metadata": {
        "id": "HYZDpolISZN9",
        "colab": {
          "base_uri": "https://localhost:8080/"
        },
        "outputId": "f7235ef3-548f-4e14-a878-a00e03f8e45c"
      },
      "source": [
        "#Robert Whittaker\tvs\tJared Cannonier\t(W:)\n",
        "match_2_R = R_stats.loc[R_stats['R_fighter'] == 'Robert Whittaker'].reset_index(drop=True)\n",
        "years = actual_year - int(match_2_R.loc[0,'date'].split(\"-\")[0]) \n",
        "n_years = match_2_R.loc[0,'R_age'] + years\n",
        "match_2_R_mean = match_2_R.mean(skipna = True)\n",
        "match_2_R_mean.loc['R_age'] = n_years\n",
        "match_2_B = B_stats.loc[B_stats['B_fighter'] == 'Jared Cannonier'].reset_index(drop=True)\n",
        "years = actual_year - int(match_2_B.loc[0,'date'].split(\"-\")[0])\n",
        "n_years = match_2_B.loc[0,'B_age'] + years \n",
        "match_2_B_mean = match_2_B.mean(skipna = True)\n",
        "match_2_B_mean.loc['B_age'] = n_years\n",
        "match_2_input =  pd.concat([match_2_R_mean,match_2_B_mean])\n",
        "match_2_input = pd.DataFrame(match_2_input).T\n",
        "match_2_input = match_2_input[inputs]\n",
        "f2 = dt.predict_proba(match_2_input.values) \n",
        "prob_DF_2 =  pd.DataFrame(f2, columns=dt.classes_)\n",
        "prob_DF_2.head(1)"
      ],
      "execution_count": null,
      "outputs": [
        {
          "output_type": "execute_result",
          "data": {
            "text/html": [
              "<div>\n",
              "<style scoped>\n",
              "    .dataframe tbody tr th:only-of-type {\n",
              "        vertical-align: middle;\n",
              "    }\n",
              "\n",
              "    .dataframe tbody tr th {\n",
              "        vertical-align: top;\n",
              "    }\n",
              "\n",
              "    .dataframe thead th {\n",
              "        text-align: right;\n",
              "    }\n",
              "</style>\n",
              "<table border=\"1\" class=\"dataframe\">\n",
              "  <thead>\n",
              "    <tr style=\"text-align: right;\">\n",
              "      <th></th>\n",
              "      <th>Blue</th>\n",
              "      <th>Draw</th>\n",
              "      <th>Red</th>\n",
              "    </tr>\n",
              "  </thead>\n",
              "  <tbody>\n",
              "    <tr>\n",
              "      <th>0</th>\n",
              "      <td>0.402597</td>\n",
              "      <td>0.0</td>\n",
              "      <td>0.597403</td>\n",
              "    </tr>\n",
              "  </tbody>\n",
              "</table>\n",
              "</div>"
            ],
            "text/plain": [
              "       Blue  Draw       Red\n",
              "0  0.402597   0.0  0.597403"
            ]
          },
          "metadata": {
            "tags": []
          },
          "execution_count": 12
        }
      ]
    },
    {
      "cell_type": "code",
      "metadata": {
        "id": "GeePvS5MSfmF",
        "colab": {
          "base_uri": "https://localhost:8080/"
        },
        "outputId": "fc7a9266-47fa-433e-88a9-89027cdf1761"
      },
      "source": [
        "m1b = dt.predict(match_2_input.values) \n",
        "print(m1b)"
      ],
      "execution_count": null,
      "outputs": [
        {
          "output_type": "stream",
          "text": [
            "['Red']\n"
          ],
          "name": "stdout"
        }
      ]
    },
    {
      "cell_type": "markdown",
      "metadata": {
        "id": "iy_qoz5kSv7t"
      },
      "source": [
        "Match 3 "
      ]
    },
    {
      "cell_type": "code",
      "metadata": {
        "id": "aQi66TdQSvCW",
        "colab": {
          "base_uri": "https://localhost:8080/"
        },
        "outputId": "a17b037e-1158-47e2-b29a-6a6a855897f7"
      },
      "source": [
        "# Alexander Volkov\tvs\tWalt Harris\t\n",
        "match_3_R = R_stats.loc[R_stats['R_fighter'] == 'Alexander Volkov'].reset_index(drop=True)\n",
        "years = actual_year - int(match_3_R.loc[0,'date'].split(\"-\")[0]) \n",
        "n_years = match_3_R.loc[0,'R_age'] + years\n",
        "match_3_R_mean = match_3_R.mean(skipna = True)\n",
        "match_3_R_mean.loc['R_age'] = n_years\n",
        "match_3_B = B_stats.loc[B_stats['B_fighter'] == 'Walt Harris'].reset_index(drop=True)\n",
        "years = actual_year - int(match_3_B.loc[0,'date'].split(\"-\")[0])\n",
        "n_years = match_3_B.loc[0,'B_age'] + years \n",
        "match_3_B_mean = match_3_B.mean(skipna = True)\n",
        "match_3_B_mean.loc['B_age'] = n_years\n",
        "match_3_input =  pd.concat([match_3_R_mean,match_3_B_mean])\n",
        "match_3_input = pd.DataFrame(match_3_input).T\n",
        "match_3_input = match_3_input[inputs]\n",
        "f3 = dt.predict_proba(match_3_input.values) \n",
        "prob_DF_3 =  pd.DataFrame(f3, columns=dt.classes_)\n",
        "prob_DF_3.head(1)"
      ],
      "execution_count": null,
      "outputs": [
        {
          "output_type": "execute_result",
          "data": {
            "text/html": [
              "<div>\n",
              "<style scoped>\n",
              "    .dataframe tbody tr th:only-of-type {\n",
              "        vertical-align: middle;\n",
              "    }\n",
              "\n",
              "    .dataframe tbody tr th {\n",
              "        vertical-align: top;\n",
              "    }\n",
              "\n",
              "    .dataframe thead th {\n",
              "        text-align: right;\n",
              "    }\n",
              "</style>\n",
              "<table border=\"1\" class=\"dataframe\">\n",
              "  <thead>\n",
              "    <tr style=\"text-align: right;\">\n",
              "      <th></th>\n",
              "      <th>Blue</th>\n",
              "      <th>Draw</th>\n",
              "      <th>Red</th>\n",
              "    </tr>\n",
              "  </thead>\n",
              "  <tbody>\n",
              "    <tr>\n",
              "      <th>0</th>\n",
              "      <td>0.402597</td>\n",
              "      <td>0.0</td>\n",
              "      <td>0.597403</td>\n",
              "    </tr>\n",
              "  </tbody>\n",
              "</table>\n",
              "</div>"
            ],
            "text/plain": [
              "       Blue  Draw       Red\n",
              "0  0.402597   0.0  0.597403"
            ]
          },
          "metadata": {
            "tags": []
          },
          "execution_count": 14
        }
      ]
    },
    {
      "cell_type": "code",
      "metadata": {
        "id": "q_bqv6l6TOUF",
        "colab": {
          "base_uri": "https://localhost:8080/"
        },
        "outputId": "9a9c2f9f-93ef-40ca-efbd-e4dfec609dbd"
      },
      "source": [
        "m1b = dt.predict(match_3_input.values) \n",
        "print(m1b)"
      ],
      "execution_count": null,
      "outputs": [
        {
          "output_type": "stream",
          "text": [
            "['Red']\n"
          ],
          "name": "stdout"
        }
      ]
    },
    {
      "cell_type": "markdown",
      "metadata": {
        "id": "Dlz2IUSGTj2F"
      },
      "source": [
        "Match 4"
      ]
    },
    {
      "cell_type": "code",
      "metadata": {
        "id": "6-PAmjtrTmBV",
        "colab": {
          "base_uri": "https://localhost:8080/"
        },
        "outputId": "2a0ce268-5a06-4ed8-81d8-6fdf077fd432"
      },
      "source": [
        "# Magomed Ankalaev\tvs\tIon Cutelaba\t###Ok \n",
        "match_4_R = R_stats.loc[R_stats['R_fighter'] == 'Magomed Ankalaev'].reset_index(drop=True)\n",
        "years = actual_year - int(match_4_R.loc[0,'date'].split(\"-\")[0]) \n",
        "n_years = match_4_R.loc[0,'R_age'] + years\n",
        "match_4_R_mean = match_4_R.mean(skipna = True)\n",
        "match_4_R_mean.loc['R_age'] = n_years\n",
        "match_4_B = B_stats.loc[B_stats['B_fighter'] == 'Ion Cutelaba'].reset_index(drop=True)\n",
        "years = actual_year - int(match_4_B.loc[0,'date'].split(\"-\")[0])\n",
        "n_years = match_4_B.loc[0,'B_age'] + years \n",
        "match_4_B_mean = match_4_B.mean(skipna = True)\n",
        "match_4_B_mean.loc['B_age'] = n_years\n",
        "match_4_input =  pd.concat([match_4_R_mean,match_4_B_mean])\n",
        "match_4_input = pd.DataFrame(match_4_input).T\n",
        "match_4_input = match_4_input[inputs]\n",
        "f4 = dt.predict_proba(match_4_input.values) \n",
        "prob_DF_4 =  pd.DataFrame(f4, columns=dt.classes_)\n",
        "prob_DF_4.head(1)"
      ],
      "execution_count": null,
      "outputs": [
        {
          "output_type": "execute_result",
          "data": {
            "text/html": [
              "<div>\n",
              "<style scoped>\n",
              "    .dataframe tbody tr th:only-of-type {\n",
              "        vertical-align: middle;\n",
              "    }\n",
              "\n",
              "    .dataframe tbody tr th {\n",
              "        vertical-align: top;\n",
              "    }\n",
              "\n",
              "    .dataframe thead th {\n",
              "        text-align: right;\n",
              "    }\n",
              "</style>\n",
              "<table border=\"1\" class=\"dataframe\">\n",
              "  <thead>\n",
              "    <tr style=\"text-align: right;\">\n",
              "      <th></th>\n",
              "      <th>Blue</th>\n",
              "      <th>Draw</th>\n",
              "      <th>Red</th>\n",
              "    </tr>\n",
              "  </thead>\n",
              "  <tbody>\n",
              "    <tr>\n",
              "      <th>0</th>\n",
              "      <td>0.387097</td>\n",
              "      <td>0.032258</td>\n",
              "      <td>0.580645</td>\n",
              "    </tr>\n",
              "  </tbody>\n",
              "</table>\n",
              "</div>"
            ],
            "text/plain": [
              "       Blue      Draw       Red\n",
              "0  0.387097  0.032258  0.580645"
            ]
          },
          "metadata": {
            "tags": []
          },
          "execution_count": 16
        }
      ]
    },
    {
      "cell_type": "code",
      "metadata": {
        "id": "k2NwJQDaTxQt",
        "colab": {
          "base_uri": "https://localhost:8080/"
        },
        "outputId": "385ab950-0ed7-4473-8f64-6a387613c1b5"
      },
      "source": [
        "m1b = dt.predict(match_4_input.values) \n",
        "print(m1b)"
      ],
      "execution_count": null,
      "outputs": [
        {
          "output_type": "stream",
          "text": [
            "['Red']\n"
          ],
          "name": "stdout"
        }
      ]
    },
    {
      "cell_type": "markdown",
      "metadata": {
        "id": "UfxE-5FbT-kU"
      },
      "source": [
        "Match 5"
      ]
    },
    {
      "cell_type": "code",
      "metadata": {
        "id": "W5VnyP-TUAv1",
        "colab": {
          "base_uri": "https://localhost:8080/"
        },
        "outputId": "5219ae8c-a4b6-44eb-a056-f5413cb5b81a"
      },
      "source": [
        "# Tai Tuivasa\tvs\tStefan Struve\t\t\n",
        "match_5_R = R_stats.loc[R_stats['R_fighter'] == 'Tai Tuivasa'].reset_index(drop=True)\n",
        "years = actual_year - int(match_5_R.loc[0,'date'].split(\"-\")[0]) \n",
        "n_years = match_5_R.loc[0,'R_age'] + years\n",
        "match_5_R_mean = match_5_R.mean(skipna = True)\n",
        "match_5_R_mean.loc['R_age'] = n_years\n",
        "match_5_B = B_stats.loc[B_stats['B_fighter'] == 'Stefan Struve'].reset_index(drop=True)\n",
        "years = actual_year - int(match_5_B.loc[0,'date'].split(\"-\")[0])\n",
        "n_years = match_5_B.loc[0,'B_age'] + years \n",
        "match_5_B_mean = match_5_B.mean(skipna = True)\n",
        "match_5_B_mean.loc['B_age'] = n_years\n",
        "match_5_input =  pd.concat([match_5_R_mean,match_5_B_mean])\n",
        "match_5_input = pd.DataFrame(match_5_input).T\n",
        "match_5_input = match_5_input[inputs]\n",
        "f5 = dt.predict_proba(match_5_input.values) \n",
        "prob_DF_5 =  pd.DataFrame(f5, columns=dt.classes_)\n",
        "prob_DF_5.head(1)"
      ],
      "execution_count": null,
      "outputs": [
        {
          "output_type": "execute_result",
          "data": {
            "text/html": [
              "<div>\n",
              "<style scoped>\n",
              "    .dataframe tbody tr th:only-of-type {\n",
              "        vertical-align: middle;\n",
              "    }\n",
              "\n",
              "    .dataframe tbody tr th {\n",
              "        vertical-align: top;\n",
              "    }\n",
              "\n",
              "    .dataframe thead th {\n",
              "        text-align: right;\n",
              "    }\n",
              "</style>\n",
              "<table border=\"1\" class=\"dataframe\">\n",
              "  <thead>\n",
              "    <tr style=\"text-align: right;\">\n",
              "      <th></th>\n",
              "      <th>Blue</th>\n",
              "      <th>Draw</th>\n",
              "      <th>Red</th>\n",
              "    </tr>\n",
              "  </thead>\n",
              "  <tbody>\n",
              "    <tr>\n",
              "      <th>0</th>\n",
              "      <td>0.130435</td>\n",
              "      <td>0.0</td>\n",
              "      <td>0.869565</td>\n",
              "    </tr>\n",
              "  </tbody>\n",
              "</table>\n",
              "</div>"
            ],
            "text/plain": [
              "       Blue  Draw       Red\n",
              "0  0.130435   0.0  0.869565"
            ]
          },
          "metadata": {
            "tags": []
          },
          "execution_count": 18
        }
      ]
    },
    {
      "cell_type": "code",
      "metadata": {
        "id": "HuHoQQVDEkqw",
        "colab": {
          "base_uri": "https://localhost:8080/"
        },
        "outputId": "1c15123f-7a8a-4ebd-faa4-70f662792749"
      },
      "source": [
        "m1b = dt.predict(match_5_input.values) \n",
        "print(m1b)"
      ],
      "execution_count": null,
      "outputs": [
        {
          "output_type": "stream",
          "text": [
            "['Red']\n"
          ],
          "name": "stdout"
        }
      ]
    },
    {
      "cell_type": "markdown",
      "metadata": {
        "id": "-oA19IG0UTKs"
      },
      "source": [
        "Match 6 "
      ]
    },
    {
      "cell_type": "code",
      "metadata": {
        "id": "sYjPCU6jUV8M",
        "colab": {
          "base_uri": "https://localhost:8080/"
        },
        "outputId": "a89cfe2b-9cc6-4754-f05b-b9b31e6e3b07"
      },
      "source": [
        "# Joel Alvarez\tvs\tAlexander Yakovlev\t(Winner Joel Alvarez)\n",
        "match_6_R = R_stats.loc[R_stats['R_fighter'] == 'Joel Alvarez'].reset_index(drop=True)\n",
        "years = actual_year - int(match_6_R.loc[0,'date'].split(\"-\")[0]) \n",
        "n_years = match_6_R.loc[0,'R_age'] + years\n",
        "match_6_R_mean = match_6_R.mean(skipna = True)\n",
        "match_6_R_mean.loc['R_age'] = n_years\n",
        "match_6_B = B_stats.loc[B_stats['B_fighter'] == 'Alexander Yakovlev'].reset_index(drop=True)\n",
        "years = actual_year - int(match_6_B.loc[0,'date'].split(\"-\")[0])\n",
        "n_years = match_6_B.loc[0,'B_age'] + years \n",
        "match_6_B_mean = match_6_B.mean(skipna = True)\n",
        "match_6_B_mean.loc['B_age'] = n_years\n",
        "match_6_input =  pd.concat([match_6_R_mean,match_6_B_mean])\n",
        "match_6_input = pd.DataFrame(match_6_input).T\n",
        "match_6_input = match_6_input[inputs]\n",
        "f6 = dt.predict_proba(match_6_input.values) \n",
        "prob_DF_6 =  pd.DataFrame(f6, columns=dt.classes_)\n",
        "prob_DF_6.head(1)"
      ],
      "execution_count": null,
      "outputs": [
        {
          "output_type": "execute_result",
          "data": {
            "text/html": [
              "<div>\n",
              "<style scoped>\n",
              "    .dataframe tbody tr th:only-of-type {\n",
              "        vertical-align: middle;\n",
              "    }\n",
              "\n",
              "    .dataframe tbody tr th {\n",
              "        vertical-align: top;\n",
              "    }\n",
              "\n",
              "    .dataframe thead th {\n",
              "        text-align: right;\n",
              "    }\n",
              "</style>\n",
              "<table border=\"1\" class=\"dataframe\">\n",
              "  <thead>\n",
              "    <tr style=\"text-align: right;\">\n",
              "      <th></th>\n",
              "      <th>Blue</th>\n",
              "      <th>Draw</th>\n",
              "      <th>Red</th>\n",
              "    </tr>\n",
              "  </thead>\n",
              "  <tbody>\n",
              "    <tr>\n",
              "      <th>0</th>\n",
              "      <td>0.402597</td>\n",
              "      <td>0.0</td>\n",
              "      <td>0.597403</td>\n",
              "    </tr>\n",
              "  </tbody>\n",
              "</table>\n",
              "</div>"
            ],
            "text/plain": [
              "       Blue  Draw       Red\n",
              "0  0.402597   0.0  0.597403"
            ]
          },
          "metadata": {
            "tags": []
          },
          "execution_count": 20
        }
      ]
    },
    {
      "cell_type": "code",
      "metadata": {
        "id": "eny6iefQExIv",
        "colab": {
          "base_uri": "https://localhost:8080/"
        },
        "outputId": "6e9e8b9a-19d2-4a81-a5c8-df339a1e226a"
      },
      "source": [
        "m1b = dt.predict(match_6_input.values) \n",
        "print(m1b)"
      ],
      "execution_count": null,
      "outputs": [
        {
          "output_type": "stream",
          "text": [
            "['Red']\n"
          ],
          "name": "stdout"
        }
      ]
    },
    {
      "cell_type": "markdown",
      "metadata": {
        "id": "0CJQVa4XUdDc"
      },
      "source": [
        "Match 7 "
      ]
    },
    {
      "cell_type": "code",
      "metadata": {
        "id": "6Z4D9TcbUeL9",
        "colab": {
          "base_uri": "https://localhost:8080/"
        },
        "outputId": "d32f9193-36b2-4e8d-d51d-ff317cd9991c"
      },
      "source": [
        "# Israel Adesanya\tvs\tPaulo Costa\t (Winner Israel)\n",
        "match_7_R = R_stats.loc[R_stats['R_fighter'] == 'Israel Adesanya'].reset_index(drop=True)\n",
        "years = actual_year - int(match_7_R.loc[0,'date'].split(\"-\")[0]) \n",
        "n_years = match_7_R.loc[0,'R_age'] + years\n",
        "match_7_R_mean = match_7_R.mean(skipna = True)\n",
        "match_7_R_mean.loc['R_age'] = n_years\n",
        "match_7_B = B_stats.loc[B_stats['B_fighter'] == 'Paulo Costa'].reset_index(drop=True)\n",
        "years = actual_year - int(match_7_B.loc[0,'date'].split(\"-\")[0])\n",
        "n_years = match_7_B.loc[0,'B_age'] + years \n",
        "match_7_B_mean = match_7_B.mean(skipna = True)\n",
        "match_7_B_mean.loc['B_age'] = n_years\n",
        "match_7_input =  pd.concat([match_7_R_mean,match_7_B_mean])\n",
        "match_7_input = pd.DataFrame(match_7_input).T\n",
        "match_7_input = match_7_input[inputs]\n",
        "f7 = dt.predict_proba(match_7_input.values) \n",
        "prob_DF_7 =  pd.DataFrame(f7, columns=dt.classes_)\n",
        "prob_DF_7.head(1)"
      ],
      "execution_count": null,
      "outputs": [
        {
          "output_type": "execute_result",
          "data": {
            "text/html": [
              "<div>\n",
              "<style scoped>\n",
              "    .dataframe tbody tr th:only-of-type {\n",
              "        vertical-align: middle;\n",
              "    }\n",
              "\n",
              "    .dataframe tbody tr th {\n",
              "        vertical-align: top;\n",
              "    }\n",
              "\n",
              "    .dataframe thead th {\n",
              "        text-align: right;\n",
              "    }\n",
              "</style>\n",
              "<table border=\"1\" class=\"dataframe\">\n",
              "  <thead>\n",
              "    <tr style=\"text-align: right;\">\n",
              "      <th></th>\n",
              "      <th>Blue</th>\n",
              "      <th>Draw</th>\n",
              "      <th>Red</th>\n",
              "    </tr>\n",
              "  </thead>\n",
              "  <tbody>\n",
              "    <tr>\n",
              "      <th>0</th>\n",
              "      <td>0.485</td>\n",
              "      <td>0.016667</td>\n",
              "      <td>0.498333</td>\n",
              "    </tr>\n",
              "  </tbody>\n",
              "</table>\n",
              "</div>"
            ],
            "text/plain": [
              "    Blue      Draw       Red\n",
              "0  0.485  0.016667  0.498333"
            ]
          },
          "metadata": {
            "tags": []
          },
          "execution_count": 22
        }
      ]
    },
    {
      "cell_type": "code",
      "metadata": {
        "id": "Oic54KSVFBKg",
        "colab": {
          "base_uri": "https://localhost:8080/"
        },
        "outputId": "593d9e03-adca-4d64-dacc-432411857de9"
      },
      "source": [
        "m1b = dt.predict(match_7_input.values) \n",
        "print(m1b)"
      ],
      "execution_count": null,
      "outputs": [
        {
          "output_type": "stream",
          "text": [
            "['Red']\n"
          ],
          "name": "stdout"
        }
      ]
    },
    {
      "cell_type": "markdown",
      "metadata": {
        "id": "-DIVdRsKVVDe"
      },
      "source": [
        "Match 8 "
      ]
    },
    {
      "cell_type": "code",
      "metadata": {
        "id": "IPtS6ZpYVRRw",
        "colab": {
          "base_uri": "https://localhost:8080/"
        },
        "outputId": "3a2eee20-5301-4916-c4a8-dca8affd9666"
      },
      "source": [
        "# Jake Matthews\tvs\tDiego Sanchez (Winner Jake Matthews)\n",
        "match_8_R = R_stats.loc[R_stats['R_fighter'] == 'Jake Matthews'].reset_index(drop=True)\n",
        "years = actual_year - int(match_8_R.loc[0,'date'].split(\"-\")[0]) \n",
        "n_years = match_8_R.loc[0,'R_age'] + years\n",
        "match_8_R_mean = match_8_R.mean(skipna = True)\n",
        "match_8_R_mean.loc['R_age'] = n_years\n",
        "match_8_B = B_stats.loc[B_stats['B_fighter'] == 'Diego Sanchez'].reset_index(drop=True)\n",
        "years = actual_year - int(match_8_B.loc[0,'date'].split(\"-\")[0])\n",
        "n_years = match_8_B.loc[0,'B_age'] + years \n",
        "match_8_B_mean = match_8_B.mean(skipna = True)\n",
        "match_8_B_mean.loc['B_age'] = n_years\n",
        "match_8_input =  pd.concat([match_8_R_mean,match_8_B_mean])\n",
        "match_8_input = pd.DataFrame(match_8_input).T\n",
        "match_8_input = match_8_input[inputs]\n",
        "f8 = dt.predict_proba(match_8_input.values) \n",
        "prob_DF_8 =  pd.DataFrame(f8, columns=dt.classes_)\n",
        "prob_DF_8.head(1)"
      ],
      "execution_count": null,
      "outputs": [
        {
          "output_type": "execute_result",
          "data": {
            "text/html": [
              "<div>\n",
              "<style scoped>\n",
              "    .dataframe tbody tr th:only-of-type {\n",
              "        vertical-align: middle;\n",
              "    }\n",
              "\n",
              "    .dataframe tbody tr th {\n",
              "        vertical-align: top;\n",
              "    }\n",
              "\n",
              "    .dataframe thead th {\n",
              "        text-align: right;\n",
              "    }\n",
              "</style>\n",
              "<table border=\"1\" class=\"dataframe\">\n",
              "  <thead>\n",
              "    <tr style=\"text-align: right;\">\n",
              "      <th></th>\n",
              "      <th>Blue</th>\n",
              "      <th>Draw</th>\n",
              "      <th>Red</th>\n",
              "    </tr>\n",
              "  </thead>\n",
              "  <tbody>\n",
              "    <tr>\n",
              "      <th>0</th>\n",
              "      <td>0.206897</td>\n",
              "      <td>0.0</td>\n",
              "      <td>0.793103</td>\n",
              "    </tr>\n",
              "  </tbody>\n",
              "</table>\n",
              "</div>"
            ],
            "text/plain": [
              "       Blue  Draw       Red\n",
              "0  0.206897   0.0  0.793103"
            ]
          },
          "metadata": {
            "tags": []
          },
          "execution_count": 24
        }
      ]
    },
    {
      "cell_type": "code",
      "metadata": {
        "id": "nEqM4Gq5FQ5X",
        "colab": {
          "base_uri": "https://localhost:8080/"
        },
        "outputId": "31db500b-9b14-4b80-e564-4d1d85e685ad"
      },
      "source": [
        "m1b = dt.predict(match_8_input.values) \n",
        "print(m1b)"
      ],
      "execution_count": null,
      "outputs": [
        {
          "output_type": "stream",
          "text": [
            "['Red']\n"
          ],
          "name": "stdout"
        }
      ]
    },
    {
      "cell_type": "markdown",
      "metadata": {
        "id": "GAh5zsDoVqF0"
      },
      "source": [
        "Match 9 "
      ]
    },
    {
      "cell_type": "code",
      "metadata": {
        "id": "HWMaqRlvVrc9",
        "colab": {
          "base_uri": "https://localhost:8080/"
        },
        "outputId": "cd1cf92b-f9c5-4ee0-8609-16972eb0630d"
      },
      "source": [
        "# Islam Makhachev\tvs\tRafael Dos Anjos\t\n",
        "match_9_R = R_stats.loc[R_stats['R_fighter'] == 'Islam Makhachev'].reset_index(drop=True)\n",
        "years = actual_year - int(match_9_R.loc[0,'date'].split(\"-\")[0]) \n",
        "n_years = match_9_R.loc[0,'R_age'] + years\n",
        "match_9_R_mean = match_9_R.mean(skipna = True)\n",
        "match_9_R_mean.loc['R_age'] = n_years\n",
        "\n",
        "match_9_B = B_stats.loc[B_stats['B_fighter'] == 'Rafael Dos Anjos'].reset_index(drop=True)\n",
        "years = actual_year - int(match_9_B.loc[0,'date'].split(\"-\")[0])\n",
        "n_years = match_9_B.loc[0,'B_age'] + years \n",
        "match_9_B_mean = match_9_B.mean(skipna = True)\n",
        "match_9_B_mean.loc['B_age'] = n_years\n",
        "\n",
        "match_9_input =  pd.concat([match_9_R_mean,match_9_B_mean])\n",
        "match_9_input = pd.DataFrame(match_9_input).T\n",
        "match_9_input = match_9_input[inputs]\n",
        "\n",
        "f9 = dt.predict_proba(match_9_input.values) \n",
        "prob_DF_9 =  pd.DataFrame(f9, columns=dt.classes_)\n",
        "prob_DF_9.head(1)"
      ],
      "execution_count": null,
      "outputs": [
        {
          "output_type": "execute_result",
          "data": {
            "text/html": [
              "<div>\n",
              "<style scoped>\n",
              "    .dataframe tbody tr th:only-of-type {\n",
              "        vertical-align: middle;\n",
              "    }\n",
              "\n",
              "    .dataframe tbody tr th {\n",
              "        vertical-align: top;\n",
              "    }\n",
              "\n",
              "    .dataframe thead th {\n",
              "        text-align: right;\n",
              "    }\n",
              "</style>\n",
              "<table border=\"1\" class=\"dataframe\">\n",
              "  <thead>\n",
              "    <tr style=\"text-align: right;\">\n",
              "      <th></th>\n",
              "      <th>Blue</th>\n",
              "      <th>Draw</th>\n",
              "      <th>Red</th>\n",
              "    </tr>\n",
              "  </thead>\n",
              "  <tbody>\n",
              "    <tr>\n",
              "      <th>0</th>\n",
              "      <td>0.215789</td>\n",
              "      <td>0.010526</td>\n",
              "      <td>0.773684</td>\n",
              "    </tr>\n",
              "  </tbody>\n",
              "</table>\n",
              "</div>"
            ],
            "text/plain": [
              "       Blue      Draw       Red\n",
              "0  0.215789  0.010526  0.773684"
            ]
          },
          "metadata": {
            "tags": []
          },
          "execution_count": 26
        }
      ]
    },
    {
      "cell_type": "code",
      "metadata": {
        "id": "U9XbAADuFhR_",
        "colab": {
          "base_uri": "https://localhost:8080/"
        },
        "outputId": "764ab460-8c8d-47dc-cb18-06a38ba1f11e"
      },
      "source": [
        "m1b = dt.predict(match_9_input.values) \n",
        "print(m1b)"
      ],
      "execution_count": null,
      "outputs": [
        {
          "output_type": "stream",
          "text": [
            "['Red']\n"
          ],
          "name": "stdout"
        }
      ]
    },
    {
      "cell_type": "markdown",
      "metadata": {
        "id": "Y-MuKBKMWHOQ"
      },
      "source": [
        "Mtach 10 "
      ]
    },
    {
      "cell_type": "code",
      "metadata": {
        "id": "oG-qc_NaWIY8",
        "colab": {
          "base_uri": "https://localhost:8080/"
        },
        "outputId": "81ee4e91-552d-43c7-c48b-2cf32ceb6619"
      },
      "source": [
        "# Jose Quinonez\tvs\tLouis Smolka\t\n",
        "match_10_R = R_stats.loc[R_stats['R_fighter'] == 'Jose Quinonez'].reset_index(drop=True)\n",
        "years = actual_year - int(match_10_R.loc[0,'date'].split(\"-\")[0]) \n",
        "n_years = match_10_R.loc[0,'R_age'] + years\n",
        "match_10_R_mean = match_10_R.mean()\n",
        "match_10_R_mean.loc['R_age'] = n_years\n",
        "match_10_B = B_stats.loc[B_stats['B_fighter'] == 'Louis Smolka'].reset_index(drop=True)\n",
        "years = actual_year - int(match_10_B.loc[0,'date'].split(\"-\")[0])\n",
        "n_years = match_10_B.loc[0,'B_age'] + years \n",
        "match_10_B_mean = match_10_B.mean()\n",
        "match_10_B_mean.loc['B_age'] = n_years\n",
        "match_10_input =  pd.concat([match_10_R_mean,match_10_B_mean])\n",
        "match_10_input = pd.DataFrame(match_10_input).T\n",
        "match_10_input = match_10_input[inputs]\n",
        "f10 = dt.predict_proba(match_10_input.values) \n",
        "prob_DF_10 =  pd.DataFrame(f10, columns=dt.classes_)\n",
        "prob_DF_10.head(1)"
      ],
      "execution_count": null,
      "outputs": [
        {
          "output_type": "execute_result",
          "data": {
            "text/html": [
              "<div>\n",
              "<style scoped>\n",
              "    .dataframe tbody tr th:only-of-type {\n",
              "        vertical-align: middle;\n",
              "    }\n",
              "\n",
              "    .dataframe tbody tr th {\n",
              "        vertical-align: top;\n",
              "    }\n",
              "\n",
              "    .dataframe thead th {\n",
              "        text-align: right;\n",
              "    }\n",
              "</style>\n",
              "<table border=\"1\" class=\"dataframe\">\n",
              "  <thead>\n",
              "    <tr style=\"text-align: right;\">\n",
              "      <th></th>\n",
              "      <th>Blue</th>\n",
              "      <th>Draw</th>\n",
              "      <th>Red</th>\n",
              "    </tr>\n",
              "  </thead>\n",
              "  <tbody>\n",
              "    <tr>\n",
              "      <th>0</th>\n",
              "      <td>0.485</td>\n",
              "      <td>0.016667</td>\n",
              "      <td>0.498333</td>\n",
              "    </tr>\n",
              "  </tbody>\n",
              "</table>\n",
              "</div>"
            ],
            "text/plain": [
              "    Blue      Draw       Red\n",
              "0  0.485  0.016667  0.498333"
            ]
          },
          "metadata": {
            "tags": []
          },
          "execution_count": 28
        }
      ]
    },
    {
      "cell_type": "code",
      "metadata": {
        "id": "_TgjHPStFqwW",
        "colab": {
          "base_uri": "https://localhost:8080/"
        },
        "outputId": "bee19e42-8167-49f4-e1c8-370cf91ae5e2"
      },
      "source": [
        "m1b = dt.predict(match_10_input.values) \n",
        "print(m1b)"
      ],
      "execution_count": null,
      "outputs": [
        {
          "output_type": "stream",
          "text": [
            "['Red']\n"
          ],
          "name": "stdout"
        }
      ]
    },
    {
      "cell_type": "markdown",
      "metadata": {
        "id": "QUVjy-NuWgoR"
      },
      "source": [
        "Match 11"
      ]
    },
    {
      "cell_type": "code",
      "metadata": {
        "id": "VWFse1ZUWYyl",
        "colab": {
          "base_uri": "https://localhost:8080/"
        },
        "outputId": "bc7fa5f1-7640-4f2e-d746-ff58b8313aea"
      },
      "source": [
        "# Stipe Miocic\tvs\tDaniel Cormier (Winner: Miomic)\n",
        "match_11_R = R_stats.loc[R_stats['R_fighter'] == 'Stipe Miocic'].reset_index(drop=True)\n",
        "years = actual_year - int(match_11_R.loc[0,'date'].split(\"-\")[0]) \n",
        "n_years = match_11_R.loc[0,'R_age'] + years\n",
        "match_11_R_mean = match_11_R.mean()\n",
        "match_11_R_mean.loc['R_age'] = n_years\n",
        "match_11_B = B_stats.loc[B_stats['B_fighter'] == 'Daniel Cormier'].reset_index(drop=True)\n",
        "years = actual_year - int(match_11_B.loc[0,'date'].split(\"-\")[0])\n",
        "n_years = match_11_B.loc[0,'B_age'] + years \n",
        "match_11_B_mean = match_11_B.mean()\n",
        "match_11_B_mean.loc['B_age'] = n_years\n",
        "match_11_input =  pd.concat([match_11_R_mean,match_11_B_mean])\n",
        "match_11_input = pd.DataFrame(match_11_input).T\n",
        "match_11_input = match_11_input[inputs]\n",
        "f11 = dt.predict_proba(match_11_input.values) \n",
        "prob_DF_11 =  pd.DataFrame(f11, columns=dt.classes_)\n",
        "prob_DF_11.head(1)"
      ],
      "execution_count": null,
      "outputs": [
        {
          "output_type": "execute_result",
          "data": {
            "text/html": [
              "<div>\n",
              "<style scoped>\n",
              "    .dataframe tbody tr th:only-of-type {\n",
              "        vertical-align: middle;\n",
              "    }\n",
              "\n",
              "    .dataframe tbody tr th {\n",
              "        vertical-align: top;\n",
              "    }\n",
              "\n",
              "    .dataframe thead th {\n",
              "        text-align: right;\n",
              "    }\n",
              "</style>\n",
              "<table border=\"1\" class=\"dataframe\">\n",
              "  <thead>\n",
              "    <tr style=\"text-align: right;\">\n",
              "      <th></th>\n",
              "      <th>Blue</th>\n",
              "      <th>Draw</th>\n",
              "      <th>Red</th>\n",
              "    </tr>\n",
              "  </thead>\n",
              "  <tbody>\n",
              "    <tr>\n",
              "      <th>0</th>\n",
              "      <td>0.333333</td>\n",
              "      <td>0.011494</td>\n",
              "      <td>0.655172</td>\n",
              "    </tr>\n",
              "  </tbody>\n",
              "</table>\n",
              "</div>"
            ],
            "text/plain": [
              "       Blue      Draw       Red\n",
              "0  0.333333  0.011494  0.655172"
            ]
          },
          "metadata": {
            "tags": []
          },
          "execution_count": 30
        }
      ]
    },
    {
      "cell_type": "code",
      "metadata": {
        "id": "0BCQ_XgsF6hn",
        "colab": {
          "base_uri": "https://localhost:8080/"
        },
        "outputId": "4e2f3a76-8955-4077-c916-1bebbd576096"
      },
      "source": [
        "m1b = dt.predict(match_11_input.values) \n",
        "print(m1b)"
      ],
      "execution_count": null,
      "outputs": [
        {
          "output_type": "stream",
          "text": [
            "['Red']\n"
          ],
          "name": "stdout"
        }
      ]
    },
    {
      "cell_type": "markdown",
      "metadata": {
        "id": "As8eH2HHWtvL"
      },
      "source": [
        "Match 12 Checar "
      ]
    },
    {
      "cell_type": "code",
      "metadata": {
        "id": "o63XzqZrWwHc",
        "colab": {
          "base_uri": "https://localhost:8080/"
        },
        "outputId": "4dc87cee-f186-4246-c355-5f3eff8b240c"
      },
      "source": [
        "# Marlon Vera\tvs\tSean O'Malley\t\n",
        "match_12_R = R_stats.loc[R_stats['R_fighter'] == 'Marlon Vera'].reset_index(drop=True)\n",
        "years = actual_year - int(match_12_R.loc[0,'date'].split(\"-\")[0]) \n",
        "n_years = match_12_R.loc[0,'R_age'] + years\n",
        "match_12_R_mean = match_12_R.mean()\n",
        "match_12_R_mean.loc['R_age'] = n_years\n",
        "k = []\n",
        "for i in res_B:\n",
        "  vr = i.replace(\"B_\", \"R_\")\n",
        "  k.append(vr)\n",
        "k_stats = input_dat[k]\n",
        "match_12_B = k_stats.loc[k_stats['R_fighter'] == \"Sean O'Malley\"].reset_index(drop=True)\n",
        "years = actual_year - int(match_12_B.loc[0,'date'].split(\"-\")[0])\n",
        "n_years = match_12_B.loc[0,'R_age'] + years \n",
        "match_12_B_mean = match_12_B.mean()\n",
        "match_12_B_mean.loc['R_age'] = n_years\n",
        "match_12_B_mean = match_12_B_mean.rename(index={'R_avg_DISTANCE_landed':'B_avg_DISTANCE_landed', 'R_avg_SIG_STR_att':'B_avg_SIG_STR_att', 'R_age':'B_age',\n",
        "       'R_avg_opp_TOTAL_STR_landed':'B_avg_opp_TOTAL_STR_landed', 'R_avg_HEAD_att':'B_avg_HEAD_att', 'R_avg_opp_SIG_STR_pct':'B_avg_opp_SIG_STR_pct',\n",
        "       'R_avg_BODY_att':'B_avg_BODY_att'})\n",
        "match_12_input =  pd.concat([match_12_R_mean,match_12_B_mean])\n",
        "match_12_input = pd.DataFrame(match_12_input).T\n",
        "match_12_input = match_12_input[inputs]\n",
        "\n",
        "f12 = dt.predict_proba(match_12_input.values) \n",
        "prob_DF_12 =  pd.DataFrame(f12, columns=dt.classes_)\n",
        "prob_DF_12.head(1)"
      ],
      "execution_count": null,
      "outputs": [
        {
          "output_type": "execute_result",
          "data": {
            "text/html": [
              "<div>\n",
              "<style scoped>\n",
              "    .dataframe tbody tr th:only-of-type {\n",
              "        vertical-align: middle;\n",
              "    }\n",
              "\n",
              "    .dataframe tbody tr th {\n",
              "        vertical-align: top;\n",
              "    }\n",
              "\n",
              "    .dataframe thead th {\n",
              "        text-align: right;\n",
              "    }\n",
              "</style>\n",
              "<table border=\"1\" class=\"dataframe\">\n",
              "  <thead>\n",
              "    <tr style=\"text-align: right;\">\n",
              "      <th></th>\n",
              "      <th>Blue</th>\n",
              "      <th>Draw</th>\n",
              "      <th>Red</th>\n",
              "    </tr>\n",
              "  </thead>\n",
              "  <tbody>\n",
              "    <tr>\n",
              "      <th>0</th>\n",
              "      <td>0.485</td>\n",
              "      <td>0.016667</td>\n",
              "      <td>0.498333</td>\n",
              "    </tr>\n",
              "  </tbody>\n",
              "</table>\n",
              "</div>"
            ],
            "text/plain": [
              "    Blue      Draw       Red\n",
              "0  0.485  0.016667  0.498333"
            ]
          },
          "metadata": {
            "tags": []
          },
          "execution_count": 32
        }
      ]
    },
    {
      "cell_type": "code",
      "metadata": {
        "id": "VP4GEuPfGQ3z",
        "colab": {
          "base_uri": "https://localhost:8080/"
        },
        "outputId": "e351fae8-1696-428c-c202-c2dc86d4b719"
      },
      "source": [
        "m1b = dt.predict(match_12_input.values) \n",
        "print(m1b)"
      ],
      "execution_count": null,
      "outputs": [
        {
          "output_type": "stream",
          "text": [
            "['Red']\n"
          ],
          "name": "stdout"
        }
      ]
    },
    {
      "cell_type": "markdown",
      "metadata": {
        "id": "PkBHH-4zXDJZ"
      },
      "source": [
        "Match 13 "
      ]
    },
    {
      "cell_type": "code",
      "metadata": {
        "id": "XGCr_L9BXEk2",
        "colab": {
          "base_uri": "https://localhost:8080/"
        },
        "outputId": "c5be3c9c-0478-4ae8-f73f-16bd3998213c"
      },
      "source": [
        "# Merab Dvalishvili\tvs\tJohn Dodson\t(Winner: Merab)\n",
        "match_13_R = R_stats.loc[R_stats['R_fighter'] == 'Merab Dvalishvili'].reset_index(drop=True)\n",
        "years = actual_year - int(match_13_R.loc[0,'date'].split(\"-\")[0]) \n",
        "n_years = match_13_R.loc[0,'R_age'] + years\n",
        "match_13_R_mean = match_13_R.mean()\n",
        "match_13_R_mean.loc['R_age'] = n_years\n",
        "match_13_B = B_stats.loc[B_stats['B_fighter'] == 'John Dodson'].reset_index(drop=True)\n",
        "years = actual_year - int(match_13_B.loc[0,'date'].split(\"-\")[0])\n",
        "n_years = match_13_B.loc[0,'B_age'] + years \n",
        "match_13_B_mean = match_13_B.mean()\n",
        "match_13_B_mean.loc['B_age'] = n_years\n",
        "match_13_input =  pd.concat([match_13_R_mean,match_13_B_mean])\n",
        "match_13_input = pd.DataFrame(match_13_input).T\n",
        "match_13_input = match_13_input[inputs]\n",
        "f13 = dt.predict_proba(match_13_input.values) \n",
        "prob_DF_13 =  pd.DataFrame(f13, columns=dt.classes_)\n",
        "prob_DF_13.head(1)"
      ],
      "execution_count": null,
      "outputs": [
        {
          "output_type": "execute_result",
          "data": {
            "text/html": [
              "<div>\n",
              "<style scoped>\n",
              "    .dataframe tbody tr th:only-of-type {\n",
              "        vertical-align: middle;\n",
              "    }\n",
              "\n",
              "    .dataframe tbody tr th {\n",
              "        vertical-align: top;\n",
              "    }\n",
              "\n",
              "    .dataframe thead th {\n",
              "        text-align: right;\n",
              "    }\n",
              "</style>\n",
              "<table border=\"1\" class=\"dataframe\">\n",
              "  <thead>\n",
              "    <tr style=\"text-align: right;\">\n",
              "      <th></th>\n",
              "      <th>Blue</th>\n",
              "      <th>Draw</th>\n",
              "      <th>Red</th>\n",
              "    </tr>\n",
              "  </thead>\n",
              "  <tbody>\n",
              "    <tr>\n",
              "      <th>0</th>\n",
              "      <td>0.206897</td>\n",
              "      <td>0.0</td>\n",
              "      <td>0.793103</td>\n",
              "    </tr>\n",
              "  </tbody>\n",
              "</table>\n",
              "</div>"
            ],
            "text/plain": [
              "       Blue  Draw       Red\n",
              "0  0.206897   0.0  0.793103"
            ]
          },
          "metadata": {
            "tags": []
          },
          "execution_count": 34
        }
      ]
    },
    {
      "cell_type": "code",
      "metadata": {
        "id": "h39ocxrYGgg9",
        "colab": {
          "base_uri": "https://localhost:8080/"
        },
        "outputId": "0797ebec-e59c-4ae9-ffa6-3f72b3e9b041"
      },
      "source": [
        "m1b = dt.predict(match_13_input.values) \n",
        "print(m1b)"
      ],
      "execution_count": null,
      "outputs": [
        {
          "output_type": "stream",
          "text": [
            "['Red']\n"
          ],
          "name": "stdout"
        }
      ]
    },
    {
      "cell_type": "markdown",
      "metadata": {
        "id": "j2W0Hz9rXNBv"
      },
      "source": [
        "Match 14 "
      ]
    },
    {
      "cell_type": "code",
      "metadata": {
        "id": "FmRqZbbxXOrk",
        "colab": {
          "base_uri": "https://localhost:8080/"
        },
        "outputId": "56b27fba-3cf0-44c4-f1bd-5e893ac07e39"
      },
      "source": [
        "# Vinc Pichel\tvs\tJim Miller\t(Winner: Vinc Pichel)\n",
        "match_14_R = R_stats.loc[R_stats['R_fighter'] == 'Vinc Pichel'].reset_index(drop=True)\n",
        "years = actual_year - int(match_14_R.loc[0,'date'].split(\"-\")[0]) \n",
        "n_years = match_14_R.loc[0,'R_age'] + years\n",
        "match_14_R_mean = match_14_R.mean()\n",
        "match_14_R_mean.loc['R_age'] = n_years\n",
        "match_14_B = B_stats.loc[B_stats['B_fighter'] == 'Jim Miller'].reset_index(drop=True)\n",
        "years = actual_year - int(match_14_B.loc[0,'date'].split(\"-\")[0])\n",
        "n_years = match_14_B.loc[0,'B_age'] + years \n",
        "match_14_B_mean = match_14_B.mean()\n",
        "match_14_B_mean.loc['B_age'] = n_years\n",
        "match_14_input =  pd.concat([match_14_R_mean,match_14_B_mean])\n",
        "match_14_input = pd.DataFrame(match_14_input).T\n",
        "match_14_input = match_14_input[inputs]\n",
        "f14 = dt.predict_proba(match_14_input.values) \n",
        "prob_DF_14 =  pd.DataFrame(f14, columns=dt.classes_)\n",
        "prob_DF_14.head(1)"
      ],
      "execution_count": null,
      "outputs": [
        {
          "output_type": "execute_result",
          "data": {
            "text/html": [
              "<div>\n",
              "<style scoped>\n",
              "    .dataframe tbody tr th:only-of-type {\n",
              "        vertical-align: middle;\n",
              "    }\n",
              "\n",
              "    .dataframe tbody tr th {\n",
              "        vertical-align: top;\n",
              "    }\n",
              "\n",
              "    .dataframe thead th {\n",
              "        text-align: right;\n",
              "    }\n",
              "</style>\n",
              "<table border=\"1\" class=\"dataframe\">\n",
              "  <thead>\n",
              "    <tr style=\"text-align: right;\">\n",
              "      <th></th>\n",
              "      <th>Blue</th>\n",
              "      <th>Draw</th>\n",
              "      <th>Red</th>\n",
              "    </tr>\n",
              "  </thead>\n",
              "  <tbody>\n",
              "    <tr>\n",
              "      <th>0</th>\n",
              "      <td>0.797101</td>\n",
              "      <td>0.028986</td>\n",
              "      <td>0.173913</td>\n",
              "    </tr>\n",
              "  </tbody>\n",
              "</table>\n",
              "</div>"
            ],
            "text/plain": [
              "       Blue      Draw       Red\n",
              "0  0.797101  0.028986  0.173913"
            ]
          },
          "metadata": {
            "tags": []
          },
          "execution_count": 36
        }
      ]
    },
    {
      "cell_type": "code",
      "metadata": {
        "id": "bwq4qJujGyXF",
        "colab": {
          "base_uri": "https://localhost:8080/"
        },
        "outputId": "a830414c-95d1-4ae3-d003-e03d4867cac9"
      },
      "source": [
        "m1b = dt.predict(match_14_input.values) \n",
        "print(m1b)"
      ],
      "execution_count": null,
      "outputs": [
        {
          "output_type": "stream",
          "text": [
            "['Blue']\n"
          ],
          "name": "stdout"
        }
      ]
    },
    {
      "cell_type": "markdown",
      "metadata": {
        "id": "jaCn9o7PXZJB"
      },
      "source": [
        "Match 15 "
      ]
    },
    {
      "cell_type": "code",
      "metadata": {
        "id": "nmAbVU7CXaRX",
        "colab": {
          "base_uri": "https://localhost:8080/"
        },
        "outputId": "110dd795-6513-4eda-9a0b-fdd8cade3550"
      },
      "source": [
        "# Brian Ortega\tvs\tChan Sung Jung\t(Winner:  Brian Ortega)\n",
        "match_15_R = R_stats.loc[R_stats['R_fighter'] == 'Brian Ortega'].reset_index(drop=True)\n",
        "years = actual_year - int(match_15_R.loc[0,'date'].split(\"-\")[0]) \n",
        "n_years = match_15_R.loc[0,'R_age'] + years\n",
        "match_15_R_mean = match_15_R.mean()\n",
        "match_15_R_mean.loc['R_age'] = n_years\n",
        "match_15_B = B_stats.loc[B_stats['B_fighter'] == 'Chan Sung Jung'].reset_index(drop=True)\n",
        "years = actual_year - int(match_15_B.loc[0,'date'].split(\"-\")[0])\n",
        "n_years = match_15_B.loc[0,'B_age'] + years \n",
        "match_15_B_mean = match_15_B.mean()\n",
        "match_15_B_mean.loc['B_age'] = n_years\n",
        "match_15_input =  pd.concat([match_15_R_mean,match_15_B_mean])\n",
        "match_15_input = pd.DataFrame(match_15_input).T\n",
        "match_15_input = match_15_input[inputs]\n",
        "f15 = dt.predict_proba(match_15_input.values) \n",
        "prob_DF_15 =  pd.DataFrame(f15, columns=dt.classes_)\n",
        "prob_DF_15.head(1)"
      ],
      "execution_count": null,
      "outputs": [
        {
          "output_type": "execute_result",
          "data": {
            "text/html": [
              "<div>\n",
              "<style scoped>\n",
              "    .dataframe tbody tr th:only-of-type {\n",
              "        vertical-align: middle;\n",
              "    }\n",
              "\n",
              "    .dataframe tbody tr th {\n",
              "        vertical-align: top;\n",
              "    }\n",
              "\n",
              "    .dataframe thead th {\n",
              "        text-align: right;\n",
              "    }\n",
              "</style>\n",
              "<table border=\"1\" class=\"dataframe\">\n",
              "  <thead>\n",
              "    <tr style=\"text-align: right;\">\n",
              "      <th></th>\n",
              "      <th>Blue</th>\n",
              "      <th>Draw</th>\n",
              "      <th>Red</th>\n",
              "    </tr>\n",
              "  </thead>\n",
              "  <tbody>\n",
              "    <tr>\n",
              "      <th>0</th>\n",
              "      <td>0.485</td>\n",
              "      <td>0.016667</td>\n",
              "      <td>0.498333</td>\n",
              "    </tr>\n",
              "  </tbody>\n",
              "</table>\n",
              "</div>"
            ],
            "text/plain": [
              "    Blue      Draw       Red\n",
              "0  0.485  0.016667  0.498333"
            ]
          },
          "metadata": {
            "tags": []
          },
          "execution_count": 38
        }
      ]
    },
    {
      "cell_type": "code",
      "metadata": {
        "id": "fHWFPPCMHO6k",
        "colab": {
          "base_uri": "https://localhost:8080/"
        },
        "outputId": "9c9f186c-d7a3-4ceb-ba35-1ee913fbc0e9"
      },
      "source": [
        "m1b = dt.predict(match_15_input.values) \n",
        "print(m1b)"
      ],
      "execution_count": null,
      "outputs": [
        {
          "output_type": "stream",
          "text": [
            "['Red']\n"
          ],
          "name": "stdout"
        }
      ]
    },
    {
      "cell_type": "markdown",
      "metadata": {
        "id": "oAukKseTXnW1"
      },
      "source": [
        "Match 16 "
      ]
    },
    {
      "cell_type": "code",
      "metadata": {
        "id": "j294MolCXoZV",
        "colab": {
          "base_uri": "https://localhost:8080/"
        },
        "outputId": "7e8bc6f6-78de-4222-8816-69779edb99fc"
      },
      "source": [
        "# Jessica Andrade\tvs\tKatlyn Chookagian\t(Winner: Jessica Andrade)\n",
        "match_16_R = R_stats.loc[R_stats['R_fighter'] == 'Jessica Andrade'].reset_index(drop=True)\n",
        "years = actual_year - int(match_16_R.loc[0,'date'].split(\"-\")[0]) \n",
        "n_years = match_16_R.loc[0,'R_age'] + years\n",
        "match_16_R_mean = match_16_R.mean()\n",
        "match_16_R_mean.loc['R_age'] = n_years\n",
        "match_16_B = B_stats.loc[B_stats['B_fighter'] == 'Katlyn Chookagian'].reset_index(drop=True)\n",
        "years = actual_year - int(match_16_B.loc[0,'date'].split(\"-\")[0])\n",
        "n_years = match_16_B.loc[0,'B_age'] + years \n",
        "match_16_B_mean = match_16_B.mean()\n",
        "match_16_B_mean.loc['B_age'] = n_years\n",
        "match_16_input =  pd.concat([match_16_R_mean,match_16_B_mean])\n",
        "match_16_input = pd.DataFrame(match_16_input).T\n",
        "match_16_input = match_16_input[inputs]\n",
        "f16 = dt.predict_proba(match_16_input.values) \n",
        "prob_DF_16 =  pd.DataFrame(f16, columns=dt.classes_)\n",
        "prob_DF_16.head(1)"
      ],
      "execution_count": null,
      "outputs": [
        {
          "output_type": "execute_result",
          "data": {
            "text/html": [
              "<div>\n",
              "<style scoped>\n",
              "    .dataframe tbody tr th:only-of-type {\n",
              "        vertical-align: middle;\n",
              "    }\n",
              "\n",
              "    .dataframe tbody tr th {\n",
              "        vertical-align: top;\n",
              "    }\n",
              "\n",
              "    .dataframe thead th {\n",
              "        text-align: right;\n",
              "    }\n",
              "</style>\n",
              "<table border=\"1\" class=\"dataframe\">\n",
              "  <thead>\n",
              "    <tr style=\"text-align: right;\">\n",
              "      <th></th>\n",
              "      <th>Blue</th>\n",
              "      <th>Draw</th>\n",
              "      <th>Red</th>\n",
              "    </tr>\n",
              "  </thead>\n",
              "  <tbody>\n",
              "    <tr>\n",
              "      <th>0</th>\n",
              "      <td>0.485</td>\n",
              "      <td>0.016667</td>\n",
              "      <td>0.498333</td>\n",
              "    </tr>\n",
              "  </tbody>\n",
              "</table>\n",
              "</div>"
            ],
            "text/plain": [
              "    Blue      Draw       Red\n",
              "0  0.485  0.016667  0.498333"
            ]
          },
          "metadata": {
            "tags": []
          },
          "execution_count": 40
        }
      ]
    },
    {
      "cell_type": "code",
      "metadata": {
        "id": "dB10xvwfHcTe",
        "colab": {
          "base_uri": "https://localhost:8080/"
        },
        "outputId": "5eaf73a7-aaa4-4a3a-b780-f1ae9cc2433b"
      },
      "source": [
        "m1b = dt.predict(match_16_input.values) \n",
        "print(m1b)"
      ],
      "execution_count": null,
      "outputs": [
        {
          "output_type": "stream",
          "text": [
            "['Red']\n"
          ],
          "name": "stdout"
        }
      ]
    },
    {
      "cell_type": "markdown",
      "metadata": {
        "id": "QfA_uluKXxM8"
      },
      "source": [
        "Match 17 "
      ]
    },
    {
      "cell_type": "code",
      "metadata": {
        "id": "JDB81l2wXycZ",
        "colab": {
          "base_uri": "https://localhost:8080/"
        },
        "outputId": "e6f43cf9-6492-4afb-d30a-51fafb5ea7a0"
      },
      "source": [
        "# James Krause\tvs\tClaudio Silva (Winner: Krause)\n",
        "match_17_R = R_stats.loc[R_stats['R_fighter'] == 'James Krause'].reset_index(drop=True)\n",
        "years = actual_year - int(match_17_R.loc[0,'date'].split(\"-\")[0]) \n",
        "n_years = match_17_R.loc[0,'R_age'] + years\n",
        "match_17_R_mean = match_17_R.mean()\n",
        "match_17_R_mean.loc['R_age'] = n_years\n",
        "match_17_B = B_stats.loc[B_stats['B_fighter'] == 'Claudio Silva'].reset_index(drop=True)\n",
        "years = actual_year - int(match_17_B.loc[0,'date'].split(\"-\")[0])\n",
        "n_years = match_17_B.loc[0,'B_age'] + years \n",
        "match_17_B_mean = match_17_B.mean()\n",
        "match_17_B_mean.loc['B_age'] = n_years\n",
        "match_17_input =  pd.concat([match_17_R_mean,match_17_B_mean])\n",
        "match_17_input = pd.DataFrame(match_17_input).T\n",
        "match_17_input = match_17_input[inputs]\n",
        "f17 = dt.predict_proba(match_17_input.values) \n",
        "prob_DF_17 =  pd.DataFrame(f17, columns=dt.classes_)\n",
        "prob_DF_17.head(1)"
      ],
      "execution_count": null,
      "outputs": [
        {
          "output_type": "execute_result",
          "data": {
            "text/html": [
              "<div>\n",
              "<style scoped>\n",
              "    .dataframe tbody tr th:only-of-type {\n",
              "        vertical-align: middle;\n",
              "    }\n",
              "\n",
              "    .dataframe tbody tr th {\n",
              "        vertical-align: top;\n",
              "    }\n",
              "\n",
              "    .dataframe thead th {\n",
              "        text-align: right;\n",
              "    }\n",
              "</style>\n",
              "<table border=\"1\" class=\"dataframe\">\n",
              "  <thead>\n",
              "    <tr style=\"text-align: right;\">\n",
              "      <th></th>\n",
              "      <th>Blue</th>\n",
              "      <th>Draw</th>\n",
              "      <th>Red</th>\n",
              "    </tr>\n",
              "  </thead>\n",
              "  <tbody>\n",
              "    <tr>\n",
              "      <th>0</th>\n",
              "      <td>0.495536</td>\n",
              "      <td>0.026786</td>\n",
              "      <td>0.477679</td>\n",
              "    </tr>\n",
              "  </tbody>\n",
              "</table>\n",
              "</div>"
            ],
            "text/plain": [
              "       Blue      Draw       Red\n",
              "0  0.495536  0.026786  0.477679"
            ]
          },
          "metadata": {
            "tags": []
          },
          "execution_count": 42
        }
      ]
    },
    {
      "cell_type": "code",
      "metadata": {
        "id": "dpSnJXwJHvQ7",
        "colab": {
          "base_uri": "https://localhost:8080/"
        },
        "outputId": "b76765c0-18b2-471f-ce76-995597d74914"
      },
      "source": [
        "m1b = dt.predict(match_17_input.values) \n",
        "print(m1b)"
      ],
      "execution_count": null,
      "outputs": [
        {
          "output_type": "stream",
          "text": [
            "['Blue']\n"
          ],
          "name": "stdout"
        }
      ]
    },
    {
      "cell_type": "markdown",
      "metadata": {
        "id": "NC9jE_PIYKQC"
      },
      "source": [
        "Match 18 "
      ]
    },
    {
      "cell_type": "code",
      "metadata": {
        "id": "ni4yMlyWYMJM",
        "colab": {
          "base_uri": "https://localhost:8080/"
        },
        "outputId": "7f71134c-7050-4df5-bbce-c6d8d9800712"
      },
      "source": [
        "# Gillian Robertson\tvs\tPoliana Botelho\n",
        "match_18_R = R_stats.loc[R_stats['R_fighter'] == 'Gillian Robertson'].reset_index(drop=True)\n",
        "years = actual_year - int(match_18_R.loc[0,'date'].split(\"-\")[0]) \n",
        "n_years = match_18_R.loc[0,'R_age'] + years\n",
        "match_18_R_mean = match_18_R.mean()\n",
        "match_18_R_mean.loc['R_age'] = n_years\n",
        "match_18_B = B_stats.loc[B_stats['B_fighter'] == 'Poliana Botelho'].reset_index(drop=True)\n",
        "years = actual_year - int(match_18_B.loc[0,'date'].split(\"-\")[0])\n",
        "n_years = match_18_B.loc[0,'B_age'] + years \n",
        "match_18_B_mean = match_18_B.mean()\n",
        "match_18_B_mean.loc['B_age'] = n_years\n",
        "match_18_input =  pd.concat([match_18_R_mean,match_18_B_mean])\n",
        "match_18_input = pd.DataFrame(match_18_input).T\n",
        "match_18_input = match_18_input[inputs]\n",
        "f18 = dt.predict_proba(match_18_input.values) \n",
        "prob_DF_18 =  pd.DataFrame(f18, columns=dt.classes_)\n",
        "prob_DF_18.head(1)"
      ],
      "execution_count": null,
      "outputs": [
        {
          "output_type": "execute_result",
          "data": {
            "text/html": [
              "<div>\n",
              "<style scoped>\n",
              "    .dataframe tbody tr th:only-of-type {\n",
              "        vertical-align: middle;\n",
              "    }\n",
              "\n",
              "    .dataframe tbody tr th {\n",
              "        vertical-align: top;\n",
              "    }\n",
              "\n",
              "    .dataframe thead th {\n",
              "        text-align: right;\n",
              "    }\n",
              "</style>\n",
              "<table border=\"1\" class=\"dataframe\">\n",
              "  <thead>\n",
              "    <tr style=\"text-align: right;\">\n",
              "      <th></th>\n",
              "      <th>Blue</th>\n",
              "      <th>Draw</th>\n",
              "      <th>Red</th>\n",
              "    </tr>\n",
              "  </thead>\n",
              "  <tbody>\n",
              "    <tr>\n",
              "      <th>0</th>\n",
              "      <td>1.0</td>\n",
              "      <td>0.0</td>\n",
              "      <td>0.0</td>\n",
              "    </tr>\n",
              "  </tbody>\n",
              "</table>\n",
              "</div>"
            ],
            "text/plain": [
              "   Blue  Draw  Red\n",
              "0   1.0   0.0  0.0"
            ]
          },
          "metadata": {
            "tags": []
          },
          "execution_count": 44
        }
      ]
    },
    {
      "cell_type": "code",
      "metadata": {
        "id": "PPrH0D2DH6uj",
        "colab": {
          "base_uri": "https://localhost:8080/"
        },
        "outputId": "3e56a878-caa4-4bd9-d5ea-0e20da86e15e"
      },
      "source": [
        "m1b = dt.predict(match_18_input.values) \n",
        "print(m1b)"
      ],
      "execution_count": null,
      "outputs": [
        {
          "output_type": "stream",
          "text": [
            "['Blue']\n"
          ],
          "name": "stdout"
        }
      ]
    },
    {
      "cell_type": "markdown",
      "metadata": {
        "id": "G8okzBcJYakz"
      },
      "source": [
        "Match 19 "
      ]
    },
    {
      "cell_type": "code",
      "metadata": {
        "id": "VCjpl9RsYdIr",
        "colab": {
          "base_uri": "https://localhost:8080/"
        },
        "outputId": "06bb3259-6307-420d-abc3-2bf5b6392105"
      },
      "source": [
        "# Neil Magny\tvs\tRobbie Lawler (W=Neil Magny)\n",
        "match_19_R = R_stats.loc[R_stats['R_fighter'] == 'Neil Magny'].reset_index(drop=True)\n",
        "years = actual_year - int(match_19_R.loc[0,'date'].split(\"-\")[0]) \n",
        "n_years = match_19_R.loc[0,'R_age'] + years\n",
        "match_19_R_mean = match_19_R.mean()\n",
        "match_19_R_mean.loc['R_age'] = n_years\n",
        "match_19_B = B_stats.loc[B_stats['B_fighter'] == 'Robbie Lawler'].reset_index(drop=True)\n",
        "years = actual_year - int(match_19_B.loc[0,'date'].split(\"-\")[0])\n",
        "n_years = match_19_B.loc[0,'B_age'] + years \n",
        "match_19_B_mean = match_19_B.mean()\n",
        "match_19_B_mean.loc['B_age'] = n_years\n",
        "match_19_input =  pd.concat([match_19_R_mean,match_19_B_mean])\n",
        "match_19_input = pd.DataFrame(match_19_input).T\n",
        "match_19_input = match_19_input[inputs]\n",
        "f19 = dt.predict_proba(match_19_input.values) \n",
        "prob_DF_19 =  pd.DataFrame(f19, columns=dt.classes_)\n",
        "prob_DF_19.head(1)"
      ],
      "execution_count": null,
      "outputs": [
        {
          "output_type": "execute_result",
          "data": {
            "text/html": [
              "<div>\n",
              "<style scoped>\n",
              "    .dataframe tbody tr th:only-of-type {\n",
              "        vertical-align: middle;\n",
              "    }\n",
              "\n",
              "    .dataframe tbody tr th {\n",
              "        vertical-align: top;\n",
              "    }\n",
              "\n",
              "    .dataframe thead th {\n",
              "        text-align: right;\n",
              "    }\n",
              "</style>\n",
              "<table border=\"1\" class=\"dataframe\">\n",
              "  <thead>\n",
              "    <tr style=\"text-align: right;\">\n",
              "      <th></th>\n",
              "      <th>Blue</th>\n",
              "      <th>Draw</th>\n",
              "      <th>Red</th>\n",
              "    </tr>\n",
              "  </thead>\n",
              "  <tbody>\n",
              "    <tr>\n",
              "      <th>0</th>\n",
              "      <td>0.333333</td>\n",
              "      <td>0.011494</td>\n",
              "      <td>0.655172</td>\n",
              "    </tr>\n",
              "  </tbody>\n",
              "</table>\n",
              "</div>"
            ],
            "text/plain": [
              "       Blue      Draw       Red\n",
              "0  0.333333  0.011494  0.655172"
            ]
          },
          "metadata": {
            "tags": []
          },
          "execution_count": 46
        }
      ]
    },
    {
      "cell_type": "code",
      "metadata": {
        "id": "cLnqVACfILo_",
        "colab": {
          "base_uri": "https://localhost:8080/"
        },
        "outputId": "5144d7d0-6f17-43bc-a470-2d60c21bbed6"
      },
      "source": [
        "m1b = dt.predict(match_19_input.values) \n",
        "print(m1b)"
      ],
      "execution_count": null,
      "outputs": [
        {
          "output_type": "stream",
          "text": [
            "['Red']\n"
          ],
          "name": "stdout"
        }
      ]
    },
    {
      "cell_type": "markdown",
      "metadata": {
        "id": "x8SmAK2WZbXK"
      },
      "source": [
        "Match 20 "
      ]
    },
    {
      "cell_type": "code",
      "metadata": {
        "id": "mF6BuZU8Zcir",
        "colab": {
          "base_uri": "https://localhost:8080/"
        },
        "outputId": "fcf1eac5-d24b-4be3-aad5-317a2c50efce"
      },
      "source": [
        "# Alexa Grasso\tvs\tJi Yeon Kim (#Alexa Grasso)\n",
        "match_20_R = R_stats.loc[R_stats['R_fighter'] == 'Alexa Grasso'].reset_index(drop=True)\n",
        "years = actual_year - int(match_20_R.loc[0,'date'].split(\"-\")[0]) \n",
        "n_years = match_20_R.loc[0,'R_age'] + years\n",
        "match_20_R_mean = match_20_R.mean()\n",
        "match_20_R_mean.loc['R_age'] = n_years\n",
        "match_20_B = B_stats.loc[B_stats['B_fighter'] == 'Ji Yeon Kim'].reset_index(drop=True)\n",
        "years = actual_year - int(match_20_B.loc[0,'date'].split(\"-\")[0])\n",
        "n_years = match_20_B.loc[0,'B_age'] + years \n",
        "match_20_B_mean = match_20_B.mean()\n",
        "match_20_B_mean.loc['B_age'] = n_years\n",
        "match_20_input =  pd.concat([match_20_R_mean,match_20_B_mean])\n",
        "match_20_input = pd.DataFrame(match_20_input).T\n",
        "match_20_input = match_20_input[inputs]\n",
        "f20 = dt.predict_proba(match_20_input.values) \n",
        "prob_DF_20 =  pd.DataFrame(f20, columns=dt.classes_)\n",
        "prob_DF_20.head(1)"
      ],
      "execution_count": null,
      "outputs": [
        {
          "output_type": "execute_result",
          "data": {
            "text/html": [
              "<div>\n",
              "<style scoped>\n",
              "    .dataframe tbody tr th:only-of-type {\n",
              "        vertical-align: middle;\n",
              "    }\n",
              "\n",
              "    .dataframe tbody tr th {\n",
              "        vertical-align: top;\n",
              "    }\n",
              "\n",
              "    .dataframe thead th {\n",
              "        text-align: right;\n",
              "    }\n",
              "</style>\n",
              "<table border=\"1\" class=\"dataframe\">\n",
              "  <thead>\n",
              "    <tr style=\"text-align: right;\">\n",
              "      <th></th>\n",
              "      <th>Blue</th>\n",
              "      <th>Draw</th>\n",
              "      <th>Red</th>\n",
              "    </tr>\n",
              "  </thead>\n",
              "  <tbody>\n",
              "    <tr>\n",
              "      <th>0</th>\n",
              "      <td>0.485</td>\n",
              "      <td>0.016667</td>\n",
              "      <td>0.498333</td>\n",
              "    </tr>\n",
              "  </tbody>\n",
              "</table>\n",
              "</div>"
            ],
            "text/plain": [
              "    Blue      Draw       Red\n",
              "0  0.485  0.016667  0.498333"
            ]
          },
          "metadata": {
            "tags": []
          },
          "execution_count": 48
        }
      ]
    },
    {
      "cell_type": "code",
      "metadata": {
        "id": "0tRIzVkGIYGO",
        "colab": {
          "base_uri": "https://localhost:8080/"
        },
        "outputId": "379a18cf-a757-450a-ae62-d5f023189c73"
      },
      "source": [
        "m1b = dt.predict(match_20_input.values) \n",
        "print(m1b)"
      ],
      "execution_count": null,
      "outputs": [
        {
          "output_type": "stream",
          "text": [
            "['Red']\n"
          ],
          "name": "stdout"
        }
      ]
    },
    {
      "cell_type": "markdown",
      "metadata": {
        "id": "SvgnrOSnZrfx"
      },
      "source": [
        "Match 21 "
      ]
    },
    {
      "cell_type": "code",
      "metadata": {
        "id": "UYahUhj-Zshf",
        "colab": {
          "base_uri": "https://localhost:8080/"
        },
        "outputId": "040cec7f-22ed-4c44-f015-3d4ab433810f"
      },
      "source": [
        "# Zak Cummings\tvs\tAlessio Di Chirico (#Zak Cummings)\n",
        "match_21_R = R_stats.loc[R_stats['R_fighter'] == 'Zak Cummings'].reset_index(drop=True)\n",
        "years = actual_year - int(match_21_R.loc[0,'date'].split(\"-\")[0]) \n",
        "n_years = match_21_R.loc[0,'R_age'] + years\n",
        "match_21_R_mean = match_21_R.mean()\n",
        "match_21_R_mean.loc['R_age'] = n_years\n",
        "match_21_B = B_stats.loc[B_stats['B_fighter'] == 'Alessio Di Chirico'].reset_index(drop=True)\n",
        "years = actual_year - int(match_21_B.loc[0,'date'].split(\"-\")[0])\n",
        "n_years = match_21_B.loc[0,'B_age'] + years \n",
        "match_21_B_mean = match_21_B.mean()\n",
        "match_21_B_mean.loc['B_age'] = n_years\n",
        "match_21_input =  pd.concat([match_21_R_mean,match_21_B_mean])\n",
        "match_21_input = pd.DataFrame(match_21_input).T\n",
        "match_21_input = match_21_input[inputs]\n",
        "f21 = dt.predict_proba(match_21_input.values) \n",
        "prob_DF_21 =  pd.DataFrame(f21, columns=dt.classes_)\n",
        "prob_DF_21.head(1)"
      ],
      "execution_count": null,
      "outputs": [
        {
          "output_type": "execute_result",
          "data": {
            "text/html": [
              "<div>\n",
              "<style scoped>\n",
              "    .dataframe tbody tr th:only-of-type {\n",
              "        vertical-align: middle;\n",
              "    }\n",
              "\n",
              "    .dataframe tbody tr th {\n",
              "        vertical-align: top;\n",
              "    }\n",
              "\n",
              "    .dataframe thead th {\n",
              "        text-align: right;\n",
              "    }\n",
              "</style>\n",
              "<table border=\"1\" class=\"dataframe\">\n",
              "  <thead>\n",
              "    <tr style=\"text-align: right;\">\n",
              "      <th></th>\n",
              "      <th>Blue</th>\n",
              "      <th>Draw</th>\n",
              "      <th>Red</th>\n",
              "    </tr>\n",
              "  </thead>\n",
              "  <tbody>\n",
              "    <tr>\n",
              "      <th>0</th>\n",
              "      <td>0.495536</td>\n",
              "      <td>0.026786</td>\n",
              "      <td>0.477679</td>\n",
              "    </tr>\n",
              "  </tbody>\n",
              "</table>\n",
              "</div>"
            ],
            "text/plain": [
              "       Blue      Draw       Red\n",
              "0  0.495536  0.026786  0.477679"
            ]
          },
          "metadata": {
            "tags": []
          },
          "execution_count": 50
        }
      ]
    },
    {
      "cell_type": "code",
      "metadata": {
        "id": "bMECucCdIrgJ",
        "colab": {
          "base_uri": "https://localhost:8080/"
        },
        "outputId": "2449e4ea-88b9-4161-d5ea-849bef9ef433"
      },
      "source": [
        "m1b = dt.predict(match_21_input.values) \n",
        "print(m1b)"
      ],
      "execution_count": null,
      "outputs": [
        {
          "output_type": "stream",
          "text": [
            "['Blue']\n"
          ],
          "name": "stdout"
        }
      ]
    },
    {
      "cell_type": "markdown",
      "metadata": {
        "id": "PgMW3DmBZ6Ys"
      },
      "source": [
        "Match 22"
      ]
    },
    {
      "cell_type": "code",
      "metadata": {
        "id": "IA7RkBLkZ8Np",
        "colab": {
          "base_uri": "https://localhost:8080/"
        },
        "outputId": "d1e14a9f-c0b6-40de-abb3-b85dcac6891a"
      },
      "source": [
        "# Colby Covington\tvs\tTyron Woodley (#Colby Covington)\n",
        "match_22_R = R_stats.loc[R_stats['R_fighter'] == 'Colby Covington'].reset_index(drop=True)\n",
        "years = actual_year - int(match_22_R.loc[0,'date'].split(\"-\")[0]) \n",
        "n_years = match_22_R.loc[0,'R_age'] + years\n",
        "match_22_R_mean = match_22_R.mean()\n",
        "match_22_R_mean.loc['R_age'] = n_years\n",
        "match_22_B = B_stats.loc[B_stats['B_fighter'] == 'Tyron Woodley'].reset_index(drop=True)\n",
        "years = actual_year - int(match_22_B.loc[0,'date'].split(\"-\")[0])\n",
        "n_years = match_22_B.loc[0,'B_age'] + years \n",
        "match_22_B_mean = match_22_B.mean()\n",
        "match_22_B_mean.loc['B_age'] = n_years\n",
        "match_22_input =  pd.concat([match_22_R_mean,match_22_B_mean])\n",
        "match_22_input = pd.DataFrame(match_22_input).T\n",
        "match_22_input = match_22_input[inputs]\n",
        "f22 = dt.predict_proba(match_22_input.values) \n",
        "prob_DF_22 =  pd.DataFrame(f22, columns=dt.classes_)\n",
        "prob_DF_22.head(1)"
      ],
      "execution_count": null,
      "outputs": [
        {
          "output_type": "execute_result",
          "data": {
            "text/html": [
              "<div>\n",
              "<style scoped>\n",
              "    .dataframe tbody tr th:only-of-type {\n",
              "        vertical-align: middle;\n",
              "    }\n",
              "\n",
              "    .dataframe tbody tr th {\n",
              "        vertical-align: top;\n",
              "    }\n",
              "\n",
              "    .dataframe thead th {\n",
              "        text-align: right;\n",
              "    }\n",
              "</style>\n",
              "<table border=\"1\" class=\"dataframe\">\n",
              "  <thead>\n",
              "    <tr style=\"text-align: right;\">\n",
              "      <th></th>\n",
              "      <th>Blue</th>\n",
              "      <th>Draw</th>\n",
              "      <th>Red</th>\n",
              "    </tr>\n",
              "  </thead>\n",
              "  <tbody>\n",
              "    <tr>\n",
              "      <th>0</th>\n",
              "      <td>0.25</td>\n",
              "      <td>0.0</td>\n",
              "      <td>0.75</td>\n",
              "    </tr>\n",
              "  </tbody>\n",
              "</table>\n",
              "</div>"
            ],
            "text/plain": [
              "   Blue  Draw   Red\n",
              "0  0.25   0.0  0.75"
            ]
          },
          "metadata": {
            "tags": []
          },
          "execution_count": 52
        }
      ]
    },
    {
      "cell_type": "code",
      "metadata": {
        "id": "3HH2z4NcI0JW",
        "colab": {
          "base_uri": "https://localhost:8080/"
        },
        "outputId": "b8c0932f-37a9-4238-fc87-7ba8adfbe44c"
      },
      "source": [
        "m1b = dt.predict(match_22_input.values) \n",
        "print(m1b)"
      ],
      "execution_count": null,
      "outputs": [
        {
          "output_type": "stream",
          "text": [
            "['Red']\n"
          ],
          "name": "stdout"
        }
      ]
    },
    {
      "cell_type": "markdown",
      "metadata": {
        "id": "V5oZ8aCFaDdz"
      },
      "source": [
        "Match 23 "
      ]
    },
    {
      "cell_type": "code",
      "metadata": {
        "id": "8YP_6DnwaEjD",
        "colab": {
          "base_uri": "https://localhost:8080/"
        },
        "outputId": "7bacd849-c36d-4128-9ee6-2c18bb792a0b"
      },
      "source": [
        "# Donald Cerrone\tvs\tNiko Price (#Draw)\n",
        "match_23_R = R_stats.loc[R_stats['R_fighter'] == 'Donald Cerrone'].reset_index(drop=True)\n",
        "years = actual_year - int(match_23_R.loc[0,'date'].split(\"-\")[0]) \n",
        "n_years = match_23_R.loc[0,'R_age'] + years\n",
        "match_23_R_mean = match_23_R.mean()\n",
        "match_23_R_mean.loc['R_age'] = n_years\n",
        "match_23_B = B_stats.loc[B_stats['B_fighter'] == 'Niko Price'].reset_index(drop=True)\n",
        "years = actual_year - int(match_23_B.loc[0,'date'].split(\"-\")[0])\n",
        "n_years = match_23_B.loc[0,'B_age'] + years \n",
        "match_23_B_mean = match_23_B.mean()\n",
        "match_23_B_mean.loc['B_age'] = n_years\n",
        "match_23_input =  pd.concat([match_23_R_mean,match_23_B_mean])\n",
        "match_23_input = pd.DataFrame(match_23_input).T\n",
        "match_23_input = match_23_input[inputs]\n",
        "f23 = dt.predict_proba(match_23_input.values) \n",
        "prob_DF_23 =  pd.DataFrame(f23, columns=dt.classes_)\n",
        "prob_DF_23.head(1)"
      ],
      "execution_count": null,
      "outputs": [
        {
          "output_type": "execute_result",
          "data": {
            "text/html": [
              "<div>\n",
              "<style scoped>\n",
              "    .dataframe tbody tr th:only-of-type {\n",
              "        vertical-align: middle;\n",
              "    }\n",
              "\n",
              "    .dataframe tbody tr th {\n",
              "        vertical-align: top;\n",
              "    }\n",
              "\n",
              "    .dataframe thead th {\n",
              "        text-align: right;\n",
              "    }\n",
              "</style>\n",
              "<table border=\"1\" class=\"dataframe\">\n",
              "  <thead>\n",
              "    <tr style=\"text-align: right;\">\n",
              "      <th></th>\n",
              "      <th>Blue</th>\n",
              "      <th>Draw</th>\n",
              "      <th>Red</th>\n",
              "    </tr>\n",
              "  </thead>\n",
              "  <tbody>\n",
              "    <tr>\n",
              "      <th>0</th>\n",
              "      <td>0.454545</td>\n",
              "      <td>0.0</td>\n",
              "      <td>0.545455</td>\n",
              "    </tr>\n",
              "  </tbody>\n",
              "</table>\n",
              "</div>"
            ],
            "text/plain": [
              "       Blue  Draw       Red\n",
              "0  0.454545   0.0  0.545455"
            ]
          },
          "metadata": {
            "tags": []
          },
          "execution_count": 54
        }
      ]
    },
    {
      "cell_type": "code",
      "metadata": {
        "id": "uCKIAPPZJbya",
        "colab": {
          "base_uri": "https://localhost:8080/"
        },
        "outputId": "41bcdce5-71be-4580-d840-4bf970c95b82"
      },
      "source": [
        "m1b = dt.predict(match_23_input.values) \n",
        "print(m1b)"
      ],
      "execution_count": null,
      "outputs": [
        {
          "output_type": "stream",
          "text": [
            "['Red']\n"
          ],
          "name": "stdout"
        }
      ]
    },
    {
      "cell_type": "markdown",
      "metadata": {
        "id": "BDKDNHCYaP1Z"
      },
      "source": [
        "Match 24"
      ]
    },
    {
      "cell_type": "code",
      "metadata": {
        "id": "-ReTJMlBaTKj",
        "colab": {
          "base_uri": "https://localhost:8080/"
        },
        "outputId": "eb7a869a-18f5-4a28-cfe1-659455120aa4"
      },
      "source": [
        "# Mackenzie Dern\tvs\tRanda Markos (#Mackenzie Dern)\n",
        "match_24_R = R_stats.loc[R_stats['R_fighter'] == 'Mackenzie Dern'].reset_index(drop=True)\n",
        "years = actual_year - int(match_24_R.loc[0,'date'].split(\"-\")[0]) \n",
        "n_years = match_24_R.loc[0,'R_age'] + years\n",
        "match_24_R_mean = match_24_R.mean()\n",
        "match_24_R_mean.loc['R_age'] = n_years\n",
        "match_24_B = B_stats.loc[B_stats['B_fighter'] == 'Randa Markos'].reset_index(drop=True)\n",
        "years = actual_year - int(match_24_B.loc[0,'date'].split(\"-\")[0])\n",
        "n_years = match_24_B.loc[0,'B_age'] + years \n",
        "match_24_B_mean = match_24_B.mean()\n",
        "match_24_B_mean.loc['B_age'] = n_years\n",
        "match_24_input =  pd.concat([match_24_R_mean,match_24_B_mean])\n",
        "match_24_input = pd.DataFrame(match_24_input).T\n",
        "match_24_input = match_24_input[inputs]\n",
        "f24 = dt.predict_proba(match_24_input.values) \n",
        "prob_DF_24 =  pd.DataFrame(f24, columns=dt.classes_)\n",
        "prob_DF_24.head(1)"
      ],
      "execution_count": null,
      "outputs": [
        {
          "output_type": "execute_result",
          "data": {
            "text/html": [
              "<div>\n",
              "<style scoped>\n",
              "    .dataframe tbody tr th:only-of-type {\n",
              "        vertical-align: middle;\n",
              "    }\n",
              "\n",
              "    .dataframe tbody tr th {\n",
              "        vertical-align: top;\n",
              "    }\n",
              "\n",
              "    .dataframe thead th {\n",
              "        text-align: right;\n",
              "    }\n",
              "</style>\n",
              "<table border=\"1\" class=\"dataframe\">\n",
              "  <thead>\n",
              "    <tr style=\"text-align: right;\">\n",
              "      <th></th>\n",
              "      <th>Blue</th>\n",
              "      <th>Draw</th>\n",
              "      <th>Red</th>\n",
              "    </tr>\n",
              "  </thead>\n",
              "  <tbody>\n",
              "    <tr>\n",
              "      <th>0</th>\n",
              "      <td>0.206897</td>\n",
              "      <td>0.0</td>\n",
              "      <td>0.793103</td>\n",
              "    </tr>\n",
              "  </tbody>\n",
              "</table>\n",
              "</div>"
            ],
            "text/plain": [
              "       Blue  Draw       Red\n",
              "0  0.206897   0.0  0.793103"
            ]
          },
          "metadata": {
            "tags": []
          },
          "execution_count": 56
        }
      ]
    },
    {
      "cell_type": "code",
      "metadata": {
        "id": "uTkFL11qJyw1",
        "colab": {
          "base_uri": "https://localhost:8080/"
        },
        "outputId": "336fd232-08ea-4705-a9c5-4e50cb0a24ca"
      },
      "source": [
        "m1b = dt.predict(match_24_input.values) \n",
        "print(m1b)"
      ],
      "execution_count": null,
      "outputs": [
        {
          "output_type": "stream",
          "text": [
            "['Red']\n"
          ],
          "name": "stdout"
        }
      ]
    },
    {
      "cell_type": "markdown",
      "metadata": {
        "id": "6YR0K9TyaaAC"
      },
      "source": [
        "Match 25 "
      ]
    },
    {
      "cell_type": "code",
      "metadata": {
        "id": "WmhkZkLJabSB",
        "colab": {
          "base_uri": "https://localhost:8080/"
        },
        "outputId": "178e6690-21a7-4c25-f486-17ac52bbd36d"
      },
      "source": [
        "# Kevin Holland\tvs\tDarren Stewart (#Kevin Holland)\n",
        "match_25_R = R_stats.loc[R_stats['R_fighter'] == 'Kevin Holland'].reset_index(drop=True)\n",
        "match_25_R.head()\n",
        "years = actual_year - int(match_25_R.loc[0,'date'].split(\"-\")[0]) \n",
        "n_years = match_25_R.loc[0,'R_age'] + years\n",
        "match_25_R_mean = match_25_R.mean()\n",
        "match_25_R_mean.loc['R_age'] = n_years\n",
        "match_25_B = B_stats.loc[B_stats['B_fighter'] == 'Darren Stewart'].reset_index(drop=True)\n",
        "years = actual_year - int(match_25_B.loc[0,'date'].split(\"-\")[0])\n",
        "n_years = match_25_B.loc[0,'B_age'] + years \n",
        "match_25_B_mean = match_25_B.mean()\n",
        "match_25_B_mean.loc['B_age'] = n_years\n",
        "match_25_input =  pd.concat([match_25_R_mean,match_25_B_mean])\n",
        "match_25_input = pd.DataFrame(match_25_input).T\n",
        "match_25_input = match_25_input[inputs]\n",
        "f25 = dt.predict_proba(match_25_input.values) \n",
        "prob_DF_25 =  pd.DataFrame(f25, columns=dt.classes_)\n",
        "prob_DF_25.head(1)"
      ],
      "execution_count": null,
      "outputs": [
        {
          "output_type": "execute_result",
          "data": {
            "text/html": [
              "<div>\n",
              "<style scoped>\n",
              "    .dataframe tbody tr th:only-of-type {\n",
              "        vertical-align: middle;\n",
              "    }\n",
              "\n",
              "    .dataframe tbody tr th {\n",
              "        vertical-align: top;\n",
              "    }\n",
              "\n",
              "    .dataframe thead th {\n",
              "        text-align: right;\n",
              "    }\n",
              "</style>\n",
              "<table border=\"1\" class=\"dataframe\">\n",
              "  <thead>\n",
              "    <tr style=\"text-align: right;\">\n",
              "      <th></th>\n",
              "      <th>Blue</th>\n",
              "      <th>Draw</th>\n",
              "      <th>Red</th>\n",
              "    </tr>\n",
              "  </thead>\n",
              "  <tbody>\n",
              "    <tr>\n",
              "      <th>0</th>\n",
              "      <td>0.048387</td>\n",
              "      <td>0.016129</td>\n",
              "      <td>0.935484</td>\n",
              "    </tr>\n",
              "  </tbody>\n",
              "</table>\n",
              "</div>"
            ],
            "text/plain": [
              "       Blue      Draw       Red\n",
              "0  0.048387  0.016129  0.935484"
            ]
          },
          "metadata": {
            "tags": []
          },
          "execution_count": 58
        }
      ]
    },
    {
      "cell_type": "code",
      "metadata": {
        "id": "8OIA20bMKAMK",
        "colab": {
          "base_uri": "https://localhost:8080/"
        },
        "outputId": "3266cf14-590d-4a7a-8ef9-9df01182f625"
      },
      "source": [
        "m1b = dt.predict(match_25_input.values) \n",
        "print(m1b)"
      ],
      "execution_count": null,
      "outputs": [
        {
          "output_type": "stream",
          "text": [
            "['Red']\n"
          ],
          "name": "stdout"
        }
      ]
    },
    {
      "cell_type": "markdown",
      "metadata": {
        "id": "ifwrbB0aairf"
      },
      "source": [
        "Match 26 "
      ]
    },
    {
      "cell_type": "code",
      "metadata": {
        "id": "iwMCZOLOak2C",
        "colab": {
          "base_uri": "https://localhost:8080/"
        },
        "outputId": "a60c8295-0235-48df-b479-99d75cc0ec27"
      },
      "source": [
        "# Damon Jackson\tvs\tMirsad Bektic (# Damon Jackson)\n",
        "\n",
        "match_26_R = R_stats.loc[R_stats['R_fighter'] == 'Damon Jackson'].reset_index(drop=True)\n",
        "years = actual_year - int(match_26_R.loc[0,'date'].split(\"-\")[0]) \n",
        "n_years = match_26_R.loc[0,'R_age'] + years\n",
        "match_26_R_mean = match_26_R.mean()\n",
        "match_26_R_mean.loc['R_age'] = n_years\n",
        "match_26_B = B_stats.loc[B_stats['B_fighter'] == 'Mirsad Bektic'].reset_index(drop=True)\n",
        "years = actual_year - int(match_26_B.loc[0,'date'].split(\"-\")[0])\n",
        "n_years = match_26_B.loc[0,'B_age'] + years \n",
        "match_26_B_mean = match_26_B.mean()\n",
        "match_26_B_mean.loc['B_age'] = n_years\n",
        "match_26_input =  pd.concat([match_26_R_mean,match_26_B_mean])\n",
        "match_26_input = pd.DataFrame(match_26_input).T\n",
        "match_26_input = match_26_input[inputs]\n",
        "f26 = dt.predict_proba(match_26_input.values) \n",
        "prob_DF_26 =  pd.DataFrame(f26, columns=dt.classes_)\n",
        "prob_DF_26.head(1)"
      ],
      "execution_count": null,
      "outputs": [
        {
          "output_type": "execute_result",
          "data": {
            "text/html": [
              "<div>\n",
              "<style scoped>\n",
              "    .dataframe tbody tr th:only-of-type {\n",
              "        vertical-align: middle;\n",
              "    }\n",
              "\n",
              "    .dataframe tbody tr th {\n",
              "        vertical-align: top;\n",
              "    }\n",
              "\n",
              "    .dataframe thead th {\n",
              "        text-align: right;\n",
              "    }\n",
              "</style>\n",
              "<table border=\"1\" class=\"dataframe\">\n",
              "  <thead>\n",
              "    <tr style=\"text-align: right;\">\n",
              "      <th></th>\n",
              "      <th>Blue</th>\n",
              "      <th>Draw</th>\n",
              "      <th>Red</th>\n",
              "    </tr>\n",
              "  </thead>\n",
              "  <tbody>\n",
              "    <tr>\n",
              "      <th>0</th>\n",
              "      <td>0.485</td>\n",
              "      <td>0.016667</td>\n",
              "      <td>0.498333</td>\n",
              "    </tr>\n",
              "  </tbody>\n",
              "</table>\n",
              "</div>"
            ],
            "text/plain": [
              "    Blue      Draw       Red\n",
              "0  0.485  0.016667  0.498333"
            ]
          },
          "metadata": {
            "tags": []
          },
          "execution_count": 60
        }
      ]
    },
    {
      "cell_type": "code",
      "metadata": {
        "id": "7vXFxyPmKN4M",
        "colab": {
          "base_uri": "https://localhost:8080/"
        },
        "outputId": "60b51320-53c9-419a-af3f-9e8b8b3fff60"
      },
      "source": [
        "m1b = dt.predict(match_26_input.values) \n",
        "print(m1b)"
      ],
      "execution_count": null,
      "outputs": [
        {
          "output_type": "stream",
          "text": [
            "['Red']\n"
          ],
          "name": "stdout"
        }
      ]
    },
    {
      "cell_type": "markdown",
      "metadata": {
        "id": "fn0fsOamaxvS"
      },
      "source": [
        "Match 27 "
      ]
    },
    {
      "cell_type": "code",
      "metadata": {
        "id": "Lfifsj3_ay8a",
        "colab": {
          "base_uri": "https://localhost:8080/"
        },
        "outputId": "5fafcaf5-c96e-482d-d80e-766a53a6ae7c"
      },
      "source": [
        "# Mayra Bueno Silva\tvs\tMara Romero Borella\n",
        "\n",
        "# Mayra Bueno Silva only have one fight in the dataset, therefore another fighter\n",
        "# with a similar age (27), same gender, and similar height was chosen, in this case, this player was Livinha Souza \n",
        "# Her statistics were taken to prove the model.  The age was chosen since it is important for the model\n",
        "\n",
        "match_27_R = R_stats.loc[R_stats['R_fighter'] == 'Livinha Souza'].reset_index(drop=True)\n",
        "years = actual_year - int(match_27_R.loc[0,'date'].split(\"-\")[0]) \n",
        "n_years = match_27_R.loc[0,'R_age'] + years\n",
        "match_27_R_mean = match_27_R.mean()\n",
        "match_27_R_mean.loc['R_age'] = n_years\n",
        "match_27_B = B_stats.loc[B_stats['B_fighter'] == 'Mara Romero Borella'].reset_index(drop=True)\n",
        "years = actual_year - int(match_27_B.loc[0,'date'].split(\"-\")[0])\n",
        "n_years = match_27_B.loc[0,'B_age'] + years \n",
        "match_27_B_mean = match_27_B.mean()\n",
        "match_27_B_mean.loc['B_age'] = n_years\n",
        "match_27_input =  pd.concat([match_27_R_mean,match_27_B_mean])\n",
        "match_27_input = pd.DataFrame(match_27_input).T\n",
        "match_27_input = match_27_input[inputs]\n",
        "f27 = dt.predict_proba(match_27_input.values) \n",
        "prob_DF_27 =  pd.DataFrame(f27, columns=dt.classes_)\n",
        "prob_DF_27.head(1)"
      ],
      "execution_count": null,
      "outputs": [
        {
          "output_type": "execute_result",
          "data": {
            "text/html": [
              "<div>\n",
              "<style scoped>\n",
              "    .dataframe tbody tr th:only-of-type {\n",
              "        vertical-align: middle;\n",
              "    }\n",
              "\n",
              "    .dataframe tbody tr th {\n",
              "        vertical-align: top;\n",
              "    }\n",
              "\n",
              "    .dataframe thead th {\n",
              "        text-align: right;\n",
              "    }\n",
              "</style>\n",
              "<table border=\"1\" class=\"dataframe\">\n",
              "  <thead>\n",
              "    <tr style=\"text-align: right;\">\n",
              "      <th></th>\n",
              "      <th>Blue</th>\n",
              "      <th>Draw</th>\n",
              "      <th>Red</th>\n",
              "    </tr>\n",
              "  </thead>\n",
              "  <tbody>\n",
              "    <tr>\n",
              "      <th>0</th>\n",
              "      <td>0.275</td>\n",
              "      <td>0.025</td>\n",
              "      <td>0.7</td>\n",
              "    </tr>\n",
              "  </tbody>\n",
              "</table>\n",
              "</div>"
            ],
            "text/plain": [
              "    Blue   Draw  Red\n",
              "0  0.275  0.025  0.7"
            ]
          },
          "metadata": {
            "tags": []
          },
          "execution_count": 62
        }
      ]
    },
    {
      "cell_type": "code",
      "metadata": {
        "id": "2zENel-SOlW2",
        "colab": {
          "base_uri": "https://localhost:8080/"
        },
        "outputId": "cbf13e7f-e1f2-400a-93cf-f3a46dbd8493"
      },
      "source": [
        "m1b = dt.predict(match_27_input.values) \n",
        "print(m1b)"
      ],
      "execution_count": null,
      "outputs": [
        {
          "output_type": "stream",
          "text": [
            "['Red']\n"
          ],
          "name": "stdout"
        }
      ]
    },
    {
      "cell_type": "markdown",
      "metadata": {
        "id": "FSf94PlKbC9i"
      },
      "source": [
        "Match 28 "
      ]
    },
    {
      "cell_type": "code",
      "metadata": {
        "id": "dI76r5k9bFZD",
        "colab": {
          "base_uri": "https://localhost:8080/"
        },
        "outputId": "ba3e73d1-c2eb-4353-a9de-665384b169b9"
      },
      "source": [
        "# Michelle Waterson\tvs\tAngela Hill (Michelle Waterson)\n",
        "\n",
        "match_28_R = R_stats.loc[R_stats['R_fighter'] == 'Michelle Waterson'].reset_index(drop=True)\n",
        "years = actual_year - int(match_28_R.loc[0,'date'].split(\"-\")[0]) \n",
        "n_years = match_28_R.loc[0,'R_age'] + years\n",
        "match_28_R_mean = match_28_R.mean()\n",
        "match_28_R_mean.loc['R_age'] = n_years\n",
        "match_28_B = B_stats.loc[B_stats['B_fighter'] == 'Angela Hill'].reset_index(drop=True)\n",
        "years = actual_year - int(match_28_B.loc[0,'date'].split(\"-\")[0])\n",
        "n_years = match_28_B.loc[0,'B_age'] + years \n",
        "match_28_B_mean = match_28_B.mean()\n",
        "match_28_B_mean.loc['B_age'] = n_years\n",
        "match_28_input =  pd.concat([match_28_R_mean,match_28_B_mean])\n",
        "match_28_input = pd.DataFrame(match_28_input).T\n",
        "match_28_input = match_28_input[inputs]\n",
        "f28 = dt.predict_proba(match_28_input.values) \n",
        "prob_DF_28 =  pd.DataFrame(f28, columns=dt.classes_)\n",
        "prob_DF_28.head(1)"
      ],
      "execution_count": null,
      "outputs": [
        {
          "output_type": "execute_result",
          "data": {
            "text/html": [
              "<div>\n",
              "<style scoped>\n",
              "    .dataframe tbody tr th:only-of-type {\n",
              "        vertical-align: middle;\n",
              "    }\n",
              "\n",
              "    .dataframe tbody tr th {\n",
              "        vertical-align: top;\n",
              "    }\n",
              "\n",
              "    .dataframe thead th {\n",
              "        text-align: right;\n",
              "    }\n",
              "</style>\n",
              "<table border=\"1\" class=\"dataframe\">\n",
              "  <thead>\n",
              "    <tr style=\"text-align: right;\">\n",
              "      <th></th>\n",
              "      <th>Blue</th>\n",
              "      <th>Draw</th>\n",
              "      <th>Red</th>\n",
              "    </tr>\n",
              "  </thead>\n",
              "  <tbody>\n",
              "    <tr>\n",
              "      <th>0</th>\n",
              "      <td>0.495536</td>\n",
              "      <td>0.026786</td>\n",
              "      <td>0.477679</td>\n",
              "    </tr>\n",
              "  </tbody>\n",
              "</table>\n",
              "</div>"
            ],
            "text/plain": [
              "       Blue      Draw       Red\n",
              "0  0.495536  0.026786  0.477679"
            ]
          },
          "metadata": {
            "tags": []
          },
          "execution_count": 64
        }
      ]
    },
    {
      "cell_type": "code",
      "metadata": {
        "id": "kXQ0EWu1P_eI",
        "colab": {
          "base_uri": "https://localhost:8080/"
        },
        "outputId": "e42f4670-1db1-4ccc-d0bb-d8131bd207ba"
      },
      "source": [
        "m1b = dt.predict(match_28_input.values) \n",
        "print(m1b)"
      ],
      "execution_count": null,
      "outputs": [
        {
          "output_type": "stream",
          "text": [
            "['Blue']\n"
          ],
          "name": "stdout"
        }
      ]
    },
    {
      "cell_type": "markdown",
      "metadata": {
        "id": "uGZJnLfibXlD"
      },
      "source": [
        "Match 29"
      ]
    },
    {
      "cell_type": "code",
      "metadata": {
        "id": "tA5nFHbD0Cz6",
        "colab": {
          "base_uri": "https://localhost:8080/"
        },
        "outputId": "00c61ff7-ddb2-45ad-9fc7-c47d80afc0b2"
      },
      "source": [
        "# Bobby Green\tvs\tAlan Patrick (Winner: Bobby Green)\n",
        "match_29_R = R_stats.loc[R_stats['R_fighter'] == 'Bobby Green'].reset_index(drop=True)\n",
        "years = actual_year - int(match_29_R.loc[0,'date'].split(\"-\")[0]) \n",
        "n_years = match_29_R.loc[0,'R_age'] + years\n",
        "match_29_R_mean = match_29_R.mean()\n",
        "match_29_R_mean.loc['R_age'] = n_years\n",
        "match_29_B = B_stats.loc[B_stats['B_fighter'] == 'Alan Patrick'].reset_index(drop=True)\n",
        "years = actual_year - int(match_29_B.loc[0,'date'].split(\"-\")[0])\n",
        "n_years = match_29_B.loc[0,'B_age'] + years \n",
        "match_29_B_mean = match_29_B.mean()\n",
        "match_29_B_mean.loc['B_age'] = n_years\n",
        "match_29_input =  pd.concat([match_29_R_mean,match_29_B_mean])\n",
        "match_29_input = pd.DataFrame(match_29_input).T\n",
        "match_29_input = match_29_input[inputs]\n",
        "f29 = dt.predict_proba(match_29_input.values) \n",
        "prob_DF_29 =  pd.DataFrame(f29, columns=dt.classes_)\n",
        "prob_DF_29.head(1)"
      ],
      "execution_count": null,
      "outputs": [
        {
          "output_type": "execute_result",
          "data": {
            "text/html": [
              "<div>\n",
              "<style scoped>\n",
              "    .dataframe tbody tr th:only-of-type {\n",
              "        vertical-align: middle;\n",
              "    }\n",
              "\n",
              "    .dataframe tbody tr th {\n",
              "        vertical-align: top;\n",
              "    }\n",
              "\n",
              "    .dataframe thead th {\n",
              "        text-align: right;\n",
              "    }\n",
              "</style>\n",
              "<table border=\"1\" class=\"dataframe\">\n",
              "  <thead>\n",
              "    <tr style=\"text-align: right;\">\n",
              "      <th></th>\n",
              "      <th>Blue</th>\n",
              "      <th>Draw</th>\n",
              "      <th>Red</th>\n",
              "    </tr>\n",
              "  </thead>\n",
              "  <tbody>\n",
              "    <tr>\n",
              "      <th>0</th>\n",
              "      <td>0.333333</td>\n",
              "      <td>0.011494</td>\n",
              "      <td>0.655172</td>\n",
              "    </tr>\n",
              "  </tbody>\n",
              "</table>\n",
              "</div>"
            ],
            "text/plain": [
              "       Blue      Draw       Red\n",
              "0  0.333333  0.011494  0.655172"
            ]
          },
          "metadata": {
            "tags": []
          },
          "execution_count": 66
        }
      ]
    },
    {
      "cell_type": "code",
      "metadata": {
        "id": "e0isOWwiwKaj",
        "colab": {
          "base_uri": "https://localhost:8080/"
        },
        "outputId": "3317c142-fd0b-470b-b262-29f78974dd4c"
      },
      "source": [
        "m1b = dt.predict(match_29_input.values) \n",
        "print(m1b)"
      ],
      "execution_count": null,
      "outputs": [
        {
          "output_type": "stream",
          "text": [
            "['Red']\n"
          ],
          "name": "stdout"
        }
      ]
    },
    {
      "cell_type": "markdown",
      "metadata": {
        "id": "RWT-C2SUcENy"
      },
      "source": [
        "Match 30"
      ]
    },
    {
      "cell_type": "code",
      "metadata": {
        "id": "19qRXqTAcGGt",
        "colab": {
          "base_uri": "https://localhost:8080/"
        },
        "outputId": "8476b0cf-d5de-4227-bd15-4b3a79278184"
      },
      "source": [
        "# Sijara Eubanks\tvs\tJulia Avila\n",
        "#\n",
        "# En este caso no existía registro de Julia Avila en la base de datos, por lo que se reemplazó con\n",
        "#Gina Mazany que tenía una categoría de peso similar, una edad similar y jugaba como la luchadora azul\n",
        "\n",
        "match_30_R = R_stats.loc[R_stats['R_fighter'] == 'Sijara Eubanks'].reset_index(drop=True)\n",
        "years = actual_year - int(match_30_R.loc[0,'date'].split(\"-\")[0]) \n",
        "n_years = match_30_R.loc[0,'R_age'] + years\n",
        "match_30_R_mean = match_30_R.mean()\n",
        "match_30_R_mean.loc['R_age'] = n_years\n",
        "match_30_B = B_stats.loc[B_stats['B_fighter'] == 'Gina Mazany'].reset_index(drop=True)\n",
        "years = actual_year - int(match_30_B.loc[0,'date'].split(\"-\")[0])\n",
        "n_years = match_30_B.loc[0,'B_age'] + years\n",
        "match_30_B_mean = match_30_B.mean()\n",
        "match_30_B_mean.loc['B_age'] = n_years\n",
        "match_30_input =  pd.concat([match_30_R_mean,match_30_B_mean])\n",
        "match_30_input = pd.DataFrame(match_30_input).T\n",
        "match_30_input = match_30_input[inputs]\n",
        "f30 = dt.predict_proba(match_30_input.values) \n",
        "prob_DF_30 =  pd.DataFrame(f30, columns=dt.classes_)\n",
        "prob_DF_30.head(1)"
      ],
      "execution_count": null,
      "outputs": [
        {
          "output_type": "execute_result",
          "data": {
            "text/html": [
              "<div>\n",
              "<style scoped>\n",
              "    .dataframe tbody tr th:only-of-type {\n",
              "        vertical-align: middle;\n",
              "    }\n",
              "\n",
              "    .dataframe tbody tr th {\n",
              "        vertical-align: top;\n",
              "    }\n",
              "\n",
              "    .dataframe thead th {\n",
              "        text-align: right;\n",
              "    }\n",
              "</style>\n",
              "<table border=\"1\" class=\"dataframe\">\n",
              "  <thead>\n",
              "    <tr style=\"text-align: right;\">\n",
              "      <th></th>\n",
              "      <th>Blue</th>\n",
              "      <th>Draw</th>\n",
              "      <th>Red</th>\n",
              "    </tr>\n",
              "  </thead>\n",
              "  <tbody>\n",
              "    <tr>\n",
              "      <th>0</th>\n",
              "      <td>0.048387</td>\n",
              "      <td>0.016129</td>\n",
              "      <td>0.935484</td>\n",
              "    </tr>\n",
              "  </tbody>\n",
              "</table>\n",
              "</div>"
            ],
            "text/plain": [
              "       Blue      Draw       Red\n",
              "0  0.048387  0.016129  0.935484"
            ]
          },
          "metadata": {
            "tags": []
          },
          "execution_count": 68
        }
      ]
    },
    {
      "cell_type": "code",
      "metadata": {
        "id": "fuUYtBPsV_8I",
        "colab": {
          "base_uri": "https://localhost:8080/"
        },
        "outputId": "77e284b3-c55f-41b8-dfbe-1e10954671f4"
      },
      "source": [
        "m1b = dt.predict(match_30_input.values) \n",
        "print(m1b)"
      ],
      "execution_count": null,
      "outputs": [
        {
          "output_type": "stream",
          "text": [
            "['Red']\n"
          ],
          "name": "stdout"
        }
      ]
    },
    {
      "cell_type": "markdown",
      "metadata": {
        "id": "Cg9d0EOucGul"
      },
      "source": [
        "Match 31"
      ]
    },
    {
      "cell_type": "code",
      "metadata": {
        "id": "3uN3urjLcL0D",
        "colab": {
          "base_uri": "https://localhost:8080/"
        },
        "outputId": "0224e465-aa3b-4479-e0a0-c4a0e4d752c3"
      },
      "source": [
        "# Sabina Mazo\tvs\tJustine Kish #\n",
        "\n",
        "# Sabina Mazo only had one sample according to the database and in that sample, the stats needed were missing. \n",
        "\n",
        "# In this case a similar fighter was chosen to take the stats this was Montana De La Rosa the criteria was the weight class, the height, and the age similar to Sabina Mazo.  \n",
        "\n",
        "match_31_R = R_stats.loc[R_stats['R_fighter'] == 'Montana De La Rosa'].reset_index(drop=True)\n",
        "years = actual_year - int(match_31_R.loc[0,'date'].split(\"-\")[0]) \n",
        "n_years = match_31_R.loc[0,'R_age'] + years\n",
        "match_31_R_mean = match_31_R.mean()\n",
        "match_31_R_mean.loc['R_age'] = n_years\n",
        "\n",
        "match_31_B = B_stats.loc[B_stats['B_fighter'] == 'Justine Kish'].reset_index(drop=True)\n",
        "years = actual_year - int(match_31_B.loc[0,'date'].split(\"-\")[0])\n",
        "n_years = match_31_B.loc[0,'B_age'] + years \n",
        "match_31_B_mean = match_31_B.mean()\n",
        "match_31_B_mean.loc['B_age'] = n_years\n",
        "\n",
        "match_31_input =  pd.concat([match_31_R_mean,match_31_B_mean])\n",
        "match_31_input = pd.DataFrame(match_31_input).T\n",
        "match_31_input = match_31_input[inputs]\n",
        "\n",
        "f31 = dt.predict_proba(match_31_input.values) \n",
        "prob_DF_31 =  pd.DataFrame(f31, columns=dt.classes_)\n",
        "prob_DF_31.head(1)"
      ],
      "execution_count": null,
      "outputs": [
        {
          "output_type": "execute_result",
          "data": {
            "text/html": [
              "<div>\n",
              "<style scoped>\n",
              "    .dataframe tbody tr th:only-of-type {\n",
              "        vertical-align: middle;\n",
              "    }\n",
              "\n",
              "    .dataframe tbody tr th {\n",
              "        vertical-align: top;\n",
              "    }\n",
              "\n",
              "    .dataframe thead th {\n",
              "        text-align: right;\n",
              "    }\n",
              "</style>\n",
              "<table border=\"1\" class=\"dataframe\">\n",
              "  <thead>\n",
              "    <tr style=\"text-align: right;\">\n",
              "      <th></th>\n",
              "      <th>Blue</th>\n",
              "      <th>Draw</th>\n",
              "      <th>Red</th>\n",
              "    </tr>\n",
              "  </thead>\n",
              "  <tbody>\n",
              "    <tr>\n",
              "      <th>0</th>\n",
              "      <td>0.485</td>\n",
              "      <td>0.016667</td>\n",
              "      <td>0.498333</td>\n",
              "    </tr>\n",
              "  </tbody>\n",
              "</table>\n",
              "</div>"
            ],
            "text/plain": [
              "    Blue      Draw       Red\n",
              "0  0.485  0.016667  0.498333"
            ]
          },
          "metadata": {
            "tags": []
          },
          "execution_count": 70
        }
      ]
    },
    {
      "cell_type": "code",
      "metadata": {
        "id": "jNneJCyqWCcN",
        "colab": {
          "base_uri": "https://localhost:8080/"
        },
        "outputId": "60e36881-798b-4685-d7a7-5a6e471fe3a0"
      },
      "source": [
        "m1b = dt.predict(match_31_input.values) \n",
        "print(m1b)"
      ],
      "execution_count": null,
      "outputs": [
        {
          "output_type": "stream",
          "text": [
            "['Red']\n"
          ],
          "name": "stdout"
        }
      ]
    },
    {
      "cell_type": "markdown",
      "metadata": {
        "id": "f8-OWTy1IUE2"
      },
      "source": [
        "Matches probability "
      ]
    },
    {
      "cell_type": "code",
      "metadata": {
        "id": "qdGTOilwFbMO"
      },
      "source": [
        "final_p_score = pd.concat([prob_DF_1,prob_DF_2, prob_DF_3,prob_DF_4,prob_DF_5,prob_DF_6,prob_DF_7,prob_DF_8,prob_DF_9,prob_DF_10,prob_DF_11,prob_DF_12,prob_DF_13,prob_DF_14,prob_DF_15,prob_DF_16,prob_DF_17,prob_DF_18,prob_DF_19,prob_DF_20,prob_DF_21,\n",
        "                           prob_DF_22, prob_DF_23,prob_DF_24,prob_DF_25,prob_DF_26,prob_DF_27,prob_DF_28,prob_DF_29,prob_DF_30,prob_DF_31]).reset_index(drop=True)\n",
        "final_p_score = final_p_score[['Red','Draw','Blue']]\n",
        "\n",
        "final_p_score.head(31)\n",
        "\n",
        "final_p_score.to_csv(\"Probability_Matches.csv\")"
      ],
      "execution_count": null,
      "outputs": []
    },
    {
      "cell_type": "markdown",
      "metadata": {
        "id": "Afk1cs9IPpba"
      },
      "source": [
        "Compute Rank probability score RPS "
      ]
    },
    {
      "cell_type": "code",
      "metadata": {
        "colab": {
          "base_uri": "https://localhost:8080/"
        },
        "id": "v6-2TYa8MRuc",
        "outputId": "51405a24-9368-4672-dd80-4950bf958be0"
      },
      "source": [
        "rps = ((final_p_score['Red']-actual_values['R_fighter'])**2+((final_p_score['Red']-actual_values['R_fighter'])+ final_p_score['Draw']-actual_values['Draw'])**2)/2\n",
        "print(rps)\n",
        "print('Avarage value:',rps.mean(axis=0))"
      ],
      "execution_count": null,
      "outputs": [
        {
          "output_type": "stream",
          "text": [
            "0     0.025194\n",
            "1     0.162085\n",
            "2     0.162085\n",
            "3     0.162851\n",
            "4     0.017013\n",
            "5     0.162085\n",
            "6     0.243447\n",
            "7     0.042806\n",
            "8     0.048892\n",
            "9     0.243447\n",
            "10    0.115009\n",
            "11    0.243447\n",
            "12    0.042806\n",
            "13    0.658895\n",
            "14    0.243447\n",
            "15    0.243447\n",
            "16    0.259188\n",
            "17    1.000000\n",
            "18    0.115009\n",
            "19    0.243447\n",
            "20    0.259188\n",
            "21    0.062500\n",
            "22    0.252066\n",
            "23    0.042806\n",
            "24    0.003252\n",
            "25    0.243447\n",
            "26    0.082813\n",
            "27    0.259188\n",
            "28    0.115009\n",
            "29    0.003252\n",
            "30    0.243447\n",
            "dtype: float64\n",
            "Avarage value: 0.1935989378945617\n"
          ],
          "name": "stdout"
        }
      ]
    }
  ]
}